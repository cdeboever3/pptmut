{
 "metadata": {
  "name": "",
  "signature": "sha256:dac6499e4eddfe79e230bbe7f5022e501c36e1fd5525d1555bdcad4abb212873"
 },
 "nbformat": 3,
 "nbformat_minor": 0,
 "worksheets": [
  {
   "cells": [
    {
     "cell_type": "markdown",
     "metadata": {},
     "source": [
      "# External data\n",
      "\n",
      "This notebook has commands to download some external \n",
      "data that are needed in various notebooks. Rather than\n",
      "saving these into the `output` directory with the output\n",
      "from other notebooks, I'll save them in a directory \n",
      "`ext_data` to denote that they are just downloaded files,\n",
      "not files that I created. I also won't store these on \n",
      "figshare."
     ]
    },
    {
     "cell_type": "code",
     "collapsed": false,
     "input": [
      "import os\n",
      "import shutil\n",
      "import subprocess\n",
      "from urllib2 import urlopen\n",
      "\n",
      "import pypptmut as pm"
     ],
     "language": "python",
     "metadata": {},
     "outputs": [],
     "prompt_number": 1
    },
    {
     "cell_type": "code",
     "collapsed": false,
     "input": [
      "outdir = os.path.join(pm.root, 'external_data')\n",
      "pm.makedir(outdir)"
     ],
     "language": "python",
     "metadata": {},
     "outputs": [],
     "prompt_number": 2
    },
    {
     "cell_type": "markdown",
     "metadata": {},
     "source": [
      "## hg19\n",
      "\n",
      "I'll download hg19 from UCSC, convert to fasta and\n",
      "index with samtools. Note that I'm assuming samtools is in your path."
     ]
    },
    {
     "cell_type": "code",
     "collapsed": false,
     "input": [
      "f = pm.hg19\n",
      "if not os.path.exists(f):\n",
      "    subdir = os.path.join(outdir, 'hg19')\n",
      "    pm.makedir(subdir)\n",
      "    req = urlopen('http://hgdownload.cse.ucsc.edu/goldenPath/hg19/bigZips/hg19.2bit')\n",
      "    dest_one = os.path.join(subdir, 'hg19.2bit')\n",
      "    with open(dest_one, 'w') as d:\n",
      "        shutil.copyfileobj(req, d)\n",
      "    req = urlopen('http://hgdownload.cse.ucsc.edu/admin/exe/linux.x86_64/twoBitToFa')\n",
      "    dest_two = os.path.join(subdir, 'twoBitToFa')\n",
      "    with open(dest_two, 'w') as d:\n",
      "        shutil.copyfileobj(req, d)\n",
      "    subprocess.check_call(['chmod', '755', dest_two])\n",
      "    subprocess.check_call([dest_two, dest_one, pm.hg19])\n",
      "    subprocess.check_call(['samtools', 'faidx', pm.hg19])"
     ],
     "language": "python",
     "metadata": {},
     "outputs": [],
     "prompt_number": 14
    },
    {
     "cell_type": "markdown",
     "metadata": {},
     "source": [
      "## Gencode GTF\n",
      "\n",
      "We'll download the Gencode v19 GTF if we don't have it."
     ]
    },
    {
     "cell_type": "code",
     "collapsed": false,
     "input": [
      "# Download Gencode GTF\n",
      "src = 'ftp://ftp.sanger.ac.uk/pub/gencode/Gencode_human/release_19/gencode.v19.annotation.gtf.gz'\n",
      "dest = pm.gencode_gtf\n",
      "if not os.path.exists(dest):\n",
      "    pm.makedir(os.path.join(outdir, 'gencode'))\n",
      "    print('Downloading '.format(dest))\n",
      "    req = urlopen(src)\n",
      "    with open(dest + '.gz', 'w') as f:\n",
      "        shutil.copyfileobj(req, f)\n",
      "    subprocess.check_call(['gunzip', dest + '.gz'])"
     ],
     "language": "python",
     "metadata": {},
     "outputs": [
      {
       "output_type": "stream",
       "stream": "stdout",
       "text": [
        "Downloading \n"
       ]
      }
     ],
     "prompt_number": 13
    }
   ],
   "metadata": {}
  }
 ]
}