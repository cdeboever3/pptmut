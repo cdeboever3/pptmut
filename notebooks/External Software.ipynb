{
 "metadata": {
  "name": "",
  "signature": "sha256:6d1fe3e13077c7d92c0b70857c7948eee81c0e82599f26471c3d22e0af2e4050"
 },
 "nbformat": 3,
 "nbformat_minor": 0,
 "worksheets": [
  {
   "cells": [
    {
     "cell_type": "markdown",
     "metadata": {},
     "source": [
      "This notebook has commands to download some external \n",
      "software that is needed in various notebooks. Rather than\n",
      "saving these into the `output` directory with the output\n",
      "from other notebooks, I'll save them in the directories `software`\n",
      "to denote that they are just downloaded files,\n",
      "not files that I created. I also won't store these on \n",
      "figshare.\n",
      "\n",
      "There are some tools that I have in here right now that\n",
      "I'm not using. I'm leaving the commands in to download them\n",
      "in case I start using them in the future, or I'll eventually\n",
      "remove the commands."
     ]
    },
    {
     "cell_type": "code",
     "collapsed": false,
     "input": [
      "import os\n",
      "import shutil\n",
      "import subprocess\n",
      "from urllib2 import urlopen\n",
      "\n",
      "import projectpy as ppy\n",
      "\n",
      "%load_ext autoreload\n",
      "%autoreload 2"
     ],
     "language": "python",
     "metadata": {},
     "outputs": [],
     "prompt_number": 1
    },
    {
     "cell_type": "code",
     "collapsed": false,
     "input": [
      "software = os.path.join(ppy.root, 'software')\n",
      "ppy.makedir(software)"
     ],
     "language": "python",
     "metadata": {},
     "outputs": [],
     "prompt_number": 2
    },
    {
     "cell_type": "markdown",
     "metadata": {},
     "source": [
      "# Samtools"
     ]
    },
    {
     "cell_type": "code",
     "collapsed": false,
     "input": [
      "f = ppy.samtools\n",
      "if not os.path.exists(f):\n",
      "    req = urlopen('http://sourceforge.net/projects/samtools/'\n",
      "                  'files/samtools/1.0/'\n",
      "                  'samtools-bcftools-htslib-1.0_x64-linux.tar.bz2/download')\n",
      "    dest = os.path.join(ppy.root, 'software', \n",
      "                        'samtools-bcftools-htslib-1.0_x64-linux.tar.bz2')\n",
      "    with open(dest, 'w') as d:\n",
      "        shutil.copyfileobj(req, d)\n",
      "    subprocess.check_call('tar -xvf {} -C {}'.format(dest, os.path.split(dest)[0]),\n",
      "                          shell=True)"
     ],
     "language": "python",
     "metadata": {},
     "outputs": [],
     "prompt_number": 3
    },
    {
     "cell_type": "markdown",
     "metadata": {},
     "source": [
      "# Picard tools\n",
      "\n",
      "We'll use Picard tools for sorting and indexing bams, etc."
     ]
    },
    {
     "cell_type": "code",
     "collapsed": false,
     "input": [
      "f = ppy.picard\n",
      "if not os.path.exists(f):\n",
      "    req = urlopen('http://sourceforge.net/projects/picard/files/picard-tools/'\n",
      "                  '1.118/picard-tools-1.118.zip/download')\n",
      "    dest = os.path.join(ppy.root, 'software', 'picard-tools-1.118.zip')\n",
      "    with open(dest, 'w') as d:\n",
      "        shutil.copyfileobj(req, d)\n",
      "    subprocess.check_call(['unzip', dest, '-d', software])"
     ],
     "language": "python",
     "metadata": {},
     "outputs": [],
     "prompt_number": 4
    },
    {
     "cell_type": "markdown",
     "metadata": {},
     "source": [
      "# R"
     ]
    },
    {
     "cell_type": "code",
     "collapsed": false,
     "input": [
      "f = ppy.R\n",
      "if not os.path.exists(f):\n",
      "    req = urlopen('http://cran.stat.ucla.edu/src/base/R-3/R-3.1.1.tar.gz')\n",
      "    dest = os.path.join(ppy.root, 'software', 'R-3.1.1.tar.gz')\n",
      "    with open(dest, 'w') as d:\n",
      "        shutil.copyfileobj(req, d)\n",
      "    subprocess.check_call('tar -xvf {} -C {}'.format(dest, os.path.split(dest)[0]), \n",
      "                          shell=True)\n",
      "    cwd = os.getcwd()\n",
      "    os.chdir(os.path.join(ppy.root, 'software'))\n",
      "    shutil.move('R-3.1.1', 'R-3.1.1-source')\n",
      "    rpath = os.getcwd()\n",
      "    os.chdir('R-3.1.1-source')\n",
      "    subprocess.check_call(('./configure ' + \n",
      "                           '--enable-R-shlib ' + \n",
      "                           '--prefix={}/R-3.1.1 '.format(rpath) + \n",
      "                           '> R_configure.out ',\n",
      "                           '2> R_configure.err'),\n",
      "                          shell=True)\n",
      "    subprocess.check_call('make > R_make.out 2> R_make.err', shell=True)\n",
      "    subprocess.check_call('make check > R_check.out 2> R_check.err', \n",
      "                          shell=True)\n",
      "    subprocess.check_call('make install > R_install.out 2> R_install.err', \n",
      "                          shell=True)\n",
      "    os.chdir(cwd)"
     ],
     "language": "python",
     "metadata": {},
     "outputs": [],
     "prompt_number": 5
    },
    {
     "cell_type": "markdown",
     "metadata": {},
     "source": [
      "# rpy2\n",
      "\n",
      "`rpy2` has to be compiled against the version of \n",
      "R we've installed here. Note that you have to set \n",
      "ld flags and library paths for installation. I do \n",
      "this with the following:\n",
      "\n",
      "    spath = os.getcwd()\n",
      "    subprocess.check_call('export LDFLAGS=\"-Wl,-rpath,' + \n",
      "                          '{}/R-3.1.1/lib64/R/lib\"'.format(spath),\n",
      "                          shell=True)\n",
      "    subprocess.check_call('export LD_LIBRARY_PATH=\"' + \n",
      "                          '{}/R-3.1.1/lib64/R/lib:$LD_LIBRARY_PATH\"'.format(spath),\n",
      "                          shell=True)\n",
      "                          \n",
      "I execute the following python file when starting\n",
      "the notebook server to set the library path:\n",
      "\n",
      "    import os\n",
      "    import subprocess\n",
      "\n",
      "    import projectpy as ppy \n",
      "\n",
      "    spath = os.path.join(ppy.root, 'software')\n",
      "    subprocess.check_call('export LDFLAGS=\"-Wl,-rpath,' + \n",
      "                          '{}/R-3.1.1/lib64/R/lib\"'.format(spath),\n",
      "                          shell=True)\n",
      "    subprocess.check_call('export LD_LIBRARY_PATH=\"' + \n",
      "                          '{}/R-3.1.1/lib64/R/lib:$LD_LIBRARY_PATH\"'.format(spath),\n",
      "                          shell=True)"
     ]
    },
    {
     "cell_type": "code",
     "collapsed": false,
     "input": [
      "try: \n",
      "    import rpy2.robjects as r\n",
      "except:\n",
      "    cwd = os.getcwd()\n",
      "    os.chdir(os.path.join(ppy.root, 'software'))\n",
      "    spath = os.getcwd()\n",
      "\n",
      "    req = urlopen('https://pypi.python.org/packages/'\n",
      "                  'source/r/rpy2/rpy2-2.4.3.tar.gz')\n",
      "    dest = os.path.join(ppy.root, 'software', 'rpy2-2.4.3.tar.gz')\n",
      "    with open(dest, 'w') as d:\n",
      "        shutil.copyfileobj(req, d)\n",
      "    subprocess.check_call('tar -xvf {} -C {}'.format(dest, os.path.split(dest)[0]), \n",
      "                          shell=True)\n",
      "    os.chdir('rpy2-2.4.3')\n",
      "    subprocess.check_call('python setup.py build --r-home ' + \n",
      "                          '{}/R-3.1.1 install >& '.format(spath) + \n",
      "                          'rpy2-2.4.3_R-3.1.1_log.txt', shell=True)\n",
      "    os.chdir(cwd)"
     ],
     "language": "python",
     "metadata": {},
     "outputs": [],
     "prompt_number": 6
    },
    {
     "cell_type": "code",
     "collapsed": false,
     "input": [],
     "language": "python",
     "metadata": {},
     "outputs": [],
     "prompt_number": 6
    }
   ],
   "metadata": {}
  }
 ]
}