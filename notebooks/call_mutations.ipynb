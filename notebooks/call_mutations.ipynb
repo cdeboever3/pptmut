{
 "metadata": {
  "name": "",
  "signature": "sha256:5b5363cf640512ccfd1f06cbd6a89d5dab14364a9d3b00a2822583f9bec97015"
 },
 "nbformat": 3,
 "nbformat_minor": 0,
 "worksheets": [
  {
   "cells": [
    {
     "cell_type": "markdown",
     "metadata": {},
     "source": [
      "# Call Mutations\n",
      "\n",
      "In this notebook, I will grab read data from the \n",
      "TCGA using GTFuse and call mutations.\n",
      "\n",
      "### Extra dependencies\n",
      "\n",
      "TODO: Finish this when done. Need cgquery?\n",
      "\n",
      "You'll need muTect in the `software` directory\n",
      "and samtools and GTFuse in your path.\n",
      "\n",
      "\n",
      "\n",
      "TODO: I need to finish setting up muTect (get dbSNP, hg19, COSMIC vcf(?), etc.)\n",
      "\n",
      "http://gatkforums.broadinstitute.org/discussion/1213/whats-in-the-resource-bundle-and-how-can-i-get-it\n",
      "\n",
      "Genome fasta from here: ftp://ftp.ncbi.nih.gov/genbank/genomes/Eukaryotes/vertebrates_mammals/Homo_sapiens/GRCh37/special_requests/"
     ]
    },
    {
     "cell_type": "code",
     "collapsed": false,
     "input": [],
     "language": "python",
     "metadata": {},
     "outputs": []
    }
   ],
   "metadata": {}
  }
 ]
}