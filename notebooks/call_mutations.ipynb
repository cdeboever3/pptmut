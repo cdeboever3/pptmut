{
 "metadata": {
  "name": "",
  "signature": "sha256:aa171a4ec0eb61ac273c7bfcdf420f8c1613e9978a2044aa5ad4d884a8e9a867"
 },
 "nbformat": 3,
 "nbformat_minor": 0,
 "worksheets": [
  {
   "cells": [
    {
     "cell_type": "markdown",
     "metadata": {},
     "source": [
      "# Call Mutations\n",
      "\n",
      "In this notebook, I will grab read data from the \n",
      "TCGA using GTFuse and call mutations.\n",
      "\n",
      "### Extra dependencies\n",
      "\n",
      "TODO: Finish this when done. What are all the dependencies?\n",
      "\n",
      "You'll need muTect in the `software` directory\n",
      "and samtools and GTFuse in your path.\n",
      "\n",
      "    /usr/lib64/jvm/java-1.6.0/bin/java -jar /raid/software/src/muTect-1.1.4/muTect-1.1.4.jar \\\n",
      "     -T              MuTect \\\n",
      "     -L              REGION \\\n",
      "     -R              /raid/references-and-indexes/GRCh37/GRCh37-lite.fa \\\n",
      "     --dbsnp         /raid/databases/snp/dbsnp_137.hg19_lite_noCHR.vcf \\\n",
      "     -I:normal       RAID/samples/BARCODE/BARCODE-N.REGION_ID.bam \\\n",
      "     -I:tumor        RAID/samples/BARCODE/BARCODE-T.REGION_ID.bam \\\n",
      "     --out           RAID/samples/BARCODE/BARCODE.REGION_ID.out \\\n",
      "     --coverage_file RAID/samples/BARCODE/BARCODE.REGION_ID.wig.txt &"
     ]
    },
    {
     "cell_type": "code",
     "collapsed": false,
     "input": [
      "import os\n",
      "import subprocess\n",
      "\n",
      "import pandas as pd\n",
      "\n",
      "import pypptmut as pm"
     ],
     "language": "python",
     "metadata": {},
     "outputs": [],
     "prompt_number": 7
    },
    {
     "cell_type": "code",
     "collapsed": false,
     "input": [
      "samples = pd.read_table(pm.target_samples,\n",
      "                        index_col=0, header=0)\n",
      "\n",
      "intervals = pd.read_table(pm.target_intervals_merged,\n",
      "                          index_col=None, header=None)"
     ],
     "language": "python",
     "metadata": {},
     "outputs": [],
     "prompt_number": 5
    },
    {
     "cell_type": "code",
     "collapsed": false,
     "input": [
      "def mount_bam(analysis_id, mount_point='.'):\n",
      "    pm.makedir(os.path.join(mount_point, 'mnt'))\n",
      "    pm.makedir(os.path.join(mount_point, 'cache'))\n",
      "    url = 'https://cghub.ucsc.edu/cghub/data/analysis/download/{}'.format(analysis_id)\n",
      "    subprocess.check_call(['gtfuse', \n",
      "                           '--ssl-no-verify-ca',\n",
      "                           url,\n",
      "                           mount_point])"
     ],
     "language": "python",
     "metadata": {},
     "outputs": [],
     "prompt_number": 25
    },
    {
     "cell_type": "code",
     "collapsed": false,
     "input": [
      "' '.join(['gtfuse', '--ssl-no-verify-ca', 'https://cghub.ucsc.edu/cghub/data/analysis/download/6f325ae2-9902-43c3-a0e5-3ec11568f154', 'mnt'])"
     ],
     "language": "python",
     "metadata": {},
     "outputs": [
      {
       "metadata": {},
       "output_type": "pyout",
       "prompt_number": 22,
       "text": [
        "'gtfuse --ssl-no-verify-ca https://cghub.ucsc.edu/cghub/data/analysis/download/6f325ae2-9902-43c3-a0e5-3ec11568f154 mnt'"
       ]
      }
     ],
     "prompt_number": 22
    },
    {
     "cell_type": "code",
     "collapsed": false,
     "input": [
      "mount_bam(samples.tumor_analysis_id[0])"
     ],
     "language": "python",
     "metadata": {},
     "outputs": [
      {
       "ename": "CalledProcessError",
       "evalue": "Command '['gtfuse', '--ssl-no-verify-ca', 'https://cghub.ucsc.edu/cghub/data/analysis/download/6f325ae2-9902-43c3-a0e5-3ec11568f154', '.']' returned non-zero exit status 1",
       "output_type": "pyerr",
       "traceback": [
        "\u001b[1;31m---------------------------------------------------------------------------\u001b[0m\n\u001b[1;31mCalledProcessError\u001b[0m                        Traceback (most recent call last)",
        "\u001b[1;32m<ipython-input-26-a122b39a31a9>\u001b[0m in \u001b[0;36m<module>\u001b[1;34m()\u001b[0m\n\u001b[1;32m----> 1\u001b[1;33m \u001b[0mmount_bam\u001b[0m\u001b[1;33m(\u001b[0m\u001b[0msamples\u001b[0m\u001b[1;33m.\u001b[0m\u001b[0mtumor_analysis_id\u001b[0m\u001b[1;33m[\u001b[0m\u001b[1;36m0\u001b[0m\u001b[1;33m]\u001b[0m\u001b[1;33m)\u001b[0m\u001b[1;33m\u001b[0m\u001b[0m\n\u001b[0m",
        "\u001b[1;32m<ipython-input-25-715c96e1e437>\u001b[0m in \u001b[0;36mmount_bam\u001b[1;34m(analysis_id, mount_point)\u001b[0m\n\u001b[0;32m      6\u001b[0m                            \u001b[1;34m'--ssl-no-verify-ca'\u001b[0m\u001b[1;33m,\u001b[0m\u001b[1;33m\u001b[0m\u001b[0m\n\u001b[0;32m      7\u001b[0m                            \u001b[0murl\u001b[0m\u001b[1;33m,\u001b[0m\u001b[1;33m\u001b[0m\u001b[0m\n\u001b[1;32m----> 8\u001b[1;33m                            mount_point])\n\u001b[0m",
        "\u001b[1;32m/raid/development/cdeboever/software/anaconda1.9.1/envs/pptmut/lib/python2.7/subprocess.pyc\u001b[0m in \u001b[0;36mcheck_call\u001b[1;34m(*popenargs, **kwargs)\u001b[0m\n\u001b[0;32m    538\u001b[0m         \u001b[1;32mif\u001b[0m \u001b[0mcmd\u001b[0m \u001b[1;32mis\u001b[0m \u001b[0mNone\u001b[0m\u001b[1;33m:\u001b[0m\u001b[1;33m\u001b[0m\u001b[0m\n\u001b[0;32m    539\u001b[0m             \u001b[0mcmd\u001b[0m \u001b[1;33m=\u001b[0m \u001b[0mpopenargs\u001b[0m\u001b[1;33m[\u001b[0m\u001b[1;36m0\u001b[0m\u001b[1;33m]\u001b[0m\u001b[1;33m\u001b[0m\u001b[0m\n\u001b[1;32m--> 540\u001b[1;33m         \u001b[1;32mraise\u001b[0m \u001b[0mCalledProcessError\u001b[0m\u001b[1;33m(\u001b[0m\u001b[0mretcode\u001b[0m\u001b[1;33m,\u001b[0m \u001b[0mcmd\u001b[0m\u001b[1;33m)\u001b[0m\u001b[1;33m\u001b[0m\u001b[0m\n\u001b[0m\u001b[0;32m    541\u001b[0m     \u001b[1;32mreturn\u001b[0m \u001b[1;36m0\u001b[0m\u001b[1;33m\u001b[0m\u001b[0m\n\u001b[0;32m    542\u001b[0m \u001b[1;33m\u001b[0m\u001b[0m\n",
        "\u001b[1;31mCalledProcessError\u001b[0m: Command '['gtfuse', '--ssl-no-verify-ca', 'https://cghub.ucsc.edu/cghub/data/analysis/download/6f325ae2-9902-43c3-a0e5-3ec11568f154', '.']' returned non-zero exit status 1"
       ]
      }
     ],
     "prompt_number": 26
    },
    {
     "cell_type": "code",
     "collapsed": false,
     "input": [
      "intervals.head()"
     ],
     "language": "python",
     "metadata": {},
     "outputs": [
      {
       "html": [
        "<div style=\"max-height:1000px;max-width:1500px;overflow:auto;\">\n",
        "<table border=\"1\" class=\"dataframe\">\n",
        "  <thead>\n",
        "    <tr style=\"text-align: right;\">\n",
        "      <th></th>\n",
        "      <th>0</th>\n",
        "      <th>1</th>\n",
        "      <th>2</th>\n",
        "    </tr>\n",
        "  </thead>\n",
        "  <tbody>\n",
        "    <tr>\n",
        "      <th>0</th>\n",
        "      <td> 1</td>\n",
        "      <td> 2487873</td>\n",
        "      <td> 2488023</td>\n",
        "    </tr>\n",
        "    <tr>\n",
        "      <th>1</th>\n",
        "      <td> 1</td>\n",
        "      <td> 2489014</td>\n",
        "      <td> 2489164</td>\n",
        "    </tr>\n",
        "    <tr>\n",
        "      <th>2</th>\n",
        "      <td> 1</td>\n",
        "      <td> 2489631</td>\n",
        "      <td> 2489781</td>\n",
        "    </tr>\n",
        "    <tr>\n",
        "      <th>3</th>\n",
        "      <td> 1</td>\n",
        "      <td> 2490169</td>\n",
        "      <td> 2490319</td>\n",
        "    </tr>\n",
        "    <tr>\n",
        "      <th>4</th>\n",
        "      <td> 1</td>\n",
        "      <td> 2490640</td>\n",
        "      <td> 2490790</td>\n",
        "    </tr>\n",
        "  </tbody>\n",
        "</table>\n",
        "</div>"
       ],
       "metadata": {},
       "output_type": "pyout",
       "prompt_number": 6,
       "text": [
        "   0        1        2\n",
        "0  1  2487873  2488023\n",
        "1  1  2489014  2489164\n",
        "2  1  2489631  2489781\n",
        "3  1  2490169  2490319\n",
        "4  1  2490640  2490790"
       ]
      }
     ],
     "prompt_number": 6
    },
    {
     "cell_type": "code",
     "collapsed": false,
     "input": [
      "samples.head()"
     ],
     "language": "python",
     "metadata": {},
     "outputs": [
      {
       "html": [
        "<div style=\"max-height:1000px;max-width:1500px;overflow:auto;\">\n",
        "<table border=\"1\" class=\"dataframe\">\n",
        "  <thead>\n",
        "    <tr style=\"text-align: right;\">\n",
        "      <th></th>\n",
        "      <th>disease</th>\n",
        "      <th>center</th>\n",
        "      <th>tumor_analysis_id</th>\n",
        "      <th>normal_analysis_id</th>\n",
        "    </tr>\n",
        "    <tr>\n",
        "      <th>participant_id</th>\n",
        "      <th></th>\n",
        "      <th></th>\n",
        "      <th></th>\n",
        "      <th></th>\n",
        "    </tr>\n",
        "  </thead>\n",
        "  <tbody>\n",
        "    <tr>\n",
        "      <th>ffaa98a0-2b69-46dc-aee5-c5c3f2abbc38</th>\n",
        "      <td> UCEC</td>\n",
        "      <td>  WUGSC</td>\n",
        "      <td> 6f325ae2-9902-43c3-a0e5-3ec11568f154</td>\n",
        "      <td> 9763647c-b3b7-470e-9770-369071ce0515</td>\n",
        "    </tr>\n",
        "    <tr>\n",
        "      <th>ff9def3d-17e5-4ef6-b74e-933f11ed6f00</th>\n",
        "      <td> LUAD</td>\n",
        "      <td>     BI</td>\n",
        "      <td> 80bc7e87-66c7-4f6b-8944-bd13c332d141</td>\n",
        "      <td> 76d56eec-aae9-4b05-86b4-fd78dda1ab96</td>\n",
        "    </tr>\n",
        "    <tr>\n",
        "      <th>ff9db03d-f81c-4079-8b05-f5a8c05b8cfe</th>\n",
        "      <td> HNSC</td>\n",
        "      <td> HMS-RK</td>\n",
        "      <td> 55fcd2f6-6aec-4123-86df-dfcf875b6ca1</td>\n",
        "      <td> f5cbbffe-2e76-41cb-ae73-b982b2438b72</td>\n",
        "    </tr>\n",
        "    <tr>\n",
        "      <th>ff82548a-f1bb-4daa-a8f7-b3831b5843ad</th>\n",
        "      <td> UCEC</td>\n",
        "      <td> HMS-RK</td>\n",
        "      <td> 0db10b7c-ce59-473a-9243-837d41122276</td>\n",
        "      <td> d16a224b-81d6-48ec-93a6-458d671721fc</td>\n",
        "    </tr>\n",
        "    <tr>\n",
        "      <th>ff530f28-0ec0-4494-bb54-44bb055bae1c</th>\n",
        "      <td>   OV</td>\n",
        "      <td>  WUGSC</td>\n",
        "      <td> 8b88caf6-9485-40e3-80c5-8bc7267fe47e</td>\n",
        "      <td> aff9470e-dcdc-4b2c-8501-ef223bcee213</td>\n",
        "    </tr>\n",
        "  </tbody>\n",
        "</table>\n",
        "</div>"
       ],
       "metadata": {},
       "output_type": "pyout",
       "prompt_number": 3,
       "text": [
        "                                     disease  center  \\\n",
        "participant_id                                         \n",
        "ffaa98a0-2b69-46dc-aee5-c5c3f2abbc38    UCEC   WUGSC   \n",
        "ff9def3d-17e5-4ef6-b74e-933f11ed6f00    LUAD      BI   \n",
        "ff9db03d-f81c-4079-8b05-f5a8c05b8cfe    HNSC  HMS-RK   \n",
        "ff82548a-f1bb-4daa-a8f7-b3831b5843ad    UCEC  HMS-RK   \n",
        "ff530f28-0ec0-4494-bb54-44bb055bae1c      OV   WUGSC   \n",
        "\n",
        "                                                         tumor_analysis_id  \\\n",
        "participant_id                                                               \n",
        "ffaa98a0-2b69-46dc-aee5-c5c3f2abbc38  6f325ae2-9902-43c3-a0e5-3ec11568f154   \n",
        "ff9def3d-17e5-4ef6-b74e-933f11ed6f00  80bc7e87-66c7-4f6b-8944-bd13c332d141   \n",
        "ff9db03d-f81c-4079-8b05-f5a8c05b8cfe  55fcd2f6-6aec-4123-86df-dfcf875b6ca1   \n",
        "ff82548a-f1bb-4daa-a8f7-b3831b5843ad  0db10b7c-ce59-473a-9243-837d41122276   \n",
        "ff530f28-0ec0-4494-bb54-44bb055bae1c  8b88caf6-9485-40e3-80c5-8bc7267fe47e   \n",
        "\n",
        "                                                        normal_analysis_id  \n",
        "participant_id                                                              \n",
        "ffaa98a0-2b69-46dc-aee5-c5c3f2abbc38  9763647c-b3b7-470e-9770-369071ce0515  \n",
        "ff9def3d-17e5-4ef6-b74e-933f11ed6f00  76d56eec-aae9-4b05-86b4-fd78dda1ab96  \n",
        "ff9db03d-f81c-4079-8b05-f5a8c05b8cfe  f5cbbffe-2e76-41cb-ae73-b982b2438b72  \n",
        "ff82548a-f1bb-4daa-a8f7-b3831b5843ad  d16a224b-81d6-48ec-93a6-458d671721fc  \n",
        "ff530f28-0ec0-4494-bb54-44bb055bae1c  aff9470e-dcdc-4b2c-8501-ef223bcee213  "
       ]
      }
     ],
     "prompt_number": 3
    },
    {
     "cell_type": "code",
     "collapsed": false,
     "input": [],
     "language": "python",
     "metadata": {},
     "outputs": []
    }
   ],
   "metadata": {}
  }
 ]
}