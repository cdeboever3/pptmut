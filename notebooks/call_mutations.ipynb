{
 "metadata": {
  "name": "",
  "signature": "sha256:d3cacc1ad1d2c42edbd798a060283fa030a64cefed2e9f4f3a0ed20c980c2ede"
 },
 "nbformat": 3,
 "nbformat_minor": 0,
 "worksheets": [
  {
   "cells": [
    {
     "cell_type": "markdown",
     "metadata": {},
     "source": [
      "# Call Mutations\n",
      "\n",
      "In this notebook, I will grab read data from the \n",
      "TCGA using GTFuse and call mutations.\n",
      "\n",
      "### Extra dependencies\n",
      "\n",
      "TODO: Finish this when done. What are all the dependencies?\n",
      "\n",
      "You'll need muTect in the `software` directory\n",
      "and samtools and GTFuse in your path.\n",
      "\n",
      "    /usr/lib64/jvm/java-1.6.0/bin/java -jar /raid/software/src/muTect-1.1.4/muTect-1.1.4.jar \\\n",
      "     -T              MuTect \\\n",
      "     -L              REGION \\\n",
      "     -R              /raid/references-and-indexes/GRCh37/GRCh37-lite.fa \\\n",
      "     --dbsnp         /raid/databases/snp/dbsnp_137.hg19_lite_noCHR.vcf \\\n",
      "     -I:normal       RAID/samples/BARCODE/BARCODE-N.REGION_ID.bam \\\n",
      "     -I:tumor        RAID/samples/BARCODE/BARCODE-T.REGION_ID.bam \\\n",
      "     --out           RAID/samples/BARCODE/BARCODE.REGION_ID.out \\\n",
      "     --coverage_file RAID/samples/BARCODE/BARCODE.REGION_ID.wig.txt &"
     ]
    },
    {
     "cell_type": "code",
     "collapsed": false,
     "input": [
      "import glob\n",
      "import os\n",
      "import subprocess\n",
      "import time\n",
      "\n",
      "import pandas as pd\n",
      "\n",
      "import pypptmut as pm"
     ],
     "language": "python",
     "metadata": {},
     "outputs": [],
     "prompt_number": 49
    },
    {
     "cell_type": "code",
     "collapsed": false,
     "input": [],
     "language": "python",
     "metadata": {},
     "outputs": [],
     "prompt_number": 58
    },
    {
     "cell_type": "code",
     "collapsed": false,
     "input": [
      "samples = pd.read_table(pm.target_samples,\n",
      "                        index_col=0, header=0)\n",
      "\n",
      "intervals = pd.read_table(pm.target_intervals_merged,\n",
      "                          index_col=None, header=None)\n",
      "\n",
      "def mount_bam(analysis_id, mount_dir='/tmp'):\n",
      "    \"\"\"\n",
      "    Mount bam file for given analysis ID\n",
      "    \n",
      "    Creates a directory for this analysis ID in mount_dir and mounts \n",
      "    makes mnt and cache directories then mounts the bam file using \n",
      "    gtfuse. Returns bam file path.\n",
      "    \"\"\"\n",
      "    analysis_dir = '{}_{}'.format(analysis_id,\n",
      "                                  time.strftime('%Y_%m_%d_%H_%M_%S'))\n",
      "    mnt = os.path.join(mount_dir, analysis_dir, 'mnt')\n",
      "    os.makedirs(mnt)\n",
      "    os.makedirs(os.path.join(mount_dir, analysis_dir, 'cache'))\n",
      "    url = 'https://cghub.ucsc.edu/cghub/data/analysis/download/{}'.format(analysis_id)\n",
      "    subprocess.check_call(['gtfuse', \n",
      "                           '--ssl-no-verify-ca',\n",
      "                           url,\n",
      "                           mnt])\n",
      "    files = glob.glob('{}/{}/*'.format(mnt, analysis_id))\n",
      "    bam = [ x for x in files if os.path.splitext(x)[1] == '.bam' ][0]\n",
      "    return os.path.realpath(bam)\n",
      "    \n",
      "def unmount_bam(bam):\n",
      "    mnt = os.path.split(os.path.split(bam)[0])[0]\n",
      "    subprocess.call('fusermount -u {}'.format(mnt),\n",
      "                    shell=True)\n",
      "    os.rmdir(mnt)\n",
      "    os.rmdir(os.path.join(os.path.split(mnt)[0], 'cache'))\n",
      "    os.rmdir(os.path.split(mnt)[0])"
     ],
     "language": "python",
     "metadata": {},
     "outputs": [],
     "prompt_number": 83
    },
    {
     "cell_type": "code",
     "collapsed": false,
     "input": [
      "bam = mount_bam(samples.tumor_analysis_id[0])"
     ],
     "language": "python",
     "metadata": {},
     "outputs": [],
     "prompt_number": 84
    },
    {
     "cell_type": "code",
     "collapsed": false,
     "input": [
      "unmount_bam(bam)"
     ],
     "language": "python",
     "metadata": {},
     "outputs": [],
     "prompt_number": 85
    },
    {
     "cell_type": "code",
     "collapsed": false,
     "input": [],
     "language": "python",
     "metadata": {},
     "outputs": []
    },
    {
     "cell_type": "code",
     "collapsed": false,
     "input": [],
     "language": "python",
     "metadata": {},
     "outputs": []
    },
    {
     "cell_type": "code",
     "collapsed": false,
     "input": [],
     "language": "python",
     "metadata": {},
     "outputs": []
    },
    {
     "cell_type": "code",
     "collapsed": false,
     "input": [],
     "language": "python",
     "metadata": {},
     "outputs": []
    },
    {
     "cell_type": "code",
     "collapsed": false,
     "input": [],
     "language": "python",
     "metadata": {},
     "outputs": []
    },
    {
     "cell_type": "code",
     "collapsed": false,
     "input": [],
     "language": "python",
     "metadata": {},
     "outputs": []
    },
    {
     "cell_type": "code",
     "collapsed": false,
     "input": [
      "intervals.head()"
     ],
     "language": "python",
     "metadata": {},
     "outputs": [
      {
       "html": [
        "<div style=\"max-height:1000px;max-width:1500px;overflow:auto;\">\n",
        "<table border=\"1\" class=\"dataframe\">\n",
        "  <thead>\n",
        "    <tr style=\"text-align: right;\">\n",
        "      <th></th>\n",
        "      <th>0</th>\n",
        "      <th>1</th>\n",
        "      <th>2</th>\n",
        "    </tr>\n",
        "  </thead>\n",
        "  <tbody>\n",
        "    <tr>\n",
        "      <th>0</th>\n",
        "      <td> 1</td>\n",
        "      <td> 2487873</td>\n",
        "      <td> 2488023</td>\n",
        "    </tr>\n",
        "    <tr>\n",
        "      <th>1</th>\n",
        "      <td> 1</td>\n",
        "      <td> 2489014</td>\n",
        "      <td> 2489164</td>\n",
        "    </tr>\n",
        "    <tr>\n",
        "      <th>2</th>\n",
        "      <td> 1</td>\n",
        "      <td> 2489631</td>\n",
        "      <td> 2489781</td>\n",
        "    </tr>\n",
        "    <tr>\n",
        "      <th>3</th>\n",
        "      <td> 1</td>\n",
        "      <td> 2490169</td>\n",
        "      <td> 2490319</td>\n",
        "    </tr>\n",
        "    <tr>\n",
        "      <th>4</th>\n",
        "      <td> 1</td>\n",
        "      <td> 2490640</td>\n",
        "      <td> 2490790</td>\n",
        "    </tr>\n",
        "  </tbody>\n",
        "</table>\n",
        "</div>"
       ],
       "metadata": {},
       "output_type": "pyout",
       "prompt_number": 31,
       "text": [
        "   0        1        2\n",
        "0  1  2487873  2488023\n",
        "1  1  2489014  2489164\n",
        "2  1  2489631  2489781\n",
        "3  1  2490169  2490319\n",
        "4  1  2490640  2490790"
       ]
      }
     ],
     "prompt_number": 31
    },
    {
     "cell_type": "code",
     "collapsed": false,
     "input": [],
     "language": "python",
     "metadata": {},
     "outputs": []
    },
    {
     "cell_type": "code",
     "collapsed": false,
     "input": [],
     "language": "python",
     "metadata": {},
     "outputs": [],
     "prompt_number": 28
    },
    {
     "cell_type": "code",
     "collapsed": false,
     "input": [],
     "language": "python",
     "metadata": {},
     "outputs": [],
     "prompt_number": 19
    },
    {
     "cell_type": "code",
     "collapsed": false,
     "input": [],
     "language": "python",
     "metadata": {},
     "outputs": [],
     "prompt_number": 29
    }
   ],
   "metadata": {}
  }
 ]
}