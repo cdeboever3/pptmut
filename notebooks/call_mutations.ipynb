{
 "metadata": {
  "name": "",
  "signature": "sha256:ee1ba8b9bc811d025579b96f43a39a4b2348059edb9bc55450d696ba9a96798c"
 },
 "nbformat": 3,
 "nbformat_minor": 0,
 "worksheets": [
  {
   "cells": [
    {
     "cell_type": "markdown",
     "metadata": {},
     "source": [
      "# Call Mutations\n",
      "\n",
      "In this notebook, I will grab read data from the \n",
      "TCGA using GTFuse and call mutations.\n",
      "\n",
      "### Extra dependencies\n",
      "\n",
      "TODO: Finish this when done. What are all the dependencies?\n",
      "\n",
      "You'll need muTect in the `software` directory\n",
      "and samtools and GTFuse in your path.\n",
      "\n",
      "This is Matteo's call to muTect:\n",
      "\n",
      "    /usr/lib64/jvm/java-1.6.0/bin/java -jar /raid/software/src/muTect-1.1.4/muTect-1.1.4.jar \\\n",
      "     -T              MuTect \\\n",
      "     -L              REGION \\\n",
      "     -R              /raid/references-and-indexes/GRCh37/GRCh37-lite.fa \\\n",
      "     --dbsnp         /raid/databases/snp/dbsnp_137.hg19_lite_noCHR.vcf \\\n",
      "     -I:normal       RAID/samples/BARCODE/BARCODE-N.REGION_ID.bam \\\n",
      "     -I:tumor        RAID/samples/BARCODE/BARCODE-T.REGION_ID.bam \\\n",
      "     --out           RAID/samples/BARCODE/BARCODE.REGION_ID.out \\\n",
      "     --coverage_file RAID/samples/BARCODE/BARCODE.REGION_ID.wig.txt &\n",
      "     \n",
      "Here's mine:\n",
      "\n",
      "    /usr/lib64/jvm/java-1.6.0/bin/java -jar /raid2/projects/pptmut/pptmut/software/muTect/muTect-1.1.4.jar \\\n",
      "     -T              MuTect \\\n",
      "     -L              ints.bed \\\n",
      "     -R              /raid2/projects/pptmut/pptmut/external_data/GRCh37/GRCh37-lite.fa \\\n",
      "     --dbsnp         /raid2/projects/pptmut/pptmut/external_data/dbsnp/All.vcf \\\n",
      "     --cosmic        /raid2/projects/pptmut/pptmut/external_data/cosmic/cosmic_all.vcf \\\n",
      "     -I:normal       normal_sorted.bam \\\n",
      "     -I:tumor        tumor_sorted.bam \\\n",
      "     --out           test.out \\\n",
      "     --coverage_file test.wig\n",
      "     \n",
      "[This page](http://www.broadinstitute.org/cancer/cga/mutect_run) has information\n",
      "about running muTect, the output, etc."
     ]
    },
    {
     "cell_type": "code",
     "collapsed": false,
     "input": [
      "import glob\n",
      "import os\n",
      "import shutil\n",
      "import subprocess\n",
      "import time\n",
      "\n",
      "import numpy as np\n",
      "import pandas as pd\n",
      "\n",
      "import projectpy as ppy\n",
      "\n",
      "%matplotlib inline"
     ],
     "language": "python",
     "metadata": {},
     "outputs": [],
     "prompt_number": 1
    },
    {
     "cell_type": "code",
     "collapsed": false,
     "input": [
      "samples = pd.read_table(ppy.target_samples,\n",
      "                        index_col=0, header=0)\n",
      "\n",
      "intervals = pd.read_table(ppy.target_intervals_merged,\n",
      "                          index_col=None, header=None)"
     ],
     "language": "python",
     "metadata": {},
     "outputs": [],
     "prompt_number": 2
    },
    {
     "cell_type": "code",
     "collapsed": false,
     "input": [
      "def mount_bam(analysis_id, mount='/tmp', cache='/tmp/fusecache'):\n",
      "    \"\"\"\n",
      "    Mount bam file for given analysis ID\n",
      "    \n",
      "    Creates a directory for this analysis ID in \"mount\" and mounts \n",
      "    makes mnt and cache directories then mounts the bam file using \n",
      "    GTFuse. Returns bam file path.\n",
      "    \"\"\"\n",
      "    if not os.path.exists(cache):\n",
      "        os.makedirs(cache)\n",
      "    analysis_dir = '{}_{}'.format(analysis_id,\n",
      "                                  time.strftime('%Y_%m_%d_%H_%M_%S'))\n",
      "    mnt = os.path.join(mount, analysis_dir, 'mnt')\n",
      "    os.makedirs(mnt)\n",
      "    url = ('https://cghub.ucsc.edu/cghub/data'\n",
      "           '/analysis/download/{}'.format(analysis_id))\n",
      "    subprocess.check_call(['gtfuse', \n",
      "                           '--ssl-no-verify-ca',\n",
      "                           '--cache-dir',\n",
      "                           cache,\n",
      "                           url,\n",
      "                           mnt])\n",
      "    files = glob.glob('{}/{}/*'.format(mnt, analysis_id))\n",
      "    bam = [ x for x in files if os.path.splitext(x)[1] == '.bam' ][0]\n",
      "    return os.path.realpath(bam)\n",
      "    \n",
      "def unmount_bam(bam):\n",
      "    p = os.path.sep.join(bam.split(os.path.sep)[0:-3] + ['*'])\n",
      "    files = glob.glob(p)\n",
      "    mnt = os.path.sep.join(bam.split(os.path.sep)[0:-2])\n",
      "    for f in files:\n",
      "        if f != mnt:\n",
      "            os.remove(f)\n",
      "    subprocess.call('fusermount -u {}'.format(mnt),\n",
      "                    shell=True)\n",
      "    os.rmdir(mnt)\n",
      "    os.rmdir(os.path.split(mnt)[0])\n",
      "    \n",
      "def reads_from_intervals(analysis_id, intervals, \n",
      "                         interval_bam,\n",
      "                         max_intervals=4000):\n",
      "    \"\"\"\n",
      "    Get reads from analysis id for given intervals \n",
      "    \n",
      "    Parameters\n",
      "    ----------\n",
      "    analysis_id : str\n",
      "        TCGA analysis_id for sample of interest\n",
      "    intervals : list\n",
      "        List of intervals of the form 1:10-200.\n",
      "    interval_bam : str\n",
      "        Path to the bam file where the reads for the intervals will be written.\n",
      "    max_intervals : int\n",
      "        Maximum number of intervals to obtain with one samtools view call.\n",
      "    \n",
      "    Returns\n",
      "    -------\n",
      "    interval_bam : str\n",
      "        Path to the bam file with the reads for the intervals.\n",
      "    \n",
      "    \"\"\"\n",
      "    tcga_bam = mount_bam(analysis_id)\n",
      "    # I'll make a tempdir to hold the mounted bam and any other temp files I want\n",
      "    # to make.\n",
      "    tempdir = os.path.sep.join(tcga_bam.split(os.path.sep)[0:-3])\n",
      "    temp_bams = []\n",
      "    for i in xrange(0, intervals.shape[0], max_intervals):\n",
      "        ints = ' '.join(intervals[i:i + max_intervals])\n",
      "        temp_bam = '{}_{}.bam'.format(tempdir, i)\n",
      "        subprocess.check_call('samtools view -b {} {} > {}'.format(tcga_bam, \n",
      "                                                                   ints,\n",
      "                                                                   temp_bam),   \n",
      "                              shell=True)\n",
      "        temp_bams.append(temp_bam)\n",
      "    if len(temp_bams) > 1:\n",
      "        subprocess.check_call(['samtools', 'merge', '-f', interval_bam, \n",
      "                               ' '.join(temp_bams)])\n",
      "        for b in temp_bams:\n",
      "            os.remove(b)\n",
      "    else:\n",
      "        shutil.move(temp_bams[0], interval_bam)\n",
      "    unmount_bam(tcga_bam)\n",
      "    return interval_bam"
     ],
     "language": "python",
     "metadata": {},
     "outputs": [],
     "prompt_number": 29
    },
    {
     "cell_type": "code",
     "collapsed": false,
     "input": [
      "se = (intervals[0].head() + ':' + \n",
      "      intervals[1].astype(str).head() + '-' + \n",
      "      intervals[2].astype(str).head())"
     ],
     "language": "python",
     "metadata": {},
     "outputs": [],
     "prompt_number": 30
    },
    {
     "cell_type": "code",
     "collapsed": false,
     "input": [
      "reads_from_intervals(samples.tumor_analysis_id[0],\n",
      "                     se, 'test.bam')"
     ],
     "language": "python",
     "metadata": {},
     "outputs": [
      {
       "metadata": {},
       "output_type": "pyout",
       "prompt_number": 31,
       "text": [
        "'test.bam'"
       ]
      }
     ],
     "prompt_number": 31
    },
    {
     "cell_type": "code",
     "collapsed": false,
     "input": [
      "unmount_bam(bam)"
     ],
     "language": "python",
     "metadata": {},
     "outputs": [],
     "prompt_number": 13
    },
    {
     "cell_type": "code",
     "collapsed": false,
     "input": [
      "bam = mount_bam(samples.tumor_analysis_id[0])"
     ],
     "language": "python",
     "metadata": {},
     "outputs": [],
     "prompt_number": 4
    },
    {
     "cell_type": "markdown",
     "metadata": {},
     "source": [
      "I want to estimate how long it will take to get the reads from\n",
      "my intervals. I also want to know whether it's faster to do \n",
      "many calls with `samtools view` or just one call with all of the \n",
      "intervals at once. I'm guessing there isn't much difference there."
     ]
    },
    {
     "cell_type": "code",
     "collapsed": false,
     "input": [
      "from timeit import repeat\n",
      "import seaborn as sns"
     ],
     "language": "python",
     "metadata": {},
     "outputs": []
    },
    {
     "cell_type": "code",
     "collapsed": false,
     "input": [
      "num_ints = [50, 75, 100, 150, 200, 300, 500, 1000]\n",
      "results = []\n",
      "for i in num_ints:\n",
      "    rep = repeat(\"reads_from_intervals(bam, intervals.head({}))\".format(i), setup=\"from __main__ import reads_from_intervals, bam, intervals\", repeat=3, number=1)\n",
      "    results.append(rep)"
     ],
     "language": "python",
     "metadata": {},
     "outputs": [],
     "prompt_number": 26
    },
    {
     "cell_type": "code",
     "collapsed": false,
     "input": [
      "df = pd.DataFrame(results, index=num_ints)\n",
      "pdf = pd.DataFrame([np.array([df.index for x in df.columns]).flatten(),\n",
      "                    df.values.flatten()], index=['x','y']).T"
     ],
     "language": "python",
     "metadata": {},
     "outputs": [],
     "prompt_number": 72
    },
    {
     "cell_type": "code",
     "collapsed": false,
     "input": [
      "sns.lmplot('x', 'y', pdf)"
     ],
     "language": "python",
     "metadata": {},
     "outputs": [
      {
       "metadata": {},
       "output_type": "pyout",
       "prompt_number": 69,
       "text": [
        "<seaborn.axisgrid.FacetGrid at 0x7f81bf4dbd90>"
       ]
      },
      {
       "metadata": {},
       "output_type": "display_data",
       "png": "[encoded data removed]",
       "text": [
        "<matplotlib.figure.Figure at 0x7f81bf5d9d10>"
       ]
      }
     ],
     "prompt_number": 69
    },
    {
     "cell_type": "code",
     "collapsed": false,
     "input": [
      "df"
     ],
     "language": "python",
     "metadata": {},
     "outputs": [
      {
       "html": [
        "<div style=\"max-height:1000px;max-width:1500px;overflow:auto;\">\n",
        "<table border=\"1\" class=\"dataframe\">\n",
        "  <thead>\n",
        "    <tr style=\"text-align: right;\">\n",
        "      <th></th>\n",
        "      <th>0</th>\n",
        "      <th>1</th>\n",
        "      <th>2</th>\n",
        "    </tr>\n",
        "  </thead>\n",
        "  <tbody>\n",
        "    <tr>\n",
        "      <th>50  </th>\n",
        "      <td>  0.722869</td>\n",
        "      <td>  0.692333</td>\n",
        "      <td>  0.689245</td>\n",
        "    </tr>\n",
        "    <tr>\n",
        "      <th>75  </th>\n",
        "      <td>  1.051721</td>\n",
        "      <td>  1.040386</td>\n",
        "      <td>  1.082305</td>\n",
        "    </tr>\n",
        "    <tr>\n",
        "      <th>100 </th>\n",
        "      <td>  1.356029</td>\n",
        "      <td>  1.362137</td>\n",
        "      <td>  1.359631</td>\n",
        "    </tr>\n",
        "    <tr>\n",
        "      <th>150 </th>\n",
        "      <td> 14.274976</td>\n",
        "      <td>  2.065359</td>\n",
        "      <td>  1.889181</td>\n",
        "    </tr>\n",
        "    <tr>\n",
        "      <th>200 </th>\n",
        "      <td> 11.305707</td>\n",
        "      <td>  2.367825</td>\n",
        "      <td>  2.356409</td>\n",
        "    </tr>\n",
        "    <tr>\n",
        "      <th>300 </th>\n",
        "      <td> 18.357816</td>\n",
        "      <td>  3.647253</td>\n",
        "      <td>  3.595562</td>\n",
        "    </tr>\n",
        "    <tr>\n",
        "      <th>500 </th>\n",
        "      <td> 26.900274</td>\n",
        "      <td>  6.767359</td>\n",
        "      <td>  6.775628</td>\n",
        "    </tr>\n",
        "    <tr>\n",
        "      <th>1000</th>\n",
        "      <td> 92.711070</td>\n",
        "      <td> 12.917485</td>\n",
        "      <td> 12.870369</td>\n",
        "    </tr>\n",
        "  </tbody>\n",
        "</table>\n",
        "</div>"
       ],
       "metadata": {},
       "output_type": "pyout",
       "prompt_number": 81,
       "text": [
        "              0          1          2\n",
        "50     0.722869   0.692333   0.689245\n",
        "75     1.051721   1.040386   1.082305\n",
        "100    1.356029   1.362137   1.359631\n",
        "150   14.274976   2.065359   1.889181\n",
        "200   11.305707   2.367825   2.356409\n",
        "300   18.357816   3.647253   3.595562\n",
        "500   26.900274   6.767359   6.775628\n",
        "1000  92.711070  12.917485  12.870369"
       ]
      }
     ],
     "prompt_number": 81
    },
    {
     "cell_type": "markdown",
     "metadata": {},
     "source": [
      "One thing I'm noticing is that the first try\n",
      "is much slower than the subsequent tries. Maybe\n",
      "multiple `samtools view` calls would be faster..."
     ]
    },
    {
     "cell_type": "code",
     "collapsed": false,
     "input": [
      "def reads_from_intervals_individual_calls(bam, intervals):\n",
      "    se = intervals[0] + ':' + intervals[1].astype(str) + '-' + intervals[2].astype(str)\n",
      "    for i in se.values:\n",
      "        ints_bam = os.path.join(os.path.split(os.path.split(os.path.split(bam)[0])[0])[0], \n",
      "                                'ints_{}.bam'.format(i))\n",
      "        subprocess.check_call('samtools view -b {} {} > {}'.format(bam, i, ints_bam),\n",
      "                              shell=True)\n",
      "    return ints_bam"
     ],
     "language": "python",
     "metadata": {},
     "outputs": [],
     "prompt_number": 79
    },
    {
     "cell_type": "code",
     "collapsed": false,
     "input": [
      "num_ints = [50, 75, 100, 150, 200, 300, 500, 1000]\n",
      "ind_results = []\n",
      "for i in num_ints:\n",
      "    rep = repeat(\"reads_from_intervals_individual_calls(bam, intervals.head({}))\".format(i), setup=\"from __main__ import reads_from_intervals_individual_calls, bam, intervals\", repeat=3, number=1)\n",
      "    ind_results.append(rep)"
     ],
     "language": "python",
     "metadata": {},
     "outputs": []
    },
    {
     "cell_type": "code",
     "collapsed": false,
     "input": [
      "ind_df = pd.DataFrame(ind_results, index=num_ints)\n",
      "ind_pdf = pd.DataFrame([np.array([ind_df.index for x in ind_df.columns]).flatten(),\n",
      "                        ind_df.values.flatten()], index=['x','y']).T"
     ],
     "language": "python",
     "metadata": {},
     "outputs": [],
     "prompt_number": 84
    },
    {
     "cell_type": "code",
     "collapsed": false,
     "input": [
      "sns.lmplot('x', 'y', ind_pdf)"
     ],
     "language": "python",
     "metadata": {},
     "outputs": [
      {
       "metadata": {},
       "output_type": "pyout",
       "prompt_number": 85,
       "text": [
        "<seaborn.axisgrid.FacetGrid at 0x7f81bf4b8550>"
       ]
      },
      {
       "metadata": {},
       "output_type": "display_data",
       "png": "[encoded data removed]",
       "text": [
        "<matplotlib.figure.Figure at 0x7f81bf4b8d50>"
       ]
      }
     ],
     "prompt_number": 85
    },
    {
     "cell_type": "code",
     "collapsed": false,
     "input": [
      "samples.shape[0] * 2 * 92.7 / 1000 * intervals.shape[0]"
     ],
     "language": "python",
     "metadata": {},
     "outputs": [
      {
       "metadata": {},
       "output_type": "pyout",
       "prompt_number": 90,
       "text": [
        "1808335.2384000001"
       ]
      }
     ],
     "prompt_number": 90
    },
    {
     "cell_type": "code",
     "collapsed": false,
     "input": [
      "ind_df"
     ],
     "language": "python",
     "metadata": {},
     "outputs": [
      {
       "html": [
        "<div style=\"max-height:1000px;max-width:1500px;overflow:auto;\">\n",
        "<table border=\"1\" class=\"dataframe\">\n",
        "  <thead>\n",
        "    <tr style=\"text-align: right;\">\n",
        "      <th></th>\n",
        "      <th>0</th>\n",
        "      <th>1</th>\n",
        "      <th>2</th>\n",
        "    </tr>\n",
        "  </thead>\n",
        "  <tbody>\n",
        "    <tr>\n",
        "      <th>50  </th>\n",
        "      <td>   9.507881</td>\n",
        "      <td>   9.716952</td>\n",
        "      <td>   9.692747</td>\n",
        "    </tr>\n",
        "    <tr>\n",
        "      <th>75  </th>\n",
        "      <td>  14.893033</td>\n",
        "      <td>  16.298348</td>\n",
        "      <td>  15.534524</td>\n",
        "    </tr>\n",
        "    <tr>\n",
        "      <th>100 </th>\n",
        "      <td>  19.647996</td>\n",
        "      <td>  19.611946</td>\n",
        "      <td>  19.468982</td>\n",
        "    </tr>\n",
        "    <tr>\n",
        "      <th>150 </th>\n",
        "      <td>  29.032680</td>\n",
        "      <td>  29.696651</td>\n",
        "      <td>  29.690321</td>\n",
        "    </tr>\n",
        "    <tr>\n",
        "      <th>200 </th>\n",
        "      <td>  39.131389</td>\n",
        "      <td>  39.975159</td>\n",
        "      <td>  40.480468</td>\n",
        "    </tr>\n",
        "    <tr>\n",
        "      <th>300 </th>\n",
        "      <td>  61.473428</td>\n",
        "      <td>  62.119322</td>\n",
        "      <td>  60.685336</td>\n",
        "    </tr>\n",
        "    <tr>\n",
        "      <th>500 </th>\n",
        "      <td> 101.043350</td>\n",
        "      <td> 103.783333</td>\n",
        "      <td> 103.943026</td>\n",
        "    </tr>\n",
        "    <tr>\n",
        "      <th>1000</th>\n",
        "      <td> 205.360365</td>\n",
        "      <td> 200.042309</td>\n",
        "      <td> 199.793298</td>\n",
        "    </tr>\n",
        "  </tbody>\n",
        "</table>\n",
        "</div>"
       ],
       "metadata": {},
       "output_type": "pyout",
       "prompt_number": 87,
       "text": [
        "               0           1           2\n",
        "50      9.507881    9.716952    9.692747\n",
        "75     14.893033   16.298348   15.534524\n",
        "100    19.647996   19.611946   19.468982\n",
        "150    29.032680   29.696651   29.690321\n",
        "200    39.131389   39.975159   40.480468\n",
        "300    61.473428   62.119322   60.685336\n",
        "500   101.043350  103.783333  103.943026\n",
        "1000  205.360365  200.042309  199.793298"
       ]
      }
     ],
     "prompt_number": 87
    },
    {
     "cell_type": "code",
     "collapsed": false,
     "input": [
      "ints_bam = reads_from_intervals(bam, intervals.head(10))"
     ],
     "language": "python",
     "metadata": {},
     "outputs": [],
     "prompt_number": 95
    },
    {
     "cell_type": "code",
     "collapsed": false,
     "input": [
      "%timeit ints_bam = reads_from_intervals(bam, intervals.head(2000))"
     ],
     "language": "python",
     "metadata": {},
     "outputs": [
      {
       "output_type": "stream",
       "stream": "stdout",
       "text": [
        "1 loops, best of 3: 25.2 s per loop\n"
       ]
      }
     ],
     "prompt_number": 97
    },
    {
     "cell_type": "code",
     "collapsed": false,
     "input": [
      "%time ints_bam = reads_from_intervals(bam, intervals.head(4000))"
     ],
     "language": "python",
     "metadata": {},
     "outputs": [
      {
       "output_type": "stream",
       "stream": "stdout",
       "text": [
        "CPU times: user 91 ms, sys: 25 ms, total: 116 ms\n",
        "Wall time: 6min 27s\n"
       ]
      }
     ],
     "prompt_number": 98
    },
    {
     "cell_type": "code",
     "collapsed": false,
     "input": [
      "norm_bam = mount_bam(samples.normal_analysis_id[0])"
     ],
     "language": "python",
     "metadata": {},
     "outputs": [],
     "prompt_number": 99
    },
    {
     "cell_type": "code",
     "collapsed": false,
     "input": [
      "%time norm_ints_bam = reads_from_intervals(norm_bam, intervals.head(4000))"
     ],
     "language": "python",
     "metadata": {},
     "outputs": [
      {
       "output_type": "stream",
       "stream": "stdout",
       "text": [
        "CPU times: user 98 ms, sys: 58 ms, total: 156 ms\n",
        "Wall time: 18min 31s\n"
       ]
      }
     ],
     "prompt_number": 100
    },
    {
     "cell_type": "code",
     "collapsed": false,
     "input": [],
     "language": "python",
     "metadata": {},
     "outputs": []
    },
    {
     "cell_type": "code",
     "collapsed": false,
     "input": [],
     "language": "python",
     "metadata": {},
     "outputs": []
    },
    {
     "cell_type": "code",
     "collapsed": false,
     "input": [],
     "language": "python",
     "metadata": {},
     "outputs": []
    },
    {
     "cell_type": "code",
     "collapsed": false,
     "input": [],
     "language": "python",
     "metadata": {},
     "outputs": []
    },
    {
     "cell_type": "code",
     "collapsed": false,
     "input": [
      "unmount_bam(bam)"
     ],
     "language": "python",
     "metadata": {},
     "outputs": []
    },
    {
     "cell_type": "code",
     "collapsed": false,
     "input": [
      "unmount_bam(norm_bam)"
     ],
     "language": "python",
     "metadata": {},
     "outputs": [
      {
       "ename": "OSError",
       "evalue": "[Errno 39] Directory not empty: '/tmp/9763647c-b3b7-470e-9770-369071ce0515_2014_08_02_10_26_58'",
       "output_type": "pyerr",
       "traceback": [
        "\u001b[1;31m---------------------------------------------------------------------------\u001b[0m\n\u001b[1;31mOSError\u001b[0m                                   Traceback (most recent call last)",
        "\u001b[1;32m<ipython-input-126-2a0ee4769eed>\u001b[0m in \u001b[0;36m<module>\u001b[1;34m()\u001b[0m\n\u001b[1;32m----> 1\u001b[1;33m \u001b[0munmount_bam\u001b[0m\u001b[1;33m(\u001b[0m\u001b[0mnorm_bam\u001b[0m\u001b[1;33m)\u001b[0m\u001b[1;33m\u001b[0m\u001b[0m\n\u001b[0m",
        "\u001b[1;32m<ipython-input-118-3625b996ab85>\u001b[0m in \u001b[0;36munmount_bam\u001b[1;34m(bam)\u001b[0m\n\u001b[0;32m     33\u001b[0m     \u001b[0mos\u001b[0m\u001b[1;33m.\u001b[0m\u001b[0mrmdir\u001b[0m\u001b[1;33m(\u001b[0m\u001b[0mmnt\u001b[0m\u001b[1;33m)\u001b[0m\u001b[1;33m\u001b[0m\u001b[0m\n\u001b[0;32m     34\u001b[0m     \u001b[0mos\u001b[0m\u001b[1;33m.\u001b[0m\u001b[0mrmdir\u001b[0m\u001b[1;33m(\u001b[0m\u001b[0mos\u001b[0m\u001b[1;33m.\u001b[0m\u001b[0mpath\u001b[0m\u001b[1;33m.\u001b[0m\u001b[0mjoin\u001b[0m\u001b[1;33m(\u001b[0m\u001b[0mos\u001b[0m\u001b[1;33m.\u001b[0m\u001b[0mpath\u001b[0m\u001b[1;33m.\u001b[0m\u001b[0msplit\u001b[0m\u001b[1;33m(\u001b[0m\u001b[0mmnt\u001b[0m\u001b[1;33m)\u001b[0m\u001b[1;33m[\u001b[0m\u001b[1;36m0\u001b[0m\u001b[1;33m]\u001b[0m\u001b[1;33m,\u001b[0m \u001b[1;34m'cache'\u001b[0m\u001b[1;33m)\u001b[0m\u001b[1;33m)\u001b[0m\u001b[1;33m\u001b[0m\u001b[0m\n\u001b[1;32m---> 35\u001b[1;33m     \u001b[0mos\u001b[0m\u001b[1;33m.\u001b[0m\u001b[0mrmdir\u001b[0m\u001b[1;33m(\u001b[0m\u001b[0mos\u001b[0m\u001b[1;33m.\u001b[0m\u001b[0mpath\u001b[0m\u001b[1;33m.\u001b[0m\u001b[0msplit\u001b[0m\u001b[1;33m(\u001b[0m\u001b[0mmnt\u001b[0m\u001b[1;33m)\u001b[0m\u001b[1;33m[\u001b[0m\u001b[1;36m0\u001b[0m\u001b[1;33m]\u001b[0m\u001b[1;33m)\u001b[0m\u001b[1;33m\u001b[0m\u001b[0m\n\u001b[0m\u001b[0;32m     36\u001b[0m \u001b[1;33m\u001b[0m\u001b[0m\n\u001b[0;32m     37\u001b[0m def reads_from_intervals(bam, intervals, \n",
        "\u001b[1;31mOSError\u001b[0m: [Errno 39] Directory not empty: '/tmp/9763647c-b3b7-470e-9770-369071ce0515_2014_08_02_10_26_58'"
       ]
      }
     ],
     "prompt_number": 126
    },
    {
     "cell_type": "code",
     "collapsed": false,
     "input": [],
     "language": "python",
     "metadata": {},
     "outputs": []
    },
    {
     "cell_type": "code",
     "collapsed": false,
     "input": [],
     "language": "python",
     "metadata": {},
     "outputs": []
    },
    {
     "cell_type": "code",
     "collapsed": false,
     "input": [],
     "language": "python",
     "metadata": {},
     "outputs": [],
     "prompt_number": 28
    },
    {
     "cell_type": "code",
     "collapsed": false,
     "input": [],
     "language": "python",
     "metadata": {},
     "outputs": [],
     "prompt_number": 19
    },
    {
     "cell_type": "code",
     "collapsed": false,
     "input": [],
     "language": "python",
     "metadata": {},
     "outputs": [],
     "prompt_number": 29
    }
   ],
   "metadata": {}
  }
 ]
}