{
 "metadata": {
  "name": "",
  "signature": "sha256:1c801257ada0b5f37614076110120035af8aa0e7e24208e0b63524fc17859008"
 },
 "nbformat": 3,
 "nbformat_minor": 0,
 "worksheets": [
  {
   "cells": [
    {
     "cell_type": "markdown",
     "metadata": {},
     "source": [
      "# Gencode Processing"
     ]
    },
    {
     "cell_type": "code",
     "collapsed": false,
     "input": [
      "import os\n",
      "\n",
      "import cdpybio as cpb\n",
      "import gffutils\n",
      "import pandas as pd\n",
      "import pypptmut as pm\n",
      "import pybedtools as pbt\n",
      "\n",
      "%load_ext autoreload\n",
      "%autoreload 2"
     ],
     "language": "python",
     "metadata": {},
     "outputs": [],
     "prompt_number": 1
    },
    {
     "cell_type": "code",
     "collapsed": false,
     "input": [
      "outdir = os.path.join(pm.root, 'output', 'gencode_processing')\n",
      "pm.makedir(outdir)"
     ],
     "language": "python",
     "metadata": {},
     "outputs": [],
     "prompt_number": 2
    },
    {
     "cell_type": "code",
     "collapsed": false,
     "input": [
      "# Make file with gene information\n",
      "f = pm.gencode_gene_info\n",
      "if not os.path.exists(f):\n",
      "    gene_info = cpb.gencode.make_gene_info_df(pm.gencode_gtf)\n",
      "    gene_info.to_csv(f, sep='\\t')\n",
      "else:\n",
      "    gene_info = pd.read_table(pm.gencode_gene_info,\n",
      "                              header=0, index_col=0)\n",
      "\n",
      "# Make file with splice junction information\n",
      "f = pm.gencode_sj_info\n",
      "if not os.path.exists(f):\n",
      "    sj_info = cpb.gencode.make_splice_junction_df(pm.gencode_gtf)\n",
      "    sj_info.to_csv(f, sep='\\t')\n",
      "else:\n",
      "    sj_info = pd.read_table(f, index_col=0,\n",
      "                             header=0)"
     ],
     "language": "python",
     "metadata": {},
     "outputs": [],
     "prompt_number": 7
    }
   ],
   "metadata": {}
  }
 ]
}