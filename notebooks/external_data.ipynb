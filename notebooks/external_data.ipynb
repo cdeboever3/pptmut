{
 "metadata": {
  "name": "",
  "signature": "sha256:866d0a5f95db7d323156735cd28453f28737ff118ef5ab06301108756bfa8c36"
 },
 "nbformat": 3,
 "nbformat_minor": 0,
 "worksheets": [
  {
   "cells": [
    {
     "cell_type": "markdown",
     "metadata": {},
     "source": [
      "# External data\n",
      "\n",
      "This notebook has commands to download some external \n",
      "data that are needed in various notebooks. Rather than\n",
      "saving these into the `output` directory with the output\n",
      "from other notebooks, I'll save them in a directory \n",
      "`ext_data` to denote that they are just downloaded files,\n",
      "not files that I created. I also won't store these on \n",
      "figshare."
     ]
    },
    {
     "cell_type": "code",
     "collapsed": false,
     "input": [
      "import os\n",
      "import shutil\n",
      "import subprocess\n",
      "from urllib2 import urlopen\n",
      "\n",
      "import gffutils\n",
      "import pypptmut as pm\n",
      "\n",
      "%load_ext autoreload\n",
      "%autoreload 2"
     ],
     "language": "python",
     "metadata": {},
     "outputs": [],
     "prompt_number": 1
    },
    {
     "cell_type": "code",
     "collapsed": false,
     "input": [
      "outdir = os.path.join(pm.root, 'external_data')\n",
      "pm.makedir(outdir)"
     ],
     "language": "python",
     "metadata": {},
     "outputs": [],
     "prompt_number": 2
    },
    {
     "cell_type": "markdown",
     "metadata": {},
     "source": [
      "## GRCh37-lite\n",
      "\n",
      "I'm assuming samtools is in your path to index the genome\n",
      "fasta file."
     ]
    },
    {
     "cell_type": "code",
     "collapsed": false,
     "input": [
      "pm.makedir(os.path.join(outdir, 'GRCh37'))\n",
      "src = 'ftp://ftp.ncbi.nih.gov/genbank/genomes/Eukaryotes/vertebrates_mammals/Homo_sapiens/GRCh37/special_requests/GRCh37-lite.fa.gz'\n",
      "dest = pm.GRCh37_lite\n",
      "if not os.path.exists(dest):\n",
      "    print('Downloading '.format(dest))\n",
      "    req = urlopen(src)\n",
      "    with open(dest + '.gz', 'w') as f:\n",
      "        shutil.copyfileobj(req, f)\n",
      "    subprocess.check_call(['gunzip', dest + '.gz'])\n",
      "    \n",
      "if not os.path.exists(pm.GRCh37_lite + '.fai'):\n",
      "    subprocess.check_call(['samtools', 'faidx', pm.GRCh37_lite])\n",
      "    \n",
      "src = 'ftp://ftp.ncbi.nih.gov/genbank/genomes/Eukaryotes/vertebrates_mammals/Homo_sapiens/GRCh37/special_requests/README.GRCh37-lite'\n",
      "dest = os.path.join(outdir, 'GRCh37', 'README.GRCh37-lite')\n",
      "if not os.path.exists(dest):\n",
      "    req = urlopen(src)\n",
      "    with open(dest, 'w') as f:\n",
      "        shutil.copyfileobj(req, f)"
     ],
     "language": "python",
     "metadata": {},
     "outputs": [],
     "prompt_number": 6
    },
    {
     "cell_type": "markdown",
     "metadata": {},
     "source": [
      "## dbSNP\n",
      "\n",
      "We'll download dbSNP 138 and index. This assumes \n",
      "you have IGVtools in the `software` directory."
     ]
    },
    {
     "cell_type": "code",
     "collapsed": false,
     "input": [
      "pm.makedir(os.path.join(outdir, 'dbsnp'))\n",
      "src = 'ftp://ftp.ncbi.nlm.nih.gov/snp/organisms/human_9606_b141_GRCh37p13/VCF/All.vcf.gz'\n",
      "dest = os.path.join(outdir, 'dbsnp', 'All.vcf')\n",
      "if not os.path.exists(dest):\n",
      "    print('Downloading '.format(dest))\n",
      "    req = urlopen(src)\n",
      "    with open(dest + '.gz', 'w') as f:\n",
      "        shutil.copyfileobj(req, f)\n",
      "    subprocess.check_call(['gunzip', dest + '.gz'])\n",
      "    \n",
      "if not os.path.exists(dest + 'idx'):\n",
      "    subprocess.check_call([os.path.join(pm.root, 'software', 'IGVTools', 'igvtools'),\n",
      "                           'index', dest])"
     ],
     "language": "python",
     "metadata": {},
     "outputs": []
    },
    {
     "cell_type": "markdown",
     "metadata": {},
     "source": [
      "## Gencode GTF\n",
      "\n",
      "We'll download the Gencode v19 GTF if we don't have it and make\n",
      "a database for gffutils."
     ]
    },
    {
     "cell_type": "code",
     "collapsed": false,
     "input": [
      "src = 'ftp://ftp.sanger.ac.uk/pub/gencode/Gencode_human/release_19/gencode.v19.annotation.gtf.gz'\n",
      "dest = pm.gencode_gtf\n",
      "if not os.path.exists(dest):\n",
      "    pm.makedir(os.path.join(outdir, 'gencode'))\n",
      "    print('Downloading '.format(dest))\n",
      "    req = urlopen(src)\n",
      "    with open(dest + '.gz', 'w') as f:\n",
      "        shutil.copyfileobj(req, f)\n",
      "    subprocess.check_call(['gunzip', dest + '.gz'])\n",
      "    \n",
      "f = pm.gencode_db\n",
      "if not os.path.exists(f):\n",
      "    gencode_db = gffutils.create_db(pm.gencode_gtf,\n",
      "                                    pm.gencode_db,\n",
      "                                    keep_order=True,\n",
      "                                    infer_gene_extent=False)    "
     ],
     "language": "python",
     "metadata": {},
     "outputs": [],
     "prompt_number": 7
    }
   ],
   "metadata": {}
  }
 ]
}