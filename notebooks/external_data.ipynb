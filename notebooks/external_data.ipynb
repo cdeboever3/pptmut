{
 "metadata": {
  "name": "",
  "signature": "sha256:33ba31ad60889b31d9decdd07ae4b60d360e6cdaf62b5dd2bd0a085b11d068fa"
 },
 "nbformat": 3,
 "nbformat_minor": 0,
 "worksheets": [
  {
   "cells": [
    {
     "cell_type": "markdown",
     "metadata": {},
     "source": [
      "# External data\n",
      "\n",
      "This notebook has commands to download some external \n",
      "data that are needed in various notebooks. Rather than\n",
      "saving these into the `output` directory with the output\n",
      "from other notebooks, I'll save them in a directory \n",
      "`ext_data` to denote that they are just downloaded files,\n",
      "not files that I created. I also won't store these on \n",
      "figshare."
     ]
    },
    {
     "cell_type": "code",
     "collapsed": false,
     "input": [
      "import os\n",
      "import shutil\n",
      "import subprocess\n",
      "from urllib2 import urlopen\n",
      "\n",
      "import gffutils\n",
      "import pypptmut as pm\n",
      "\n",
      "%load_ext autoreload\n",
      "%autoreload 2"
     ],
     "language": "python",
     "metadata": {},
     "outputs": [],
     "prompt_number": 1
    },
    {
     "cell_type": "code",
     "collapsed": false,
     "input": [
      "outdir = os.path.join(pm.root, 'external_data')\n",
      "pm.makedir(outdir)"
     ],
     "language": "python",
     "metadata": {},
     "outputs": [],
     "prompt_number": 2
    },
    {
     "cell_type": "markdown",
     "metadata": {},
     "source": [
      "## GRCh37-lite\n",
      "\n",
      "I'm assuming samtools is in your path to index the genome\n",
      "fasta file."
     ]
    },
    {
     "cell_type": "code",
     "collapsed": false,
     "input": [
      "pm.makedir(os.path.join(outdir, 'GRCh37'))\n",
      "src = 'ftp://ftp.ncbi.nih.gov/genbank/genomes/Eukaryotes/vertebrates_mammals/Homo_sapiens/GRCh37/special_requests/GRCh37-lite.fa.gz'\n",
      "dest = pm.GRCh37_lite\n",
      "if not os.path.exists(dest):\n",
      "    print('Downloading '.format(dest))\n",
      "    req = urlopen(src)\n",
      "    with open(dest + '.gz', 'w') as f:\n",
      "        shutil.copyfileobj(req, f)\n",
      "    subprocess.check_call(['gunzip', dest + '.gz'])\n",
      "    \n",
      "if not os.path.exists(pm.GRCh37_lite + '.fai'):\n",
      "    subprocess.check_call(['samtools', 'faidx', pm.GRCh37_lite])\n",
      "    \n",
      "src = 'ftp://ftp.ncbi.nih.gov/genbank/genomes/Eukaryotes/vertebrates_mammals/Homo_sapiens/GRCh37/special_requests/README.GRCh37-lite'\n",
      "dest = os.path.join(outdir, 'GRCh37', 'README.GRCh37-lite')\n",
      "if not os.path.exists(dest):\n",
      "    req = urlopen(src)\n",
      "    with open(dest, 'w') as f:\n",
      "        shutil.copyfileobj(req, f)"
     ],
     "language": "python",
     "metadata": {},
     "outputs": [],
     "prompt_number": 4
    },
    {
     "cell_type": "markdown",
     "metadata": {},
     "source": [
      "## dbSNP\n",
      "\n",
      "We'll download dbSNP 138 and index. This assumes \n",
      "you have IGVtools in the `software` directory."
     ]
    },
    {
     "cell_type": "code",
     "collapsed": false,
     "input": [
      "pm.makedir(os.path.join(outdir, 'dbsnp'))\n",
      "src = 'ftp://ftp.ncbi.nlm.nih.gov/snp/organisms/human_9606_b141_GRCh37p13/VCF/All.vcf.gz'\n",
      "dest = pm.dbsnp\n",
      "if not os.path.exists(dest):\n",
      "    print('Downloading '.format(dest))\n",
      "    req = urlopen(src)\n",
      "    with open(dest + '.gz', 'w') as f:\n",
      "        shutil.copyfileobj(req, f)\n",
      "    subprocess.check_call(['gunzip', dest + '.gz'])\n",
      "    \n",
      "if not os.path.exists(dest + 'idx'):\n",
      "    subprocess.check_call([os.path.join(pm.root, 'software', 'IGVTools', 'igvtools'),\n",
      "                           'index', dest])"
     ],
     "language": "python",
     "metadata": {},
     "outputs": [],
     "prompt_number": 10
    },
    {
     "cell_type": "markdown",
     "metadata": {},
     "source": [
      "## COSMIC\n",
      "\n",
      "I'm going to download the COSMIC vcf files for use\n",
      "with muTect."
     ]
    },
    {
     "cell_type": "code",
     "collapsed": false,
     "input": [
      "# Adapted from http://gatkforums.broadinstitute.org/discussion/2226/cosmic-and-dbsnp-files-for-mutect\n",
      "pm.makedir(os.path.join(outdir, 'cosmic'))\n",
      "\n",
      "if not os.path.exists(pm.cosmic_all):\n",
      "    # Coding variants\n",
      "    src = 'ftp://ngs.sanger.ac.uk/production/cosmic/CosmicCodingMuts_v68.vcf.gz'\n",
      "    dest = os.path.join(outdir, 'cosmic', 'CosmicCodingMuts_v68.vcf')\n",
      "    req = urlopen(src)\n",
      "    with open(dest + '.gz', 'w') as f:\n",
      "        shutil.copyfileobj(req, f)\n",
      "    subprocess.check_call(['gunzip', dest + '.gz'])\n",
      "    # Non-coding variants\n",
      "    src = 'ftp://ngs.sanger.ac.uk/production/cosmic/CosmicNonCodingVariants_v68.vcf.gz'\n",
      "    dest = os.path.join(outdir, 'cosmic', 'CosmicNonCodingVariants_v68.vcf')\n",
      "    req = urlopen(src)\n",
      "    with open(dest + '.gz', 'w') as f:\n",
      "        shutil.copyfileobj(req, f)\n",
      "    subprocess.check_call(['gunzip', dest + '.gz'])\n",
      "    # GATK sorting script\n",
      "    src = 'https://raw.githubusercontent.com/broadgsa/gatk/master/public/perl/sortByRef.pl'\n",
      "    dest = os.path.join(outdir, 'cosmic', 'sortByRef.pl')\n",
      "    req = urlopen(src)\n",
      "    with open(dest, 'w') as f:\n",
      "        shutil.copyfileobj(req, f)\n",
      "    # Combine files for use with muTect\n",
      "    sortByRef = os.path.join(outdir, 'cosmic', 'sortByRef.pl')\n",
      "    header = os.path.join(outdir, 'cosmic', 'CosmicCodingMuts_v68_header.vcf')\n",
      "    coding = os.path.join(outdir, 'cosmic', 'CosmicCodingMuts_v68.vcf')\n",
      "    coding_clean = os.path.join(outdir, 'cosmic', 'CosmicCodingMuts_v68_clean.vcf')\n",
      "    noncoding = os.path.join(outdir, 'cosmic', 'CosmicNonCodingVariants_v68.vcf')\n",
      "    noncoding_clean = os.path.join(outdir, 'cosmic', 'CosmicNonCodingVariants_v68_clean.vcf')\n",
      "    combined = os.path.join(outdir, 'cosmic', 'Cosmic.GRCh37.vcf')\n",
      "    subprocess.check_call('grep \"^#\" {} > {}'.format(coding, header),\n",
      "                          shell=True)\n",
      "    subprocess.check_call('grep -v \"^#\" {} > {}'.format(coding, coding_clean), \n",
      "                          shell=True)\n",
      "    subprocess.check_call('grep -v \"^#\" {} > {}'.format(noncoding, noncoding_clean),\n",
      "                          shell=True)\n",
      "    subprocess.check_call('cat {} {} | sort -gk 2,2 | perl {} --k 1 - {} > {}'.format(coding_clean, \n",
      "                                                                                      noncoding_clean, \n",
      "                                                                                      sortByRef, \n",
      "                                                                                      pm.GRCh37_lite + '.fai', \n",
      "                                                                                      combined),\n",
      "                          shell=True)\n",
      "    subprocess.check_call('cat {} {} > {}'.format(header, combined, pm.cosmic_all),\n",
      "                          shell=True)"
     ],
     "language": "python",
     "metadata": {},
     "outputs": [],
     "prompt_number": 22
    },
    {
     "cell_type": "markdown",
     "metadata": {},
     "source": [
      "## Gencode GTF\n",
      "\n",
      "We'll download the Gencode v19 GTF if we don't have it and make\n",
      "a database for gffutils."
     ]
    },
    {
     "cell_type": "code",
     "collapsed": false,
     "input": [
      "src = 'ftp://ftp.sanger.ac.uk/pub/gencode/Gencode_human/release_19/gencode.v19.annotation.gtf.gz'\n",
      "dest = pm.gencode_gtf\n",
      "if not os.path.exists(dest):\n",
      "    pm.makedir(os.path.join(outdir, 'gencode'))\n",
      "    print('Downloading '.format(dest))\n",
      "    req = urlopen(src)\n",
      "    with open(dest + '.gz', 'w') as f:\n",
      "        shutil.copyfileobj(req, f)\n",
      "    subprocess.check_call(['gunzip', dest + '.gz'])\n",
      "    \n",
      "f = pm.gencode_db\n",
      "if not os.path.exists(f):\n",
      "    gencode_db = gffutils.create_db(pm.gencode_gtf,\n",
      "                                    pm.gencode_db,\n",
      "                                    keep_order=True,\n",
      "                                    infer_gene_extent=False)    "
     ],
     "language": "python",
     "metadata": {},
     "outputs": [],
     "prompt_number": 7
    }
   ],
   "metadata": {}
  }
 ]
}