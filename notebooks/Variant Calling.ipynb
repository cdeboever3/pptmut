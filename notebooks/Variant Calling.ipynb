{
 "metadata": {
  "name": "",
  "signature": "sha256:299153098d1d3567ab9940b6387a731c6fa300fabb6a1902d65aea24b114f1ae"
 },
 "nbformat": 3,
 "nbformat_minor": 0,
 "worksheets": [
  {
   "cells": [
    {
     "cell_type": "code",
     "collapsed": false,
     "input": [
      "import os\n",
      "\n",
      "import cdpybio as cpb\n",
      "import pandas as pd\n",
      "\n",
      "import projectpy as ppy\n",
      "\n",
      "%matplotlib inline"
     ],
     "language": "python",
     "metadata": {},
     "outputs": [],
     "prompt_number": 1
    },
    {
     "cell_type": "code",
     "collapsed": false,
     "input": [
      "samples = pd.read_table(ppy.target_samples,\n",
      "                        index_col=0, header=0)"
     ],
     "language": "python",
     "metadata": {},
     "outputs": [],
     "prompt_number": 2
    },
    {
     "cell_type": "code",
     "collapsed": false,
     "input": [
      "tumor_normal = dict(zip(\n",
      "    not_done_samples.tumor_analysis_id,\n",
      "    not_done_samples.normal_analysis_id))\n",
      "bed = ppy.cosmic_intervals_merged01\n",
      "ppy.makedir(ppy.cosmic_variants01)\n",
      "bam_outdir = ppy.cosmic_variants01\n",
      "tempdir = '/projects/scratch/cdeboever'\n",
      "variant_outdir = ppy.cosmic_variants01\n",
      "name = 'cosmic01_rest2'\n",
      "threads = 9\n",
      "\n",
      "engine = cpb.cghub.FLCVariantCallingEngine(tumor_normal,\n",
      "                                           bed,\n",
      "                                           ppy.java,\n",
      "                                           ppy.mutect,\n",
      "                                           ppy.GRCh37_lite,\n",
      "                                           ppy.dbsnp,\n",
      "                                           ppy.cosmic_all,\n",
      "                                           name=name,\n",
      "                                           bam_outdir=bam_outdir,\n",
      "                                           tempdir=tempdir,\n",
      "                                           variant_outdir=variant_outdir,\n",
      "                                           threads=threads)"
     ],
     "language": "python",
     "metadata": {},
     "outputs": [],
     "prompt_number": 30
    },
    {
     "cell_type": "raw",
     "metadata": {},
     "source": [
      "f = ['LIHC', 'OV', 'BRCA']\n",
      "tumor_normal = dict(zip(\n",
      "    samples[samples.disease.apply(lambda x: x not in f)].tumor_analysis_id,\n",
      "    samples[samples.disease.apply(lambda x: x not in f)].normal_analysis_id))\n",
      "bed = ppy.cosmic_intervals_merged01\n",
      "ppy.makedir(ppy.cosmic_variants01)\n",
      "bam_outdir = ppy.cosmic_variants01\n",
      "variant_outdir = ppy.cosmic_variants01\n",
      "name = 'cosmic01_rest'\n",
      "threads = 9\n",
      "\n",
      "engine = cpb.cghub.FLCVariantCallingEngine(tumor_normal,\n",
      "                                           bed,\n",
      "                                           ppy.java,\n",
      "                                           ppy.mutect,\n",
      "                                           ppy.GRCh37_lite,\n",
      "                                           ppy.dbsnp,\n",
      "                                           ppy.cosmic_all,\n",
      "                                           name=name,\n",
      "                                           bam_outdir=bam_outdir,\n",
      "                                           variant_outdir=variant_outdir,\n",
      "                                           threads=threads)"
     ]
    },
    {
     "cell_type": "raw",
     "metadata": {},
     "source": [
      "tumor_normal = dict(zip(samples[samples.disease == 'OV'].tumor_analysis_id,\n",
      "                        samples[samples.disease == 'OV'].normal_analysis_id))\n",
      "bed = ppy.cosmic_intervals_merged01\n",
      "ppy.makedir(ppy.cosmic_variants01)\n",
      "bam_outdir = ppy.cosmic_variants01\n",
      "variant_outdir = ppy.cosmic_variants01\n",
      "name = 'cosmic01'\n",
      "threads = 10\n",
      "\n",
      "engine = cpb.cghub.FLCVariantCallingEngine(tumor_normal,\n",
      "                                           bed,\n",
      "                                           ppy.java,\n",
      "                                           ppy.mutect,\n",
      "                                           ppy.GRCh37_lite,\n",
      "                                           ppy.dbsnp,\n",
      "                                           ppy.cosmic_all,\n",
      "                                           name=name,\n",
      "                                           bam_outdir=bam_outdir,\n",
      "                                           variant_outdir=variant_outdir,\n",
      "                                           threads=threads)"
     ]
    },
    {
     "cell_type": "raw",
     "metadata": {},
     "source": [
      "tumor_normal = dict(zip(samples[samples.disease == 'BRCA'].tumor_analysis_id,\n",
      "                        samples[samples.disease == 'BRCA'].normal_analysis_id))\n",
      "bed = ppy.cosmic_intervals_merged01\n",
      "ppy.makedir(ppy.cosmic_variants01)\n",
      "bam_outdir = ppy.cosmic_variants01\n",
      "variant_outdir = ppy.cosmic_variants01\n",
      "name = 'cosmic01_BRCA'\n",
      "threads = 10\n",
      "\n",
      "engine = cpb.cghub.FLCVariantCallingEngine(tumor_normal,\n",
      "                                           bed,\n",
      "                                           ppy.java,\n",
      "                                           ppy.mutect,\n",
      "                                           ppy.GRCh37_lite,\n",
      "                                           ppy.dbsnp,\n",
      "                                           ppy.cosmic_all,\n",
      "                                           name=name,\n",
      "                                           bam_outdir=bam_outdir,\n",
      "                                           variant_outdir=variant_outdir,\n",
      "                                           threads=threads)"
     ]
    },
    {
     "cell_type": "raw",
     "metadata": {},
     "source": [
      "tumor_normal = dict(zip(samples[samples.disease == 'LIHC'].tumor_analysis_id,\n",
      "                        samples[samples.disease == 'LIHC'].normal_analysis_id))\n",
      "bed = ppy.cosmic_intervals_merged01\n",
      "ppy.makedir(ppy.cosmic_variants01)\n",
      "bam_outdir = ppy.cosmic_variants01\n",
      "variant_outdir = ppy.cosmic_variants01\n",
      "name = 'cosmic01_LIHC'\n",
      "threads = 10\n",
      "\n",
      "engine = cpb.cghub.FLCVariantCallingEngine(tumor_normal,\n",
      "                                           bed,\n",
      "                                           ppy.java,\n",
      "                                           ppy.mutect,\n",
      "                                           ppy.GRCh37_lite,\n",
      "                                           ppy.dbsnp,\n",
      "                                           ppy.cosmic_all,\n",
      "                                           name=name,\n",
      "                                           bam_outdir=bam_outdir,\n",
      "                                           variant_outdir=variant_outdir,\n",
      "                                           threads=threads)"
     ]
    },
    {
     "cell_type": "code",
     "collapsed": false,
     "input": [],
     "language": "python",
     "metadata": {},
     "outputs": []
    }
   ],
   "metadata": {}
  }
 ]
}