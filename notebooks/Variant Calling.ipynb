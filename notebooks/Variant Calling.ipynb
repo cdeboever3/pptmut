{
 "metadata": {
  "name": "",
  "signature": "sha256:3fd03683908b05d47aaaf4a9d94cffa47003b1a23b14ff3908eac0a572e054fb"
 },
 "nbformat": 3,
 "nbformat_minor": 0,
 "worksheets": [
  {
   "cells": [
    {
     "cell_type": "code",
     "collapsed": false,
     "input": [
      "import os\n",
      "\n",
      "import cdpybio as cpb\n",
      "import pandas as pd\n",
      "\n",
      "import projectpy as ppy\n",
      "\n",
      "%matplotlib inline"
     ],
     "language": "python",
     "metadata": {},
     "outputs": [],
     "prompt_number": 1
    },
    {
     "cell_type": "code",
     "collapsed": false,
     "input": [
      "samples = pd.read_table(ppy.target_samples,\n",
      "                        index_col=0, header=0)"
     ],
     "language": "python",
     "metadata": {},
     "outputs": [],
     "prompt_number": 2
    },
    {
     "cell_type": "code",
     "collapsed": false,
     "input": [
      "fns = glob.glob('{}/*'.format(ppy.cosmic_variants01))\n",
      "fns = [x for x in fns if len(x) == 134]"
     ],
     "language": "python",
     "metadata": {},
     "outputs": [],
     "prompt_number": 8
    },
    {
     "cell_type": "code",
     "collapsed": false,
     "input": [
      "done = []\n",
      "not_done = []\n",
      "for fn in fns:\n",
      "    if len(glob.glob('{}/*_variants.txt'.format(fn))) > 0:\n",
      "        done.append(fn)\n",
      "    else:\n",
      "        not_done.append(fn)"
     ],
     "language": "python",
     "metadata": {},
     "outputs": [],
     "prompt_number": 13
    },
    {
     "cell_type": "code",
     "collapsed": false,
     "input": [
      "done_tumors = [os.path.split(x)[1].split('_')[0] for x in done]"
     ],
     "language": "python",
     "metadata": {},
     "outputs": [],
     "prompt_number": 19
    },
    {
     "cell_type": "code",
     "collapsed": false,
     "input": [
      "done_tumors[0]"
     ],
     "language": "python",
     "metadata": {},
     "outputs": [
      {
       "metadata": {},
       "output_type": "pyout",
       "prompt_number": 20,
       "text": [
        "'7fbd85ae-e7b7-45b8-8359-43bff2fe42cb'"
       ]
      }
     ],
     "prompt_number": 20
    },
    {
     "cell_type": "code",
     "collapsed": false,
     "input": [
      "len(not_done)"
     ],
     "language": "python",
     "metadata": {},
     "outputs": [
      {
       "metadata": {},
       "output_type": "pyout",
       "prompt_number": 15,
       "text": [
        "64"
       ]
      }
     ],
     "prompt_number": 15
    },
    {
     "cell_type": "code",
     "collapsed": false,
     "input": [
      "samples.index = samples.tumor_analysis_id"
     ],
     "language": "python",
     "metadata": {},
     "outputs": [],
     "prompt_number": 24
    },
    {
     "cell_type": "code",
     "collapsed": false,
     "input": [
      "not_done_samples = samples.drop(done_tumors)"
     ],
     "language": "python",
     "metadata": {},
     "outputs": [],
     "prompt_number": 25
    },
    {
     "cell_type": "code",
     "collapsed": false,
     "input": [
      "not_done_samples.shape"
     ],
     "language": "python",
     "metadata": {},
     "outputs": [
      {
       "metadata": {},
       "output_type": "pyout",
       "prompt_number": 26,
       "text": [
        "(353, 4)"
       ]
      }
     ],
     "prompt_number": 26
    },
    {
     "cell_type": "code",
     "collapsed": false,
     "input": [
      "f = ['LIHC', 'OV', 'BRCA']\n",
      "tumor_normal = dict(zip(\n",
      "    samples[samples.disease.apply(lambda x: x not in f)].tumor_analysis_id,\n",
      "    samples[samples.disease.apply(lambda x: x not in f)].normal_analysis_id))\n",
      "bed = ppy.cosmic_intervals_merged01\n",
      "ppy.makedir(ppy.cosmic_variants01)\n",
      "bam_outdir = ppy.cosmic_variants01\n",
      "variant_outdir = ppy.cosmic_variants01\n",
      "name = 'cosmic01_rest'\n",
      "threads = 9\n",
      "\n",
      "engine = cpb.cghub.FLCVariantCallingEngine(tumor_normal,\n",
      "                                           bed,\n",
      "                                           ppy.java,\n",
      "                                           ppy.mutect,\n",
      "                                           ppy.GRCh37_lite,\n",
      "                                           ppy.dbsnp,\n",
      "                                           ppy.cosmic_all,\n",
      "                                           name=name,\n",
      "                                           bam_outdir=bam_outdir,\n",
      "                                           variant_outdir=variant_outdir,\n",
      "                                           threads=threads)"
     ],
     "language": "python",
     "metadata": {},
     "outputs": []
    },
    {
     "cell_type": "raw",
     "metadata": {},
     "source": [
      "f = ['LIHC', 'OV', 'BRCA']\n",
      "tumor_normal = dict(zip(\n",
      "    samples[samples.disease.apply(lambda x: x not in f)].tumor_analysis_id,\n",
      "    samples[samples.disease.apply(lambda x: x not in f)].normal_analysis_id))\n",
      "bed = ppy.cosmic_intervals_merged01\n",
      "ppy.makedir(ppy.cosmic_variants01)\n",
      "bam_outdir = ppy.cosmic_variants01\n",
      "variant_outdir = ppy.cosmic_variants01\n",
      "name = 'cosmic01_rest'\n",
      "threads = 9\n",
      "\n",
      "engine = cpb.cghub.FLCVariantCallingEngine(tumor_normal,\n",
      "                                           bed,\n",
      "                                           ppy.java,\n",
      "                                           ppy.mutect,\n",
      "                                           ppy.GRCh37_lite,\n",
      "                                           ppy.dbsnp,\n",
      "                                           ppy.cosmic_all,\n",
      "                                           name=name,\n",
      "                                           bam_outdir=bam_outdir,\n",
      "                                           variant_outdir=variant_outdir,\n",
      "                                           threads=threads)"
     ]
    },
    {
     "cell_type": "raw",
     "metadata": {},
     "source": [
      "tumor_normal = dict(zip(samples[samples.disease == 'OV'].tumor_analysis_id,\n",
      "                        samples[samples.disease == 'OV'].normal_analysis_id))\n",
      "bed = ppy.cosmic_intervals_merged01\n",
      "ppy.makedir(ppy.cosmic_variants01)\n",
      "bam_outdir = ppy.cosmic_variants01\n",
      "variant_outdir = ppy.cosmic_variants01\n",
      "name = 'cosmic01'\n",
      "threads = 10\n",
      "\n",
      "engine = cpb.cghub.FLCVariantCallingEngine(tumor_normal,\n",
      "                                           bed,\n",
      "                                           ppy.java,\n",
      "                                           ppy.mutect,\n",
      "                                           ppy.GRCh37_lite,\n",
      "                                           ppy.dbsnp,\n",
      "                                           ppy.cosmic_all,\n",
      "                                           name=name,\n",
      "                                           bam_outdir=bam_outdir,\n",
      "                                           variant_outdir=variant_outdir,\n",
      "                                           threads=threads)"
     ]
    },
    {
     "cell_type": "raw",
     "metadata": {},
     "source": [
      "tumor_normal = dict(zip(samples[samples.disease == 'BRCA'].tumor_analysis_id,\n",
      "                        samples[samples.disease == 'BRCA'].normal_analysis_id))\n",
      "bed = ppy.cosmic_intervals_merged01\n",
      "ppy.makedir(ppy.cosmic_variants01)\n",
      "bam_outdir = ppy.cosmic_variants01\n",
      "variant_outdir = ppy.cosmic_variants01\n",
      "name = 'cosmic01_BRCA'\n",
      "threads = 10\n",
      "\n",
      "engine = cpb.cghub.FLCVariantCallingEngine(tumor_normal,\n",
      "                                           bed,\n",
      "                                           ppy.java,\n",
      "                                           ppy.mutect,\n",
      "                                           ppy.GRCh37_lite,\n",
      "                                           ppy.dbsnp,\n",
      "                                           ppy.cosmic_all,\n",
      "                                           name=name,\n",
      "                                           bam_outdir=bam_outdir,\n",
      "                                           variant_outdir=variant_outdir,\n",
      "                                           threads=threads)"
     ]
    },
    {
     "cell_type": "raw",
     "metadata": {},
     "source": [
      "tumor_normal = dict(zip(samples[samples.disease == 'LIHC'].tumor_analysis_id,\n",
      "                        samples[samples.disease == 'LIHC'].normal_analysis_id))\n",
      "bed = ppy.cosmic_intervals_merged01\n",
      "ppy.makedir(ppy.cosmic_variants01)\n",
      "bam_outdir = ppy.cosmic_variants01\n",
      "variant_outdir = ppy.cosmic_variants01\n",
      "name = 'cosmic01_LIHC'\n",
      "threads = 10\n",
      "\n",
      "engine = cpb.cghub.FLCVariantCallingEngine(tumor_normal,\n",
      "                                           bed,\n",
      "                                           ppy.java,\n",
      "                                           ppy.mutect,\n",
      "                                           ppy.GRCh37_lite,\n",
      "                                           ppy.dbsnp,\n",
      "                                           ppy.cosmic_all,\n",
      "                                           name=name,\n",
      "                                           bam_outdir=bam_outdir,\n",
      "                                           variant_outdir=variant_outdir,\n",
      "                                           threads=threads)"
     ]
    },
    {
     "cell_type": "code",
     "collapsed": false,
     "input": [],
     "language": "python",
     "metadata": {},
     "outputs": []
    }
   ],
   "metadata": {}
  }
 ]
}