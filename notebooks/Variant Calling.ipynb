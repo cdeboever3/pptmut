{
 "metadata": {
  "name": "",
  "signature": "sha256:0c0c793655970d67fdead849f123807ca0a687ca7d301bfec65c610a3cc405ed"
 },
 "nbformat": 3,
 "nbformat_minor": 0,
 "worksheets": [
  {
   "cells": [
    {
     "cell_type": "code",
     "collapsed": false,
     "input": [
      "import os\n",
      "\n",
      "import cdpybio as cpb\n",
      "import pandas as pd\n",
      "\n",
      "import projectpy as ppy\n",
      "\n",
      "%matplotlib inline"
     ],
     "language": "python",
     "metadata": {},
     "outputs": [],
     "prompt_number": 1
    },
    {
     "cell_type": "code",
     "collapsed": false,
     "input": [
      "samples = pd.read_table(ppy.target_samples,\n",
      "                        index_col=0, header=0)"
     ],
     "language": "python",
     "metadata": {},
     "outputs": [],
     "prompt_number": 2
    },
    {
     "cell_type": "code",
     "collapsed": false,
     "input": [
      "import glob"
     ],
     "language": "python",
     "metadata": {},
     "outputs": [],
     "prompt_number": 4
    },
    {
     "cell_type": "code",
     "collapsed": false,
     "input": [
      "fns = glob.glob('{}/*'.format(ppy.cosmic_variants01))\n",
      "fns = [x for x in fns if len(x) == 134]"
     ],
     "language": "python",
     "metadata": {},
     "outputs": [],
     "prompt_number": 5
    },
    {
     "cell_type": "code",
     "collapsed": false,
     "input": [
      "done = []\n",
      "not_done = []\n",
      "for fn in fns:\n",
      "    if len(glob.glob('{}/*_variants.txt'.format(fn))) > 0:\n",
      "        done.append(fn)\n",
      "    else:\n",
      "        not_done.append(fn)"
     ],
     "language": "python",
     "metadata": {},
     "outputs": [],
     "prompt_number": 6
    },
    {
     "cell_type": "code",
     "collapsed": false,
     "input": [
      "done_tumors = [os.path.split(x)[1].split('_')[0] for x in done]"
     ],
     "language": "python",
     "metadata": {},
     "outputs": [],
     "prompt_number": 7
    },
    {
     "cell_type": "code",
     "collapsed": false,
     "input": [
      "len(not_done)"
     ],
     "language": "python",
     "metadata": {},
     "outputs": [
      {
       "metadata": {},
       "output_type": "pyout",
       "prompt_number": 9,
       "text": [
        "64"
       ]
      }
     ],
     "prompt_number": 9
    },
    {
     "cell_type": "code",
     "collapsed": false,
     "input": [
      "samples.index = samples.tumor_analysis_id"
     ],
     "language": "python",
     "metadata": {},
     "outputs": [],
     "prompt_number": 10
    },
    {
     "cell_type": "code",
     "collapsed": false,
     "input": [
      "not_done_samples = samples.drop(done_tumors)"
     ],
     "language": "python",
     "metadata": {},
     "outputs": [],
     "prompt_number": 11
    },
    {
     "cell_type": "code",
     "collapsed": false,
     "input": [
      "not_done_samples.shape"
     ],
     "language": "python",
     "metadata": {},
     "outputs": [
      {
       "metadata": {},
       "output_type": "pyout",
       "prompt_number": 12,
       "text": [
        "(353, 4)"
       ]
      }
     ],
     "prompt_number": 12
    },
    {
     "cell_type": "code",
     "collapsed": false,
     "input": [
      "tumor_normal = dict(zip(\n",
      "    not_done_samples.tumor_analysis_id,\n",
      "    not_done_samples.normal_analysis_id))\n",
      "bed = ppy.cosmic_intervals_merged01\n",
      "ppy.makedir(ppy.cosmic_variants01)\n",
      "bam_outdir = ppy.cosmic_variants01\n",
      "variant_outdir = ppy.cosmic_variants01\n",
      "name = 'cosmic01_rest2'\n",
      "threads = 9\n",
      "\n",
      "engine = cpb.cghub.FLCVariantCallingEngine(tumor_normal,\n",
      "                                           bed,\n",
      "                                           ppy.java,\n",
      "                                           ppy.mutect,\n",
      "                                           ppy.GRCh37_lite,\n",
      "                                           ppy.dbsnp,\n",
      "                                           ppy.cosmic_all,\n",
      "                                           name=name,\n",
      "                                           bam_outdir=bam_outdir,\n",
      "                                           variant_outdir=variant_outdir,\n",
      "                                           threads=threads)"
     ],
     "language": "python",
     "metadata": {},
     "outputs": [
      {
       "ename": "IOError",
       "evalue": "[Errno 28] No space left on device: '/raid2/projects/pptmut/pptmut/private_data/cosmic_variants01/cosmic01_rest2_variant_calling_info/cosmic01_rest2.bed'",
       "output_type": "pyerr",
       "traceback": [
        "\u001b[1;31m---------------------------------------------------------------------------\u001b[0m\n\u001b[1;31mIOError\u001b[0m                                   Traceback (most recent call last)",
        "\u001b[1;32m<ipython-input-19-23f01eec5ce9>\u001b[0m in \u001b[0;36m<module>\u001b[1;34m()\u001b[0m\n\u001b[0;32m     19\u001b[0m                                            \u001b[0mbam_outdir\u001b[0m\u001b[1;33m=\u001b[0m\u001b[0mbam_outdir\u001b[0m\u001b[1;33m,\u001b[0m\u001b[1;33m\u001b[0m\u001b[0m\n\u001b[0;32m     20\u001b[0m                                            \u001b[0mvariant_outdir\u001b[0m\u001b[1;33m=\u001b[0m\u001b[0mvariant_outdir\u001b[0m\u001b[1;33m,\u001b[0m\u001b[1;33m\u001b[0m\u001b[0m\n\u001b[1;32m---> 21\u001b[1;33m                                            threads=threads)\n\u001b[0m",
        "\u001b[1;32m/raid2/projects/pptmut/pptmut/submodules/cdpybio/cdpybio/cghub.pyc\u001b[0m in \u001b[0;36m__init__\u001b[1;34m(self, tumor_normal_ids, bed, java, mutect, fasta, dbsnp, cosmic, name, external_server, variant_outdir, bam_outdir, threads, sleeptime, variant_engine_fnc)\u001b[0m\n\u001b[0;32m    486\u001b[0m         )\n\u001b[0;32m    487\u001b[0m         \u001b[0mself\u001b[0m\u001b[1;33m.\u001b[0m\u001b[0mrunning\u001b[0m \u001b[1;33m=\u001b[0m \u001b[0mFalse\u001b[0m\u001b[1;33m\u001b[0m\u001b[0m\n\u001b[1;32m--> 488\u001b[1;33m         \u001b[0mself\u001b[0m\u001b[1;33m.\u001b[0m\u001b[0m_setup\u001b[0m\u001b[1;33m(\u001b[0m\u001b[1;33m)\u001b[0m\u001b[1;33m\u001b[0m\u001b[0m\n\u001b[0m\u001b[0;32m    489\u001b[0m         ReadsFromIntervalsEngine.__init__(\n\u001b[0;32m    490\u001b[0m             \u001b[0mself\u001b[0m\u001b[1;33m,\u001b[0m \u001b[0mself\u001b[0m\u001b[1;33m.\u001b[0m\u001b[0manalysis_ids\u001b[0m\u001b[1;33m,\u001b[0m \u001b[0mself\u001b[0m\u001b[1;33m.\u001b[0m\u001b[0mbed\u001b[0m\u001b[1;33m,\u001b[0m \u001b[0mbam_outdir\u001b[0m\u001b[1;33m=\u001b[0m\u001b[0mbam_outdir\u001b[0m\u001b[1;33m,\u001b[0m\u001b[1;33m\u001b[0m\u001b[0m\n",
        "\u001b[1;32m/raid2/projects/pptmut/pptmut/submodules/cdpybio/cdpybio/cghub.pyc\u001b[0m in \u001b[0;36m_setup\u001b[1;34m(self)\u001b[0m\n\u001b[0;32m    514\u001b[0m             \u001b[0mself\u001b[0m\u001b[1;33m.\u001b[0m\u001b[0m_exist_setup\u001b[0m\u001b[1;33m(\u001b[0m\u001b[1;33m)\u001b[0m\u001b[1;33m\u001b[0m\u001b[0m\n\u001b[0;32m    515\u001b[0m         \u001b[1;32melse\u001b[0m\u001b[1;33m:\u001b[0m\u001b[1;33m\u001b[0m\u001b[0m\n\u001b[1;32m--> 516\u001b[1;33m             \u001b[0mself\u001b[0m\u001b[1;33m.\u001b[0m\u001b[0m_not_exist_setup\u001b[0m\u001b[1;33m(\u001b[0m\u001b[1;33m)\u001b[0m\u001b[1;33m\u001b[0m\u001b[0m\n\u001b[0m\u001b[0;32m    517\u001b[0m \u001b[1;33m\u001b[0m\u001b[0m\n\u001b[0;32m    518\u001b[0m     \u001b[1;32mdef\u001b[0m \u001b[0m_exist_setup\u001b[0m\u001b[1;33m(\u001b[0m\u001b[0mself\u001b[0m\u001b[1;33m)\u001b[0m\u001b[1;33m:\u001b[0m\u001b[1;33m\u001b[0m\u001b[0m\n",
        "\u001b[1;32m/raid2/projects/pptmut/pptmut/submodules/cdpybio/cdpybio/cghub.pyc\u001b[0m in \u001b[0;36m_not_exist_setup\u001b[1;34m(self)\u001b[0m\n\u001b[0;32m    543\u001b[0m         \u001b[1;31m# Copy the bed file into the info directory for posterity.\u001b[0m\u001b[1;33m\u001b[0m\u001b[1;33m\u001b[0m\u001b[0m\n\u001b[0;32m    544\u001b[0m         shutil.copy(self.bed, \n\u001b[1;32m--> 545\u001b[1;33m                     os.path.join(self.infodir, '{}.bed'.format(self.name)))\n\u001b[0m\u001b[0;32m    546\u001b[0m         \u001b[0mself\u001b[0m\u001b[1;33m.\u001b[0m\u001b[0m_make_html_status\u001b[0m\u001b[1;33m(\u001b[0m\u001b[1;33m)\u001b[0m\u001b[1;33m\u001b[0m\u001b[0m\n\u001b[0;32m    547\u001b[0m \u001b[1;33m\u001b[0m\u001b[0m\n",
        "\u001b[1;32m/raid/development/cdeboever/software/anaconda1.9.1/envs/pptmut/lib/python2.7/shutil.pyc\u001b[0m in \u001b[0;36mcopy\u001b[1;34m(src, dst)\u001b[0m\n\u001b[0;32m    117\u001b[0m     \u001b[1;32mif\u001b[0m \u001b[0mos\u001b[0m\u001b[1;33m.\u001b[0m\u001b[0mpath\u001b[0m\u001b[1;33m.\u001b[0m\u001b[0misdir\u001b[0m\u001b[1;33m(\u001b[0m\u001b[0mdst\u001b[0m\u001b[1;33m)\u001b[0m\u001b[1;33m:\u001b[0m\u001b[1;33m\u001b[0m\u001b[0m\n\u001b[0;32m    118\u001b[0m         \u001b[0mdst\u001b[0m \u001b[1;33m=\u001b[0m \u001b[0mos\u001b[0m\u001b[1;33m.\u001b[0m\u001b[0mpath\u001b[0m\u001b[1;33m.\u001b[0m\u001b[0mjoin\u001b[0m\u001b[1;33m(\u001b[0m\u001b[0mdst\u001b[0m\u001b[1;33m,\u001b[0m \u001b[0mos\u001b[0m\u001b[1;33m.\u001b[0m\u001b[0mpath\u001b[0m\u001b[1;33m.\u001b[0m\u001b[0mbasename\u001b[0m\u001b[1;33m(\u001b[0m\u001b[0msrc\u001b[0m\u001b[1;33m)\u001b[0m\u001b[1;33m)\u001b[0m\u001b[1;33m\u001b[0m\u001b[0m\n\u001b[1;32m--> 119\u001b[1;33m     \u001b[0mcopyfile\u001b[0m\u001b[1;33m(\u001b[0m\u001b[0msrc\u001b[0m\u001b[1;33m,\u001b[0m \u001b[0mdst\u001b[0m\u001b[1;33m)\u001b[0m\u001b[1;33m\u001b[0m\u001b[0m\n\u001b[0m\u001b[0;32m    120\u001b[0m     \u001b[0mcopymode\u001b[0m\u001b[1;33m(\u001b[0m\u001b[0msrc\u001b[0m\u001b[1;33m,\u001b[0m \u001b[0mdst\u001b[0m\u001b[1;33m)\u001b[0m\u001b[1;33m\u001b[0m\u001b[0m\n\u001b[0;32m    121\u001b[0m \u001b[1;33m\u001b[0m\u001b[0m\n",
        "\u001b[1;32m/raid/development/cdeboever/software/anaconda1.9.1/envs/pptmut/lib/python2.7/shutil.pyc\u001b[0m in \u001b[0;36mcopyfile\u001b[1;34m(src, dst)\u001b[0m\n\u001b[0;32m     81\u001b[0m \u001b[1;33m\u001b[0m\u001b[0m\n\u001b[0;32m     82\u001b[0m     \u001b[1;32mwith\u001b[0m \u001b[0mopen\u001b[0m\u001b[1;33m(\u001b[0m\u001b[0msrc\u001b[0m\u001b[1;33m,\u001b[0m \u001b[1;34m'rb'\u001b[0m\u001b[1;33m)\u001b[0m \u001b[1;32mas\u001b[0m \u001b[0mfsrc\u001b[0m\u001b[1;33m:\u001b[0m\u001b[1;33m\u001b[0m\u001b[0m\n\u001b[1;32m---> 83\u001b[1;33m         \u001b[1;32mwith\u001b[0m \u001b[0mopen\u001b[0m\u001b[1;33m(\u001b[0m\u001b[0mdst\u001b[0m\u001b[1;33m,\u001b[0m \u001b[1;34m'wb'\u001b[0m\u001b[1;33m)\u001b[0m \u001b[1;32mas\u001b[0m \u001b[0mfdst\u001b[0m\u001b[1;33m:\u001b[0m\u001b[1;33m\u001b[0m\u001b[0m\n\u001b[0m\u001b[0;32m     84\u001b[0m             \u001b[0mcopyfileobj\u001b[0m\u001b[1;33m(\u001b[0m\u001b[0mfsrc\u001b[0m\u001b[1;33m,\u001b[0m \u001b[0mfdst\u001b[0m\u001b[1;33m)\u001b[0m\u001b[1;33m\u001b[0m\u001b[0m\n\u001b[0;32m     85\u001b[0m \u001b[1;33m\u001b[0m\u001b[0m\n",
        "\u001b[1;31mIOError\u001b[0m: [Errno 28] No space left on device: '/raid2/projects/pptmut/pptmut/private_data/cosmic_variants01/cosmic01_rest2_variant_calling_info/cosmic01_rest2.bed'"
       ]
      }
     ],
     "prompt_number": 19
    },
    {
     "cell_type": "raw",
     "metadata": {},
     "source": [
      "f = ['LIHC', 'OV', 'BRCA']\n",
      "tumor_normal = dict(zip(\n",
      "    samples[samples.disease.apply(lambda x: x not in f)].tumor_analysis_id,\n",
      "    samples[samples.disease.apply(lambda x: x not in f)].normal_analysis_id))\n",
      "bed = ppy.cosmic_intervals_merged01\n",
      "ppy.makedir(ppy.cosmic_variants01)\n",
      "bam_outdir = ppy.cosmic_variants01\n",
      "variant_outdir = ppy.cosmic_variants01\n",
      "name = 'cosmic01_rest'\n",
      "threads = 9\n",
      "\n",
      "engine = cpb.cghub.FLCVariantCallingEngine(tumor_normal,\n",
      "                                           bed,\n",
      "                                           ppy.java,\n",
      "                                           ppy.mutect,\n",
      "                                           ppy.GRCh37_lite,\n",
      "                                           ppy.dbsnp,\n",
      "                                           ppy.cosmic_all,\n",
      "                                           name=name,\n",
      "                                           bam_outdir=bam_outdir,\n",
      "                                           variant_outdir=variant_outdir,\n",
      "                                           threads=threads)"
     ]
    },
    {
     "cell_type": "raw",
     "metadata": {},
     "source": [
      "tumor_normal = dict(zip(samples[samples.disease == 'OV'].tumor_analysis_id,\n",
      "                        samples[samples.disease == 'OV'].normal_analysis_id))\n",
      "bed = ppy.cosmic_intervals_merged01\n",
      "ppy.makedir(ppy.cosmic_variants01)\n",
      "bam_outdir = ppy.cosmic_variants01\n",
      "variant_outdir = ppy.cosmic_variants01\n",
      "name = 'cosmic01'\n",
      "threads = 10\n",
      "\n",
      "engine = cpb.cghub.FLCVariantCallingEngine(tumor_normal,\n",
      "                                           bed,\n",
      "                                           ppy.java,\n",
      "                                           ppy.mutect,\n",
      "                                           ppy.GRCh37_lite,\n",
      "                                           ppy.dbsnp,\n",
      "                                           ppy.cosmic_all,\n",
      "                                           name=name,\n",
      "                                           bam_outdir=bam_outdir,\n",
      "                                           variant_outdir=variant_outdir,\n",
      "                                           threads=threads)"
     ]
    },
    {
     "cell_type": "raw",
     "metadata": {},
     "source": [
      "tumor_normal = dict(zip(samples[samples.disease == 'BRCA'].tumor_analysis_id,\n",
      "                        samples[samples.disease == 'BRCA'].normal_analysis_id))\n",
      "bed = ppy.cosmic_intervals_merged01\n",
      "ppy.makedir(ppy.cosmic_variants01)\n",
      "bam_outdir = ppy.cosmic_variants01\n",
      "variant_outdir = ppy.cosmic_variants01\n",
      "name = 'cosmic01_BRCA'\n",
      "threads = 10\n",
      "\n",
      "engine = cpb.cghub.FLCVariantCallingEngine(tumor_normal,\n",
      "                                           bed,\n",
      "                                           ppy.java,\n",
      "                                           ppy.mutect,\n",
      "                                           ppy.GRCh37_lite,\n",
      "                                           ppy.dbsnp,\n",
      "                                           ppy.cosmic_all,\n",
      "                                           name=name,\n",
      "                                           bam_outdir=bam_outdir,\n",
      "                                           variant_outdir=variant_outdir,\n",
      "                                           threads=threads)"
     ]
    },
    {
     "cell_type": "raw",
     "metadata": {},
     "source": [
      "tumor_normal = dict(zip(samples[samples.disease == 'LIHC'].tumor_analysis_id,\n",
      "                        samples[samples.disease == 'LIHC'].normal_analysis_id))\n",
      "bed = ppy.cosmic_intervals_merged01\n",
      "ppy.makedir(ppy.cosmic_variants01)\n",
      "bam_outdir = ppy.cosmic_variants01\n",
      "variant_outdir = ppy.cosmic_variants01\n",
      "name = 'cosmic01_LIHC'\n",
      "threads = 10\n",
      "\n",
      "engine = cpb.cghub.FLCVariantCallingEngine(tumor_normal,\n",
      "                                           bed,\n",
      "                                           ppy.java,\n",
      "                                           ppy.mutect,\n",
      "                                           ppy.GRCh37_lite,\n",
      "                                           ppy.dbsnp,\n",
      "                                           ppy.cosmic_all,\n",
      "                                           name=name,\n",
      "                                           bam_outdir=bam_outdir,\n",
      "                                           variant_outdir=variant_outdir,\n",
      "                                           threads=threads)"
     ]
    },
    {
     "cell_type": "code",
     "collapsed": false,
     "input": [],
     "language": "python",
     "metadata": {},
     "outputs": []
    }
   ],
   "metadata": {}
  }
 ]
}