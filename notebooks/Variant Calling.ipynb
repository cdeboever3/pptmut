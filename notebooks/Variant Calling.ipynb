{
 "metadata": {
  "name": "",
  "signature": "sha256:e9a181ad358d42d607136b5322b505db3a8a71ac17c9b1a9034a96a12cb6e89f"
 },
 "nbformat": 3,
 "nbformat_minor": 0,
 "worksheets": [
  {
   "cells": [
    {
     "cell_type": "code",
     "collapsed": false,
     "input": [
      "import os\n",
      "\n",
      "import cdpybio as cpb\n",
      "import pandas as pd\n",
      "\n",
      "import projectpy as ppy\n",
      "\n",
      "%matplotlib inline"
     ],
     "language": "python",
     "metadata": {},
     "outputs": [],
     "prompt_number": 1
    },
    {
     "cell_type": "code",
     "collapsed": false,
     "input": [
      "samples = pd.read_table(ppy.target_samples,\n",
      "                        index_col=0, header=0)"
     ],
     "language": "python",
     "metadata": {},
     "outputs": [],
     "prompt_number": 2
    },
    {
     "cell_type": "code",
     "collapsed": false,
     "input": [
      "#tumor_normal = dict(zip(samples[samples.disease == 'KICH'].tumor_analysis_id,\n",
      "#                        samples[samples.disease == 'KICH'].normal_analysis_id))\n",
      "tumor_normal = dict(zip(samples[samples.disease == 'OV'].tumor_analysis_id,\n",
      "                        samples[samples.disease == 'OV'].normal_analysis_id))\n",
      "bed = ppy.cosmic_intervals_merged01\n",
      "ppy.makedir(ppy.cosmic_variants01)\n",
      "bam_outdir = ppy.cosmic_variants01\n",
      "variant_outdir = ppy.cosmic_variants01\n",
      "name = 'cosmic01'\n",
      "threads = 10"
     ],
     "language": "python",
     "metadata": {},
     "outputs": [],
     "prompt_number": 3
    },
    {
     "cell_type": "raw",
     "metadata": {},
     "source": [
      "tumor_normal = dict(zip(samples[samples.disease == 'KICH'].tumor_analysis_id,\n",
      "                        samples[samples.disease == 'KICH'].normal_analysis_id))\n",
      "#tumor_normal = dict(zip(samples[samples.disease == 'OV'].tumor_analysis_id,\n",
      "#                        samples[samples.disease == 'OV'].normal_analysis_id))\n",
      "bed = '/raid2/projects/pptmut/pptmut/sandbox/reads_test/100.bed'\n",
      "bam_outdir = '/raid2/projects/pptmut/pptmut/sandbox/reads_test/'\n",
      "variant_outdir = '/raid2/projects/pptmut/pptmut/sandbox/reads_test/variant_test/'\n",
      "threads = 8"
     ]
    },
    {
     "cell_type": "raw",
     "metadata": {},
     "source": [
      "engine = cpb.cghub.FLCVariantCallingEngine(tumor_normal,\n",
      "                                           bed,\n",
      "                                           ppy.java,\n",
      "                                           ppy.mutect,\n",
      "                                           ppy.GRCh37_lite,\n",
      "                                           ppy.dbsnp,\n",
      "                                           ppy.cosmic_all,\n",
      "                                           name=name,\n",
      "                                           bam_outdir=bam_outdir,\n",
      "                                           variant_outdir=variant_outdir,\n",
      "                                           threads=threads)"
     ]
    },
    {
     "cell_type": "code",
     "collapsed": false,
     "input": [
      "bam = cpb.cghub.GTFuseBam('37de47f3-99f1-47fe-8750-f9a5f6604243')"
     ],
     "language": "python",
     "metadata": {},
     "outputs": [],
     "prompt_number": 4
    },
    {
     "cell_type": "code",
     "collapsed": false,
     "input": [
      "rfi = cpb.cghub.ReadsFromIntervalsBam(bam, bed, 'test.bam')"
     ],
     "language": "python",
     "metadata": {},
     "outputs": []
    },
    {
     "cell_type": "code",
     "collapsed": false,
     "input": [],
     "language": "python",
     "metadata": {},
     "outputs": []
    },
    {
     "cell_type": "code",
     "collapsed": false,
     "input": [],
     "language": "python",
     "metadata": {},
     "outputs": []
    },
    {
     "cell_type": "code",
     "collapsed": false,
     "input": [],
     "language": "python",
     "metadata": {},
     "outputs": []
    },
    {
     "cell_type": "code",
     "collapsed": false,
     "input": [],
     "language": "python",
     "metadata": {},
     "outputs": []
    },
    {
     "cell_type": "code",
     "collapsed": false,
     "input": [
      "import glob, subprocess"
     ],
     "language": "python",
     "metadata": {},
     "outputs": [],
     "prompt_number": 9
    },
    {
     "cell_type": "code",
     "collapsed": false,
     "input": [
      "bams = glob.glob('/tmp/cdeboever/37de47f3-99f1-47fe-8750-f9a5f6604243/*.bam')"
     ],
     "language": "python",
     "metadata": {},
     "outputs": [],
     "prompt_number": 10
    },
    {
     "cell_type": "code",
     "collapsed": false,
     "input": [
      "len(bams)"
     ],
     "language": "python",
     "metadata": {},
     "outputs": [
      {
       "metadata": {},
       "output_type": "pyout",
       "prompt_number": 11,
       "text": [
        "306"
       ]
      }
     ],
     "prompt_number": 11
    },
    {
     "cell_type": "code",
     "collapsed": false,
     "input": [
      "c = 'samtools merge -f {} {}'.format('temp.bam', ' '.join(bams))"
     ],
     "language": "python",
     "metadata": {},
     "outputs": [],
     "prompt_number": 21
    },
    {
     "cell_type": "code",
     "collapsed": false,
     "input": [
      "subprocess.check_call(c, shell=True)"
     ],
     "language": "python",
     "metadata": {},
     "outputs": [
      {
       "metadata": {},
       "output_type": "pyout",
       "prompt_number": 22,
       "text": [
        "0"
       ]
      }
     ],
     "prompt_number": 22
    },
    {
     "cell_type": "code",
     "collapsed": false,
     "input": [
      "bam2 = cpb.cghub.GTFuseBam('0db10b7c-ce59-473a-9243-837d41122276')"
     ],
     "language": "python",
     "metadata": {},
     "outputs": [],
     "prompt_number": 13
    },
    {
     "cell_type": "code",
     "collapsed": false,
     "input": [
      "rfi = cpb.cghub.ReadsFromIntervalsBam(bam2,\n",
      "                                      '/raid2/projects/pptmut/pptmut/sandbox/reads_test/five.bed', \n",
      "                                      'test.bam')"
     ],
     "language": "python",
     "metadata": {},
     "outputs": [],
     "prompt_number": 15
    },
    {
     "cell_type": "code",
     "collapsed": false,
     "input": [
      "ints = cpb.cghub.bed_to_samtools_intervals(ppy.cosmic_intervals_merged01)"
     ],
     "language": "python",
     "metadata": {},
     "outputs": [],
     "prompt_number": 16
    },
    {
     "cell_type": "code",
     "collapsed": false,
     "input": [
      "len(ints)"
     ],
     "language": "python",
     "metadata": {},
     "outputs": [
      {
       "metadata": {},
       "output_type": "pyout",
       "prompt_number": 17,
       "text": [
        "6816"
       ]
      }
     ],
     "prompt_number": 17
    },
    {
     "cell_type": "code",
     "collapsed": false,
     "input": [],
     "language": "python",
     "metadata": {},
     "outputs": []
    },
    {
     "cell_type": "code",
     "collapsed": false,
     "input": [],
     "language": "python",
     "metadata": {},
     "outputs": []
    },
    {
     "cell_type": "code",
     "collapsed": false,
     "input": [],
     "language": "python",
     "metadata": {},
     "outputs": []
    },
    {
     "cell_type": "code",
     "collapsed": false,
     "input": [
      "engine.running"
     ],
     "language": "python",
     "metadata": {},
     "outputs": [
      {
       "output_type": "stream",
       "stream": "stderr",
       "text": [
        "Process Process-2:\n",
        "Process Process-10:\n",
        "Traceback (most recent call last):\n",
        "Traceback (most recent call last):\n",
        "  File \"/raid/development/cdeboever/software/anaconda1.9.1/envs/pptmut/lib/python2.7/multiprocessing/process.py\", line 258, in _bootstrap\n",
        "  File \"/raid/development/cdeboever/software/anaconda1.9.1/envs/pptmut/lib/python2.7/multiprocessing/process.py\", line 258, in _bootstrap\n",
        "    self.run()\n",
        "    self.run()\n",
        "  File \"/raid/development/cdeboever/software/anaconda1.9.1/envs/pptmut/lib/python2.7/multiprocessing/process.py\", line 114, in run\n",
        "  File \"/raid/development/cdeboever/software/anaconda1.9.1/envs/pptmut/lib/python2.7/multiprocessing/process.py\", line 114, in run\n",
        "    self._target(*self._args, **self._kwargs)\n",
        "    self._target(*self._args, **self._kwargs)\n",
        "  File \"/raid/development/cdeboever/git_repos/cdeboever3/cdpybio/cdpybio/cghub.py\", line 393, in get_reads\n",
        "  File \"/raid/development/cdeboever/git_repos/cdeboever3/cdpybio/cdpybio/cghub.py\", line 393, in get_reads\n",
        "    bam = ReadsFromIntervalsBam(gtfuse_bam, self.intervals, bam_path)\n",
        "    bam = ReadsFromIntervalsBam(gtfuse_bam, self.intervals, bam_path)\n",
        "  File \"/raid/development/cdeboever/git_repos/cdeboever3/cdpybio/cdpybio/cghub.py\", line 170, in __init__\n",
        "  File \"/raid/development/cdeboever/git_repos/cdeboever3/cdpybio/cdpybio/cghub.py\", line 170, in __init__\n",
        "    self.reads_from_intervals()\n",
        "    self.reads_from_intervals()\n",
        "  File \"/raid/development/cdeboever/git_repos/cdeboever3/cdpybio/cdpybio/cghub.py\", line 225, in reads_from_intervals\n",
        "  File \"/raid/development/cdeboever/git_repos/cdeboever3/cdpybio/cdpybio/cghub.py\", line 225, in reads_from_intervals\n",
        "    subprocess.check_call(c, shell=True)\n",
        "    subprocess.check_call(c, shell=True)\n",
        "  File \"/raid/development/cdeboever/software/anaconda1.9.1/envs/pptmut/lib/python2.7/subprocess.py\", line 540, in check_call\n",
        "  File \"/raid/development/cdeboever/software/anaconda1.9.1/envs/pptmut/lib/python2.7/subprocess.py\", line 540, in check_call\n",
        "    raise CalledProcessError(retcode, cmd)\n",
        "    raise CalledProcessError(retcode, cmd)\n",
        "CalledProcessError: Command 'samtools merge -f /tmp/cdeboever/a7dcafae-1edd-4af5-9b72-5dffcb692c12/a7dcafae-1edd-4af5-9b72-5dffcb692c12_480_merged.bam /tmp/cdeboever/a7dcafae-1edd-4af5-9b72-5dffcb692c12/a7dcafae-1edd-4af5-9b72-5dffcb692c12_470_merged.bam /tmp/cdeboever/a7dcafae-1edd-4af5-9b72-5dffcb692c12/a7dcafae-1edd-4af5-9b72-5dffcb692c12_480.bam' returned non-zero exit status 1\n",
        "CalledProcessError: Command 'samtools merge -f /tmp/cdeboever/37de47f3-99f1-47fe-8750-f9a5f6604243/37de47f3-99f1-47fe-8750-f9a5f6604243_470_merged.bam /tmp/cdeboever/37de47f3-99f1-47fe-8750-f9a5f6604243/37de47f3-99f1-47fe-8750-f9a5f6604243_460_merged.bam /tmp/cdeboever/37de47f3-99f1-47fe-8750-f9a5f6604243/37de47f3-99f1-47fe-8750-f9a5f6604243_470.bam' returned non-zero exit status 1\n"
       ]
      },
      {
       "metadata": {},
       "output_type": "pyout",
       "prompt_number": 6,
       "text": [
        "True"
       ]
      }
     ],
     "prompt_number": 6
    },
    {
     "cell_type": "code",
     "collapsed": false,
     "input": [
      "'37de47f3-99f1-47fe-8750-f9a5f6604243' in samples.tumor_analysis_id.values"
     ],
     "language": "python",
     "metadata": {},
     "outputs": [
      {
       "metadata": {},
       "output_type": "pyout",
       "prompt_number": 11,
       "text": [
        "True"
       ]
      }
     ],
     "prompt_number": 11
    },
    {
     "cell_type": "code",
     "collapsed": false,
     "input": [],
     "language": "python",
     "metadata": {},
     "outputs": []
    }
   ],
   "metadata": {}
  }
 ]
}