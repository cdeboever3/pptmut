{
 "metadata": {
  "name": "",
  "signature": "sha256:ec3906c52c9c2a9aaafb0018241014e044823eda9cd173839295d459868a167d"
 },
 "nbformat": 3,
 "nbformat_minor": 0,
 "worksheets": [
  {
   "cells": [
    {
     "cell_type": "markdown",
     "metadata": {},
     "source": [
      "In this notebook, I'll identify which TCGA samples\n",
      "I want to analyze."
     ]
    },
    {
     "cell_type": "code",
     "collapsed": false,
     "input": [
      "import os\n",
      "\n",
      "import numpy as np\n",
      "import pandas as pd\n",
      "\n",
      "import projectpy as ppy"
     ],
     "language": "python",
     "metadata": {},
     "outputs": [],
     "prompt_number": 1
    },
    {
     "cell_type": "code",
     "collapsed": false,
     "input": [
      "outdir = os.path.join(ppy.root, 'output', 'target_samples')\n",
      "ppy.makedir(outdir)"
     ],
     "language": "python",
     "metadata": {},
     "outputs": [],
     "prompt_number": 2
    },
    {
     "cell_type": "code",
     "collapsed": false,
     "input": [
      "# These are cancers that have publication limitations\n",
      "# as of August 1, 2014.\n",
      "embargo = ['CESC', 'UCS', 'ACC', 'ESCA', 'PCPG',\n",
      "           'PAAD', 'MESO', 'UVM', 'SARC', 'CHOL',\n",
      "           'TGCT', 'THYM', 'DLBC']\n",
      "\n",
      "manifest = pd.read_table(ppy.cghub_manifest,\n",
      "                         low_memory=False)\n",
      "manifest = manifest[manifest.study == 'TCGA']\n",
      "manifest = manifest[manifest.state == 'Live']\n",
      "manifest = manifest[manifest.disease.apply(lambda x: x not in embargo)]\n",
      "manifest['published'] = manifest.published.astype(np.datetime64)\n",
      "manifest['uploaded'] = manifest.uploaded.astype(np.datetime64)\n",
      "manifest['modified'] = manifest.modified.astype(np.datetime64)"
     ],
     "language": "python",
     "metadata": {},
     "outputs": [],
     "prompt_number": 3
    },
    {
     "cell_type": "markdown",
     "metadata": {},
     "source": [
      "The library type \"WGS\" stands for whole genome \n",
      "sequencing. Sample type \"NB\" stands for normal\n",
      "blood and \"TP\" stands for primary solid tumor.\n",
      "\n",
      "I'm going to include patients with primary solid\n",
      "tumors and matched normal blood samples.\n",
      "\n",
      "Some patients have multiple whole genome sequences.\n",
      "It seems that often there will be pairs of tumor and\n",
      "normal data. So if a patient has three tumor whole genome\n",
      "sequences, there will likely be three normals as well \n",
      "(although this is not always true). Often a tumor-normal \n",
      "pair will have the same or very similar \"published\" dates.\n",
      "These tumor-normal pairs with dates near each other should\n",
      "probably be paired for the purpose of analysis. I'm going \n",
      "to keep the most recent data for each patient. This should \n",
      "hopefully line up the tumor-normal pairs and I'd think the \n",
      "more recent data would be at least as good or better quality\n",
      "than the earlier data."
     ]
    },
    {
     "cell_type": "code",
     "collapsed": false,
     "input": [
      "wgs = manifest[manifest.library_type == 'WGS']\n",
      "wgs = wgs[(wgs.assembly == 'GRCh37-lite') |\n",
      "          (wgs.assembly == 'HG19_Broad_variant')]\n",
      "wgs = wgs.sort(columns=['participant_id', 'published'],\n",
      "               ascending=False)\n",
      "\n",
      "tp = wgs[wgs.sample_type == 'TP']\n",
      "tp = tp.drop_duplicates(subset='participant_id')\n",
      "\n",
      "nb = wgs[wgs.sample_type == 'NB']\n",
      "nb = nb.drop_duplicates(subset='participant_id')"
     ],
     "language": "python",
     "metadata": {},
     "outputs": [],
     "prompt_number": 4
    },
    {
     "cell_type": "markdown",
     "metadata": {},
     "source": [
      "I'll make a simple table with the samples \n",
      "I want to use indexed by participant ID. I \n",
      "can use this for downloading the TCGA data\n",
      "files."
     ]
    },
    {
     "cell_type": "code",
     "collapsed": false,
     "input": [
      "meta = tp[['disease', 'center']]\n",
      "meta['tumor_analysis_id'] = tp.analysis_id\n",
      "meta.index = tp.participant_id\n",
      "normal_analysis_id = nb.analysis_id\n",
      "normal_analysis_id.index = nb.participant_id\n",
      "meta = meta.ix[normal_analysis_id.index]\n",
      "meta['normal_analysis_id'] = normal_analysis_id\n",
      "meta = meta.dropna()\n",
      "meta.to_csv(ppy.target_samples, sep='\\t')"
     ],
     "language": "python",
     "metadata": {},
     "outputs": [],
     "prompt_number": 5
    }
   ],
   "metadata": {}
  }
 ]
}