{
 "metadata": {
  "name": "",
  "signature": "sha256:8f1a2455df1e65aa38d0dddcc7786b882a2ba9405f103a055568ff7b45d6cd01"
 },
 "nbformat": 3,
 "nbformat_minor": 0,
 "worksheets": [
  {
   "cells": [
    {
     "cell_type": "markdown",
     "metadata": {},
     "source": [
      "I'm going to parse the Gencode GTF file in this notebook to make some useful\n",
      "files."
     ]
    },
    {
     "cell_type": "code",
     "collapsed": false,
     "input": [
      "import os\n",
      "\n",
      "import cdpybio as cpb\n",
      "import gffutils\n",
      "import pandas as pd\n",
      "import pybedtools as pbt\n",
      "\n",
      "import projectpy as ppy\n",
      "\n",
      "%load_ext autoreload\n",
      "%autoreload 2"
     ],
     "language": "python",
     "metadata": {},
     "outputs": [],
     "prompt_number": 1
    },
    {
     "cell_type": "code",
     "collapsed": false,
     "input": [
      "outdir = os.path.join(ppy.root, 'output', 'gencode_processing')\n",
      "ppy.makedir(outdir)"
     ],
     "language": "python",
     "metadata": {},
     "outputs": [],
     "prompt_number": 2
    },
    {
     "cell_type": "code",
     "collapsed": false,
     "input": [
      "# Make file with gene information\n",
      "f = ppy.gencode_gene_info\n",
      "if not os.path.exists(f):\n",
      "    gene_info = cpb.gencode.make_gene_info_df(ppy.gencode_gtf)\n",
      "    gene_info.to_csv(f, sep='\\t')\n",
      "else:\n",
      "    gene_info = pd.read_table(ppy.gencode_gene_info,\n",
      "                              header=0, index_col=0)\n",
      "\n",
      "# Make file with splice junction information\n",
      "f = ppy.gencode_sj_info\n",
      "if not os.path.exists(f):\n",
      "    sj_info = cpb.gencode.make_splice_junction_df(ppy.gencode_gtf)\n",
      "    sj_info.to_csv(f, sep='\\t')\n",
      "else:\n",
      "    sj_info = pd.read_table(f, index_col=0,\n",
      "                             header=0)"
     ],
     "language": "python",
     "metadata": {},
     "outputs": [],
     "prompt_number": 7
    }
   ],
   "metadata": {}
  }
 ]
}