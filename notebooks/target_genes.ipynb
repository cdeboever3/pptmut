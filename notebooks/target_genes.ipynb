{
 "metadata": {
  "name": "",
  "signature": "sha256:08bb2cf8c7b902258a95f9057957c08bc85ddf0c6eb58e29cd142249c296b227"
 },
 "nbformat": 3,
 "nbformat_minor": 0,
 "worksheets": [
  {
   "cells": [
    {
     "cell_type": "markdown",
     "metadata": {},
     "source": [
      "# Target Genes\n",
      "\n",
      "In this notebook, I will identify genes that we are \n",
      "interested in investigating for mutations."
     ]
    },
    {
     "cell_type": "code",
     "collapsed": false,
     "input": [
      "import os\n",
      "\n",
      "import cdpybio as cpb\n",
      "import gffutils\n",
      "import pandas as pd\n",
      "import pypptmut as pm\n",
      "import pybedtools as pbt\n",
      "\n",
      "%load_ext autoreload\n",
      "%autoreload 2"
     ],
     "language": "python",
     "metadata": {},
     "outputs": [],
     "prompt_number": 1
    },
    {
     "cell_type": "code",
     "collapsed": false,
     "input": [
      "outdir = os.path.join(pm.root, 'output', 'target_genes')\n",
      "pm.makedir(outdir)\n",
      "\n",
      "x = pd.ExcelFile(pm.cancer_gene_census)\n",
      "cgc = x.parse('List')\n",
      "cgc_abbrev = x.parse('Abbreviations')\n",
      "\n",
      "gene_info = pd.read_table(pm.gencode_gene_info,\n",
      "                          index_col=0, header=0)\n",
      "\n",
      "sj_info = pd.read_table(pm.gencode_sj_info,\n",
      "                        index_col=0, header=0)"
     ],
     "language": "python",
     "metadata": {},
     "outputs": [],
     "prompt_number": 2
    },
    {
     "cell_type": "markdown",
     "metadata": {},
     "source": [
      "## Identify Genes\n",
      "\n",
      "### Tumor Suppressors\n",
      "\n",
      "We can identify tumor suppressors because they have \n",
      "\"Rec\" in the \"Cancer Molecular Genetics\" column. \n",
      "\n",
      "### Oncogenes\n",
      "\n",
      "Rows with \"Dom\" in the \"Cancer Molecular Genetics\" \n",
      "column can be oncogenes but may also be translocations\n",
      "that I may want to exclude or treat differently.\n",
      "[Supek *et al.* 2014](http://www.ncbi.nlm.nih.gov/pubmed/24630730)\n",
      "split oncogenes into those that are amplified, missense, or\n",
      "translocation. I'll follow that for now but I'll also include\n",
      "nonsense and splicing mutations."
     ]
    },
    {
     "cell_type": "code",
     "collapsed": false,
     "input": [
      "ts = cgc[cgc['Cancer Molecular Genetics'] == 'Rec']\n",
      "translocations = cgc[cgc['Mutation Type'].apply(lambda row: 'T' in [ x.strip() for x in str(row).split(',') ])]\n",
      "missense = cgc[cgc['Mutation Type'].apply(lambda row: 'Mis' in [ x.strip() for x in str(row).split(',') ])]\n",
      "amplification = cgc[cgc['Mutation Type'].apply(lambda row: 'A' in [ x.strip() for x in str(row).split(',') ])]\n",
      "nonsense = cgc[cgc['Mutation Type'].apply(lambda row: 'N' in [ x.strip() for x in str(row).split(',') ])]\n",
      "splice = cgc[cgc['Mutation Type'].apply(lambda row: 'S' in [ x.strip() for x in str(row).split(',') ])]\n",
      "\n",
      "print('{:,} tumor suppressors'.format(ts.shape[0]))\n",
      "print('{:,} translocations'.format(translocations.shape[0]))\n",
      "print('{:,} missense'.format(missense.shape[0]))\n",
      "print('{:,} amplification'.format(amplification.shape[0]))\n",
      "print('{:,} nonsense'.format(nonsense.shape[0]))\n",
      "print('{:,} splice'.format(splice.shape[0]))\n",
      "print('{:,} total oncogenes'.format(len(set(translocations.index) |\n",
      "                                        set(missense.index) | \n",
      "                                        set(amplification.index) | \n",
      "                                        set(nonsense.index) | \n",
      "                                        set(splice.index))))"
     ],
     "language": "python",
     "metadata": {},
     "outputs": [
      {
       "output_type": "stream",
       "stream": "stdout",
       "text": [
        "110 tumor suppressors\n",
        "327 translocations\n",
        "166 missense\n",
        "16 amplification\n",
        "102 nonsense\n",
        "64 splice\n",
        "503 total oncogenes\n"
       ]
      }
     ],
     "prompt_number": 3
    },
    {
     "cell_type": "markdown",
     "metadata": {},
     "source": [
      "I'm a little confused as to why I only have \n",
      "16 amplifications and [Supek *et al.* 2014](http://www.ncbi.nlm.nih.gov/pubmed/24630730)\n",
      "have 62 in Figure 1A but I'll let it be for now."
     ]
    },
    {
     "cell_type": "code",
     "collapsed": false,
     "input": [
      "target_genes = cgc.ix[set(ts.index) |\n",
      "                      set(translocations.index) |\n",
      "                      set(missense.index) | \n",
      "                      set(amplification.index) | \n",
      "                      set(nonsense.index) | \n",
      "                      set(splice.index), 'Symbol']\n",
      "target_genes.to_csv(pm.target_genes, sep='\\t',\n",
      "                    index=False)"
     ],
     "language": "python",
     "metadata": {},
     "outputs": [],
     "prompt_number": 4
    },
    {
     "cell_type": "markdown",
     "metadata": {},
     "source": [
      "## Get 3' splice sites and introns\n",
      "\n",
      "I want to get all of the unique 3' splice sites for \n",
      "my target genes. I can use these two define the \n",
      "intervals I need to query. I want to get the last\n",
      "150 bp of intron that precede each 3' splice site. \n",
      "I need to convert the splice junction information\n",
      "into bed format (minding zero- and one-based coordinate\n",
      "stuff) and also check whether the shortest intron is \n",
      "longer than 150 bp. If the intron is shorter than 150,\n",
      "I will take as much intronic sequence as I can but I \n",
      "will discard introns if they are less than 50 bp.\n",
      "\n",
      "I will sort on the acceptor column and the intron length\n",
      "and then keep only one row per 3' splice site. By sorting in \n",
      "this way, I'll be left with the shortest intron for each\n",
      "3' splice site."
     ]
    },
    {
     "cell_type": "code",
     "collapsed": false,
     "input": [
      "sj_info['gene_name'] = gene_info.ix[sj_info.gene, 'gene_name'].values\n",
      "sj_targets = sj_info[sj_info.gene_name.apply(lambda x: x in target_genes.values)]\n",
      "sj_targets['intron_length'] = sj_targets.end - sj_targets.start - 1\n",
      "sj_targets = sj_targets.sort(columns=['acceptor','intron_length'])\n",
      "sj_targets = sj_targets.drop_duplicates(subset=['acceptor'])"
     ],
     "language": "python",
     "metadata": {},
     "outputs": [],
     "prompt_number": 5
    },
    {
     "cell_type": "code",
     "collapsed": false,
     "input": [
      "def get_interval(row, size=150):\n",
      "    \"\"\"Get intronic genomic interval using row from sj_info\"\"\"\n",
      "    if row['intron_length'] < 50:\n",
      "        return None\n",
      "    else:\n",
      "        if row['intron_length'] < size:\n",
      "            size = row['intron_length']\n",
      "        if row['strand'] == '+':\n",
      "            name = '{}_{}'.format(row['gene_name'], row['acceptor'])\n",
      "            interval = '\\t'.join([row['chrom'][3:], \n",
      "                                  str(row['end'] - size),\n",
      "                                  str(row['end']),\n",
      "                                  name,\n",
      "                                  row['strand']])\n",
      "        if row['strand'] == '-':\n",
      "            name = '{}_{}'.format(row['gene_name'], row['acceptor'])\n",
      "            interval = '\\t'.join([row['chrom'][3:], \n",
      "                                  str(row['start'] - 1),\n",
      "                                  str(row['start'] - 1 + size),\n",
      "                                  name,\n",
      "                                  row['strand']])\n",
      "    return interval"
     ],
     "language": "python",
     "metadata": {},
     "outputs": [],
     "prompt_number": 6
    },
    {
     "cell_type": "markdown",
     "metadata": {},
     "source": [
      "We'll write the target intervals to a file. Some target intervals\n",
      "overlap (perhaps overlapping genes on different strands or alternative\n",
      "3' splice sites) so we'll also make a version that merges the intervals\n",
      "together to use when we query the TCGA."
     ]
    },
    {
     "cell_type": "code",
     "collapsed": false,
     "input": [
      "target_intervals = sj_targets.apply(lambda x: get_interval(x), axis=1).dropna()\n",
      "f = open(pm.target_intervals, 'w')\n",
      "f.write('\\n'.join(target_intervals) + '\\n')\n",
      "f.close()\n",
      "\n",
      "ti = pbt.BedTool('\\n'.join(target_intervals.values),\n",
      "                 from_string=True)\n",
      "ti = ti.sort()\n",
      "ti = ti.merge()\n",
      "ti.saveas(pm.target_intervals_merged)"
     ],
     "language": "python",
     "metadata": {},
     "outputs": [
      {
       "metadata": {},
       "output_type": "pyout",
       "prompt_number": 7,
       "text": [
        "<BedTool(/raid2/projects/pptmut/pptmut/output/target_genes/target_intervals_merged.bed)>"
       ]
      }
     ],
     "prompt_number": 7
    }
   ],
   "metadata": {}
  }
 ]
}