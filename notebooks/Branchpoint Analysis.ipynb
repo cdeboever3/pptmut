{
 "metadata": {
  "name": "",
  "signature": "sha256:82b0122bfcd9b28fae453b780bf769658b0da72b43bfb98d308c0f06226321f7"
 },
 "nbformat": 3,
 "nbformat_minor": 0,
 "worksheets": [
  {
   "cells": [
    {
     "cell_type": "markdown",
     "metadata": {},
     "source": [
      "I will use SVM_BP to identify branchpoints."
     ]
    },
    {
     "cell_type": "code",
     "collapsed": false,
     "input": [
      "import os\n",
      "import subprocess\n",
      "\n",
      "from Bio.Seq import Seq\n",
      "import cdpybio as cpb\n",
      "import matplotlib.pyplot as plt\n",
      "import numpy as np\n",
      "import pandas as pd\n",
      "import pybedtools as pbt\n",
      "import seaborn as sns\n",
      "\n",
      "import projectpy as ppy\n",
      "\n",
      "%matplotlib inline"
     ],
     "language": "python",
     "metadata": {},
     "outputs": [],
     "prompt_number": 1
    },
    {
     "cell_type": "code",
     "collapsed": false,
     "input": [
      "sns.set_style('whitegrid')\n",
      "\n",
      "outdir = os.path.join(ppy.root, 'output', 'branchpoint_analysis')\n",
      "ppy.makedir(outdir)"
     ],
     "language": "python",
     "metadata": {},
     "outputs": [],
     "prompt_number": 2
    },
    {
     "cell_type": "code",
     "collapsed": false,
     "input": [
      "def single_bp(fn, m='bp_scr'):\n",
      "    \"\"\"Make dataframe with single \"best\" branchpoint per interval using SVM_BP \n",
      "    results. Best branchpoint can be chosen based on branchpoint score (bp_scr)\n",
      "    or SVM score (svm_scr).\"\"\"\n",
      "    assert m in ['bp_scr', 'svm_scr']\n",
      "    df = pd.read_table(fn, index_col=None, header=0)\n",
      "    g = df.groupby('seq_id')\n",
      "    d = dict()\n",
      "    for t in g:\n",
      "        d[t[0]] = t[1].sort(m, ascending=False).iloc[0]\n",
      "    df = pd.DataFrame(d).T\n",
      "    df = df.drop('seq_id', axis=1)\n",
      "    df.index.name = 'seq_id'\n",
      "    return df"
     ],
     "language": "python",
     "metadata": {},
     "outputs": [],
     "prompt_number": 3
    },
    {
     "cell_type": "code",
     "collapsed": false,
     "input": [
      "tpss = pbt.BedTool(ppy.cosmic_intervals01)\n",
      "seqs = tpss.sequence(ppy.GRCh37_lite)\n",
      "\n",
      "strand = dict()\n",
      "for s in seqs:\n",
      "    strand['{}:{}-{}'.format(s.chrom, s.start, s.end)] = s.strand\n",
      "    \n",
      "f = open(seqs.seqfn, 'r')\n",
      "lines = [x.strip() for x in f.readlines()]\n",
      "f.close()\n",
      "\n",
      "f = open(ppy.cosmic_intervals01_fasta, 'w')\n",
      "for i in np.arange(0, len(lines), 2):\n",
      "    s = strand[lines[i].strip('>')]\n",
      "    f.write('{}:{}\\n'.format(lines[i], s))\n",
      "    if s == '+':\n",
      "        f.write(lines[i + 1] + '\\n')\n",
      "    elif s == '-':\n",
      "        str(Seq(lines[i + 1]).reverse_complement())\n",
      "f.close()"
     ],
     "language": "python",
     "metadata": {},
     "outputs": [],
     "prompt_number": 5
    },
    {
     "cell_type": "code",
     "collapsed": false,
     "input": [
      "res = subprocess.check_call('{} {} {} {} > {}'.format(\n",
      "    ppy.svm_bp, ppy.cosmic_intervals01_fasta, 'Hsap', 50,\n",
      "    ppy.cosmic_intervals01_bps),\n",
      "                            shell=True)"
     ],
     "language": "python",
     "metadata": {},
     "outputs": [],
     "prompt_number": 64
    },
    {
     "cell_type": "code",
     "collapsed": false,
     "input": [
      "bps = pd.read_table(ppy.cosmic_intervals01_bps, index_col=0)\n",
      "df = pd.read_table(ppy.cosmic_intervals01, header=None,\n",
      "                   names=['chrom', 'start', 'end', 'name',\n",
      "                          'score', 'strand'])\n",
      "df.index = df.chrom + ':' + df.start.astype(str) + '-' + df.end.astype(str)\n",
      "df['gene'] = df.name.apply(lambda x: x.split('_')[0])\n",
      "df['acceptor'] = df.name.apply(lambda x: x.split('_')[1])\n",
      "df = df.drop(['chrom', 'start', 'end', 'score'], axis=1)\n",
      "bps = bps.join(df)\n",
      "bps.index.name = 'seq_id'\n",
      "bps.to_csv(ppy.cosmic_intervals01_bps, sep='\\t')"
     ],
     "language": "python",
     "metadata": {},
     "outputs": [],
     "prompt_number": 72
    },
    {
     "cell_type": "code",
     "collapsed": false,
     "input": [
      "bps = single_bp(ppy.cosmic_intervals01_bps,)"
     ],
     "language": "python",
     "metadata": {},
     "outputs": [],
     "prompt_number": 92
    },
    {
     "cell_type": "code",
     "collapsed": false,
     "input": [
      "bps.to_csv(ppy.cosmic_intervals01_bps_single, sep='\\t')"
     ],
     "language": "python",
     "metadata": {},
     "outputs": [],
     "prompt_number": 94
    },
    {
     "cell_type": "code",
     "collapsed": false,
     "input": [],
     "language": "python",
     "metadata": {},
     "outputs": []
    }
   ],
   "metadata": {}
  }
 ]
}