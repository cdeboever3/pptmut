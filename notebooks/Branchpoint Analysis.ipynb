{
 "metadata": {
  "name": "",
  "signature": "sha256:c182c02741d1111f74e4de74ffb082795d885e8d17cbcefd79197f4754669f4f"
 },
 "nbformat": 3,
 "nbformat_minor": 0,
 "worksheets": [
  {
   "cells": [
    {
     "cell_type": "markdown",
     "metadata": {},
     "source": [
      "I will use SVM_BP to identify branchpoints."
     ]
    },
    {
     "cell_type": "code",
     "collapsed": false,
     "input": [
      "import os\n",
      "import subprocess\n",
      "\n",
      "import cdpybio as cpb\n",
      "import matplotlib.pyplot as plt\n",
      "import numpy as np\n",
      "import pandas as pd\n",
      "import pybedtools as pbt\n",
      "import seaborn as sns\n",
      "\n",
      "import projectpy as ppy\n",
      "\n",
      "%matplotlib inline"
     ],
     "language": "python",
     "metadata": {},
     "outputs": [],
     "prompt_number": 1
    },
    {
     "cell_type": "code",
     "collapsed": false,
     "input": [
      "sns.set_style('whitegrid')\n",
      "\n",
      "outdir = os.path.join(ppy.root, 'output', 'branchpoint_analysis')\n",
      "ppy.makedir(outdir)"
     ],
     "language": "python",
     "metadata": {},
     "outputs": [],
     "prompt_number": 2
    },
    {
     "cell_type": "code",
     "collapsed": false,
     "input": [
      "def single_bp(fn, m='bp_scr'):\n",
      "    \"\"\"Make dataframe with single \"best\" branchpoint per interval using SVM_BP \n",
      "    results. Best branchpoint can be chosen based on branchpoint score (bp_scr)\n",
      "    or SVM score (svm_scr).\"\"\"\n",
      "    assert m in ['bp_scr', 'svm_scr']\n",
      "    df = pd.read_table(fn, index_col=None, header=0)\n",
      "    g = df.groupby('seq_id')\n",
      "    d = dict()\n",
      "    for t in g:\n",
      "        d[t[0]] = t[1].sort(m, ascending=False).iloc[0]\n",
      "    return pd.DataFrame(d).T"
     ],
     "language": "python",
     "metadata": {},
     "outputs": [],
     "prompt_number": 3
    },
    {
     "cell_type": "code",
     "collapsed": false,
     "input": [
      "tpss = pbt.BedTool(ppy.cosmic_intervals01)\n",
      "seqs = tpss.sequence(ppy.GRCh37_lite)\n",
      "out = seqs.save_seqs(ppy.cosmic_intervals01_fasta)\n",
      "res = subprocess.check_call('{} {} {} {} > {}'.format(\n",
      "    ppy.svm_bp, ppy.cosmic_intervals01_fasta, 'Hsap', 50,\n",
      "    ppy.cosmic_intervals01_bps),\n",
      "                            shell=True)"
     ],
     "language": "python",
     "metadata": {},
     "outputs": [],
     "prompt_number": 4
    },
    {
     "cell_type": "code",
     "collapsed": false,
     "input": [
      "bps = single_bp(ppy.cosmic_intervals01_bps,)"
     ],
     "language": "python",
     "metadata": {},
     "outputs": [],
     "prompt_number": 5
    },
    {
     "cell_type": "code",
     "collapsed": false,
     "input": [
      "bps.ss_dist.hist()"
     ],
     "language": "python",
     "metadata": {},
     "outputs": [
      {
       "metadata": {},
       "output_type": "pyout",
       "prompt_number": 6,
       "text": [
        "<matplotlib.axes.AxesSubplot at 0x7f257f5e7050>"
       ]
      },
      {
       "metadata": {},
       "output_type": "display_data",
       "png": "[encoded data removed]",
       "text": [
        "<matplotlib.figure.Figure at 0x7f257f5e7690>"
       ]
      }
     ],
     "prompt_number": 6
    },
    {
     "cell_type": "code",
     "collapsed": false,
     "input": [
      "bps.head()"
     ],
     "language": "python",
     "metadata": {},
     "outputs": [
      {
       "html": [
        "<div style=\"max-height:1000px;max-width:1500px;overflow:auto;\">\n",
        "<table border=\"1\" class=\"dataframe\">\n",
        "  <thead>\n",
        "    <tr style=\"text-align: right;\">\n",
        "      <th></th>\n",
        "      <th>seq_id</th>\n",
        "      <th>agez</th>\n",
        "      <th>ss_dist</th>\n",
        "      <th>bp_seq</th>\n",
        "      <th>bp_scr</th>\n",
        "      <th>y_cont</th>\n",
        "      <th>ppt_off</th>\n",
        "      <th>ppt_len</th>\n",
        "      <th>ppt_scr</th>\n",
        "      <th>svm_scr</th>\n",
        "    </tr>\n",
        "  </thead>\n",
        "  <tbody>\n",
        "    <tr>\n",
        "      <th>10:102893745-102893895</th>\n",
        "      <td> 10:102893745-102893895</td>\n",
        "      <td> 50</td>\n",
        "      <td> 45</td>\n",
        "      <td> tcctgacgc</td>\n",
        "      <td>  3.639238</td>\n",
        "      <td>     0.775</td>\n",
        "      <td>  1</td>\n",
        "      <td> 40</td>\n",
        "      <td> 58</td>\n",
        "      <td>  2.554035</td>\n",
        "    </tr>\n",
        "    <tr>\n",
        "      <th>10:102893781-102893931</th>\n",
        "      <td> 10:102893781-102893931</td>\n",
        "      <td> 36</td>\n",
        "      <td> 26</td>\n",
        "      <td> ctctcaccc</td>\n",
        "      <td>  2.759359</td>\n",
        "      <td> 0.6666667</td>\n",
        "      <td>  1</td>\n",
        "      <td>  9</td>\n",
        "      <td> 17</td>\n",
        "      <td>  1.792582</td>\n",
        "    </tr>\n",
        "    <tr>\n",
        "      <th>10:102896297-102896447</th>\n",
        "      <td> 10:102896297-102896447</td>\n",
        "      <td> 23</td>\n",
        "      <td> 20</td>\n",
        "      <td> aggtaacgg</td>\n",
        "      <td>  1.687575</td>\n",
        "      <td> 0.6666667</td>\n",
        "      <td>  4</td>\n",
        "      <td>  9</td>\n",
        "      <td> 18</td>\n",
        "      <td>  1.192349</td>\n",
        "    </tr>\n",
        "    <tr>\n",
        "      <th>10:104155555-104155644</th>\n",
        "      <td> 10:104155555-104155644</td>\n",
        "      <td> 39</td>\n",
        "      <td> 34</td>\n",
        "      <td> atctgaccc</td>\n",
        "      <td>  3.283548</td>\n",
        "      <td> 0.8275862</td>\n",
        "      <td>  1</td>\n",
        "      <td> 13</td>\n",
        "      <td> 23</td>\n",
        "      <td>  2.105694</td>\n",
        "    </tr>\n",
        "    <tr>\n",
        "      <th>10:104155859-104156009</th>\n",
        "      <td> 10:104155859-104156009</td>\n",
        "      <td> 16</td>\n",
        "      <td> 37</td>\n",
        "      <td> tgctgagag</td>\n",
        "      <td> 0.6118077</td>\n",
        "      <td>    0.5625</td>\n",
        "      <td> 11</td>\n",
        "      <td> 19</td>\n",
        "      <td> 26</td>\n",
        "      <td> 0.3689309</td>\n",
        "    </tr>\n",
        "  </tbody>\n",
        "</table>\n",
        "</div>"
       ],
       "metadata": {},
       "output_type": "pyout",
       "prompt_number": 7,
       "text": [
        "                                        seq_id agez ss_dist     bp_seq  \\\n",
        "10:102893745-102893895  10:102893745-102893895   50      45  tcctgacgc   \n",
        "10:102893781-102893931  10:102893781-102893931   36      26  ctctcaccc   \n",
        "10:102896297-102896447  10:102896297-102896447   23      20  aggtaacgg   \n",
        "10:104155555-104155644  10:104155555-104155644   39      34  atctgaccc   \n",
        "10:104155859-104156009  10:104155859-104156009   16      37  tgctgagag   \n",
        "\n",
        "                           bp_scr     y_cont ppt_off ppt_len ppt_scr  \\\n",
        "10:102893745-102893895   3.639238      0.775       1      40      58   \n",
        "10:102893781-102893931   2.759359  0.6666667       1       9      17   \n",
        "10:102896297-102896447   1.687575  0.6666667       4       9      18   \n",
        "10:104155555-104155644   3.283548  0.8275862       1      13      23   \n",
        "10:104155859-104156009  0.6118077     0.5625      11      19      26   \n",
        "\n",
        "                          svm_scr  \n",
        "10:102893745-102893895   2.554035  \n",
        "10:102893781-102893931   1.792582  \n",
        "10:102896297-102896447   1.192349  \n",
        "10:104155555-104155644   2.105694  \n",
        "10:104155859-104156009  0.3689309  "
       ]
      }
     ],
     "prompt_number": 7
    },
    {
     "cell_type": "code",
     "collapsed": false,
     "input": [],
     "language": "python",
     "metadata": {},
     "outputs": []
    }
   ],
   "metadata": {}
  }
 ]
}