{
 "metadata": {
  "name": "",
  "signature": "sha256:589c0cd82fab64dd42e08d6131d045cbe5c729ab5fd2837b71d9fe5d1007eda7"
 },
 "nbformat": 3,
 "nbformat_minor": 0,
 "worksheets": [
  {
   "cells": [
    {
     "cell_type": "code",
     "collapsed": false,
     "input": [
      "import multiprocessing\n",
      "import os\n",
      "import random\n",
      "import time"
     ],
     "language": "python",
     "metadata": {},
     "outputs": [],
     "prompt_number": 58
    },
    {
     "cell_type": "code",
     "collapsed": false,
     "input": [
      "def worker(out_q):\n",
      "    out_q.put(\"Worker process {}\".format(os.getpid()))\n",
      "    \n",
      "def sleeper(out_q):\n",
      "    t = random.randint(1, 10)\n",
      "    time.sleep(t)\n",
      "    out_q.put('{} slept for {}'.format(os.getpid(), t))"
     ],
     "language": "python",
     "metadata": {},
     "outputs": [],
     "prompt_number": 90
    },
    {
     "cell_type": "code",
     "collapsed": false,
     "input": [
      "out_q = multiprocessing.Queue()"
     ],
     "language": "python",
     "metadata": {},
     "outputs": [],
     "prompt_number": 91
    },
    {
     "cell_type": "code",
     "collapsed": false,
     "input": [
      "jobs = []\n",
      "for i in range(5):\n",
      "    p = multiprocessing.Process(target=sleeper,\n",
      "                                args=[out_q])\n",
      "    jobs.append(p)\n",
      "    p.start()"
     ],
     "language": "python",
     "metadata": {},
     "outputs": [],
     "prompt_number": 92
    },
    {
     "cell_type": "code",
     "collapsed": false,
     "input": [
      "out_q.get()"
     ],
     "language": "python",
     "metadata": {},
     "outputs": [
      {
       "metadata": {},
       "output_type": "pyout",
       "prompt_number": 95,
       "text": [
        "'2189 slept for 1'"
       ]
      }
     ],
     "prompt_number": 95
    },
    {
     "cell_type": "code",
     "collapsed": false,
     "input": [
      "for j in jobs:\n",
      "    print(j.pid, j.is_alive())"
     ],
     "language": "python",
     "metadata": {},
     "outputs": [
      {
       "output_type": "stream",
       "stream": "stdout",
       "text": [
        "(2187, False)\n",
        "(2188, False)\n",
        "(2189, False)\n",
        "(2190, False)\n",
        "(2191, False)\n"
       ]
      }
     ],
     "prompt_number": 96
    },
    {
     "cell_type": "code",
     "collapsed": false,
     "input": [
      "for j in jobs:\n",
      "    j.join()"
     ],
     "language": "python",
     "metadata": {},
     "outputs": [],
     "prompt_number": 97
    },
    {
     "cell_type": "code",
     "collapsed": false,
     "input": [
      "master = range(10)\n",
      "i = 0\n",
      "procs = []\n",
      "out_q = multiprocessing.Queue()\n",
      "for w in range(3):\n",
      "    p = multiprocessing.Process(target=sleeper,\n",
      "                                args=[out_q])\n",
      "    procs.append(p)\n",
      "    p.start()\n",
      "    i += 1\n",
      "\n",
      "results = []\n",
      "while i < len(master):\n",
      "    new_procs = []\n",
      "    for p in procs:\n",
      "        if not p.is_alive():\n",
      "            procs.remove(p)\n",
      "            p.join()\n",
      "            p = multiprocessing.Process(target=sleeper,\n",
      "                                        args=[out_q])\n",
      "            new_procs.append(p)\n",
      "            p.start()\n",
      "            i += 1\n",
      "            results.append(out_q.get())\n",
      "    procs += new_procs"
     ],
     "language": "python",
     "metadata": {},
     "outputs": [],
     "prompt_number": 108
    },
    {
     "cell_type": "code",
     "collapsed": false,
     "input": [
      "results"
     ],
     "language": "python",
     "metadata": {},
     "outputs": [
      {
       "metadata": {},
       "output_type": "pyout",
       "prompt_number": 110,
       "text": [
        "['2475 slept for 6',\n",
        " '2477 slept for 6',\n",
        " '2476 slept for 8',\n",
        " '2494 slept for 2',\n",
        " '2532 slept for 2',\n",
        " '2515 slept for 4',\n",
        " '2495 slept for 10']"
       ]
      }
     ],
     "prompt_number": 110
    },
    {
     "cell_type": "code",
     "collapsed": false,
     "input": [],
     "language": "python",
     "metadata": {},
     "outputs": []
    }
   ],
   "metadata": {}
  }
 ]
}