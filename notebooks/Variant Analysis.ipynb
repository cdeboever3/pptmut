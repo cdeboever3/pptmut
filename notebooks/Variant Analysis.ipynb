{
 "metadata": {
  "name": "",
  "signature": "sha256:22d6e6a5a8fcc22e1327caec6f3240df9d94927ae9f2681ac6fafae0c932c852"
 },
 "nbformat": 3,
 "nbformat_minor": 0,
 "worksheets": [
  {
   "cells": [
    {
     "cell_type": "markdown",
     "metadata": {},
     "source": [
      "[This page](http://www.broadinstitute.org/cancer/cga/mutect_run) has information\n",
      "about running muTect, the output, etc."
     ]
    },
    {
     "cell_type": "code",
     "collapsed": false,
     "input": [
      "import glob\n",
      "import os\n",
      "\n",
      "import cdpybio as cpb\n",
      "import matplotlib.pyplot as plt\n",
      "import numpy as np\n",
      "import pandas as pd\n",
      "import pybedtools as pbt\n",
      "import seaborn as sns\n",
      "\n",
      "import projectpy as ppy\n",
      "\n",
      "%matplotlib inline"
     ],
     "language": "python",
     "metadata": {},
     "outputs": [],
     "prompt_number": 1
    },
    {
     "cell_type": "code",
     "collapsed": false,
     "input": [
      "sns.set_style('whitegrid')\n",
      "\n",
      "outdir = os.path.join(ppy.root, 'output', 'variant_analysis')\n",
      "ppy.makedir(outdir)"
     ],
     "language": "python",
     "metadata": {},
     "outputs": [],
     "prompt_number": 2
    },
    {
     "cell_type": "code",
     "collapsed": false,
     "input": [
      "def mutect_to_bed(df):\n",
      "    \"\"\"Convert mutect results (read into dataframe) to BedTool object\"\"\"\n",
      "    s = (df.contig.astype(str) + '\\t' + \n",
      "         (df.position - 1).astype(str) + '\\t' + \n",
      "         df.position.astype(str) + '\\t' + \n",
      "         df.tumor_id)\n",
      "    s = '\\n'.join(s.values) + '\\n'\n",
      "    bt = pbt.BedTool(s, from_string=True)\n",
      "    return bt\n",
      "\n",
      "def annotate_variants(vdf, tpss):\n",
      "    \"\"\"Annotate variants in data frame\"\"\"\n",
      "    vbt = mutect_to_bed(vdf)\n",
      "    res = tpss.intersect(vbt, wo=True)\n",
      "    df = pd.read_table(res.fn, header=None)\n",
      "    #index = vdf.contig + ':' + vdf.position.astype(str)\n",
      "    #columns = ['gene', 'tpss', 'tpss_dist', 'strand', 'creates_tpss']\n",
      "    #df = pd.DataFrame(index=index, columns=columns)\n",
      "    d = dict()\n",
      "    for i in df.index:\n",
      "        key = df.ix[i, 6] + ':' + str(df.ix[i, 8])\n",
      "        strand = df.ix[i, 5]\n",
      "        tpss = df.ix[i, 3]\n",
      "        gene = tpss.split('_')[0]\n",
      "        # Distance from variant to 3'SS\n",
      "        if strand == '+':\n",
      "            tpss_dist = df.ix[i, 7] - df.ix[i, 2]\n",
      "        elif strand == '-':\n",
      "            tpss_dist = df.ix[i, 1] - df.ix[i, 7]\n",
      "        #d[key] = d.get(k, set()) | set((gene, tpss, strand))\n",
      "        d[key] = d.get(key, (gene, tpss, tpss_dist, strand))\n",
      "    vdf['gene'] = ''\n",
      "    vdf['tpss'] = ''\n",
      "    vdf['strand'] = ''\n",
      "    vdf['tpss_dist'] = 0\n",
      "    keys = vdf.contig + ':' + vdf.position.astype(str)\n",
      "    ddf = pd.DataFrame(d).T\n",
      "    vdf[['gene', 'tpss', 'tpss_dist', 'strand']] = ddf.ix[keys].values\n",
      "        \n",
      "    # Determine whether mutations create a potential 3' splice site \n",
      "    # (defined as an AG).\n",
      "    creates_tpss = []\n",
      "    for i in vdf.index:\n",
      "        se = vdf.ix[i]\n",
      "        creates = False\n",
      "        if se['tpss_dist'] < -2:\n",
      "            if se['strand'] == '+':\n",
      "                if se['alt_allele'] == 'A':\n",
      "                    if se['context'][4] == 'G':\n",
      "                        creates = True\n",
      "                if se['alt_allele'] == 'T':\n",
      "                    if se['context'][2] == 'A':\n",
      "                        creates = True\n",
      "            elif se['strand'] == '-':\n",
      "                if se['alt_allele'] == 'T':\n",
      "                    if se['context'][4] == 'C':\n",
      "                        creates = True\n",
      "                if se['alt_allele'] == 'C':\n",
      "                    if se['context'][2] == 'T':\n",
      "                        creates = True\n",
      "        creates_tpss.append(creates)\n",
      "    vdf['creates_tpss'] = creates_tpss\n",
      "    return vdf\n",
      "\n",
      "# Note that the functions below are all very similar. I'm keeping them separate\n",
      "# for now in case I want to use them separately but I may combine them later\n",
      "# for speed.\n",
      "\n",
      "def variants_tpss_distances(vbt, tpss):\n",
      "    \"\"\"Distances from variants in vdf to 3'SS (tpss) in tpss Bedtool\"\"\"\n",
      "    res = tpss.intersect(vbt, wo=True)\n",
      "    dists = []\n",
      "    for t in res:\n",
      "        if t.strand == '+':\n",
      "            d = int(t.fields[7]) - t.end\n",
      "        elif t.strand == '-':\n",
      "            d = t.start - int(t.fields[7])\n",
      "        dists.append(d)\n",
      "    return dists\n",
      "\n",
      "def variants_genes(vbt, tpss):\n",
      "    \"\"\"Name of genes that contains variants for mutect results\"\"\"\n",
      "    res = tpss.intersect(vbt, wo=True)\n",
      "    df = pd.read_table(res.fn, header=None)\n",
      "    d = dict()\n",
      "    # Some variants will intersect different 3' splice sites from the same gene\n",
      "    # and some will intersect more than one gene, so we have to check for that.\n",
      "    # In practice, variants overlap more than one gene very rarely, so we'll \n",
      "    # just choose the first gene reported by bedtools in those cases.\n",
      "    for i in df.index:\n",
      "        k = df.ix[i, 6] + ':' + str(df.ix[i, 7])\n",
      "        g = df.ix[i, 3].split('_')[0]\n",
      "        d[k] = d.get(k, set()) | set([g])\n",
      "    genes = []\n",
      "    for t in vbt:\n",
      "        genes.append(list(d[t.chrom + ':' + str(t.start)])[0])\n",
      "    return genes\n",
      "\n",
      "def variants_tpss(vbt, tpss):\n",
      "    \"\"\"Name of genes that contains variants for mutect results\"\"\"\n",
      "    res = tpss.intersect(vbt, wo=True)\n",
      "    tpss = []\n",
      "    for t in res:\n",
      "        tpss.append(t.name.split('_')[1])\n",
      "    return tpss\n",
      "\n",
      "def variants_strands(vbt, tpss):\n",
      "    \"\"\"Strands of the genes that the variants\"\"\"\n",
      "    res = tpss.intersect(vbt, wo=True)\n",
      "    strands = []\n",
      "    for t in res:\n",
      "        strands.append(t.name.split('_')[1].split(':')[-1])\n",
      "    return strands\n",
      "\n",
      "def variants_creates_tpss(vdf):\n",
      "    \"\"\"Determine whether mutations create a potential 3' splice site\n",
      "    (defined as an AG).\"\"\"\n",
      "    creates_tpss = []\n",
      "    for i in vdf.index:\n",
      "        se = vdf.ix[i]\n",
      "        creates = False\n",
      "        if se['tpss_dist'] < -2:\n",
      "            if se['strand'] == '+':\n",
      "                if se['alt_allele'] == 'A':\n",
      "                    if se['context'][4] == 'G':\n",
      "                        creates = True\n",
      "                if se['alt_allele'] == 'T':\n",
      "                    if se['context'][2] == 'A':\n",
      "                        creates = True\n",
      "            elif se['strand'] == '-':\n",
      "                if se['alt_allele'] == 'T':\n",
      "                    if se['context'][4] == 'C':\n",
      "                        creates = True\n",
      "                if se['alt_allele'] == 'C':\n",
      "                    if se['context'][2] == 'T':\n",
      "                        creates = True\n",
      "        creates_tpss.append(creates)\n",
      "    return creates_tpss"
     ],
     "language": "python",
     "metadata": {},
     "outputs": [],
     "prompt_number": 11
    },
    {
     "cell_type": "code",
     "collapsed": false,
     "input": [
      "tpss = pbt.BedTool(ppy.cosmic_intervals01)\n",
      "genes = pd.read_table(ppy.cosmic_genes01)"
     ],
     "language": "python",
     "metadata": {},
     "outputs": [],
     "prompt_number": 4
    },
    {
     "cell_type": "code",
     "collapsed": false,
     "input": [
      "vfs = glob.glob(os.path.join(ppy.root,\n",
      "                             'private_data/cosmic_variants01/*/*_variants.txt'))\n",
      "variants = []\n",
      "for i, f in enumerate(vfs):\n",
      "    tdf = pd.read_table(f, index_col=None, header=0, skiprows=1,\n",
      "                        low_memory=False)\n",
      "    tdf = tdf[tdf.dbsnp_site != 'DBSNP']\n",
      "    # TODO: Is this the right filter (i.e. just using DBSNP)?\n",
      "    tdf = tdf[tdf.judgement == 'KEEP']\n",
      "    variants.append(tdf)\n",
      "    t, n, v = os.path.splitext(os.path.split(f)[1])[0].split('_')\n",
      "    tdf['tumor_id'] = t\n",
      "    tdf['normal_id'] = n\n",
      "    \n",
      "variants = pd.concat(variants)\n",
      "variants.index = range(variants.shape[0])"
     ],
     "language": "python",
     "metadata": {},
     "outputs": [],
     "prompt_number": 5
    },
    {
     "cell_type": "code",
     "collapsed": false,
     "input": [
      "variants = annotate_variants(variants, tpss)"
     ],
     "language": "python",
     "metadata": {},
     "outputs": [],
     "prompt_number": 12
    },
    {
     "cell_type": "markdown",
     "metadata": {},
     "source": [
      "### TODO\n",
      "* Break down by COSMIC mutation type.\n",
      "* Break down by cancer type?\n",
      "* Find mutations that create AG's\n",
      "* Mutations that disrupt branchpoints?\n",
      "* Distance from branchpoint to mutations?\n",
      "* Filter weird introns (small, multiple 3'SSs)"
     ]
    },
    {
     "cell_type": "code",
     "collapsed": false,
     "input": [
      "plt.hist(variants.tpss_dist, bins = np.arange(-150, 1, 1),\n",
      "         color=sns.desaturate(\"indianred\", 0.75))\n",
      "plt.ylabel('Number of SNPs')\n",
      "plt.xlabel('Distance from 3\\'SS')\n",
      "plt.xlim(-150,0);"
     ],
     "language": "python",
     "metadata": {},
     "outputs": [
      {
       "metadata": {},
       "output_type": "display_data",
       "png": "[encoded data removed]",
       "text": [
        "<matplotlib.figure.Figure at 0x7f2faf01b810>"
       ]
      }
     ],
     "prompt_number": 24
    },
    {
     "cell_type": "code",
     "collapsed": false,
     "input": [
      "plt.hist(list(variants.ix[variants.creates_tpss, 'tpss_dist']),\n",
      "         bins = np.arange(-150, 1, 1),\n",
      "         color=sns.desaturate(\"indianred\", 0.75))\n",
      "plt.ylabel('Number of SNPs')\n",
      "plt.xlabel('Distance from 3\\'SS')\n",
      "plt.xlim(-150,0);"
     ],
     "language": "python",
     "metadata": {},
     "outputs": [
      {
       "metadata": {},
       "output_type": "display_data",
       "png": "[encoded data removed]",
       "text": [
        "<matplotlib.figure.Figure at 0x7f2fae9f7a10>"
       ]
      }
     ],
     "prompt_number": 32
    },
    {
     "cell_type": "code",
     "collapsed": false,
     "input": [
      "plt.hist(list(variants.ix[variants.ref_allele == 'A', 'tpss_dist']),\n",
      "         bins = np.arange(-150, 1, 1),\n",
      "         color=sns.desaturate(\"indianred\", 0.75))\n",
      "plt.ylabel('Number of SNPs')\n",
      "plt.xlabel('Distance from 3\\'SS')\n",
      "plt.xlim(-150,0);"
     ],
     "language": "python",
     "metadata": {},
     "outputs": [
      {
       "metadata": {},
       "output_type": "display_data",
       "png": "[encoded data removed]",
       "text": [
        "<matplotlib.figure.Figure at 0x7f2fae46abd0>"
       ]
      }
     ],
     "prompt_number": 34
    },
    {
     "cell_type": "code",
     "collapsed": false,
     "input": [],
     "language": "python",
     "metadata": {},
     "outputs": []
    }
   ],
   "metadata": {}
  }
 ]
}