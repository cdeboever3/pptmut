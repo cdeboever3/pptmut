{
 "metadata": {
  "name": "",
  "signature": "sha256:3790d5b2d66c8828db2bb0af125a99d5cd2457a632d6d34ad3015dce0d82ac88"
 },
 "nbformat": 3,
 "nbformat_minor": 0,
 "worksheets": [
  {
   "cells": [
    {
     "cell_type": "markdown",
     "metadata": {},
     "source": [
      "# Call Mutations Profiling\n",
      "\n",
      "In this notebook, I will grab read data from the \n",
      "TCGA using GTFuse and call mutations.\n",
      "\n",
      "### Extra dependencies\n",
      "\n",
      "TODO: Finish this when done. What are all the dependencies?\n",
      "\n",
      "You'll need muTect in the `software` directory\n",
      "and samtools and GTFuse in your path.\n",
      "\n",
      "This is Matteo's call to muTect:\n",
      "\n",
      "    /usr/lib64/jvm/java-1.6.0/bin/java -jar /raid/software/src/muTect-1.1.4/muTect-1.1.4.jar \\\n",
      "     -T              MuTect \\\n",
      "     -L              REGION \\\n",
      "     -R              /raid/references-and-indexes/GRCh37/GRCh37-lite.fa \\\n",
      "     --dbsnp         /raid/databases/snp/dbsnp_137.hg19_lite_noCHR.vcf \\\n",
      "     -I:normal       RAID/samples/BARCODE/BARCODE-N.REGION_ID.bam \\\n",
      "     -I:tumor        RAID/samples/BARCODE/BARCODE-T.REGION_ID.bam \\\n",
      "     --out           RAID/samples/BARCODE/BARCODE.REGION_ID.out \\\n",
      "     --coverage_file RAID/samples/BARCODE/BARCODE.REGION_ID.wig.txt &\n",
      "     \n",
      "Here's mine:\n",
      "\n",
      "    /usr/lib64/jvm/java-1.6.0/bin/java -jar /raid2/projects/pptmut/pptmut/software/muTect/muTect-1.1.4.jar \\\n",
      "     -T              MuTect \\\n",
      "     -L              ints.bed \\\n",
      "     -R              /raid2/projects/pptmut/pptmut/external_data/GRCh37/GRCh37-lite.fa \\\n",
      "     --dbsnp         /raid2/projects/pptmut/pptmut/external_data/dbsnp/All.vcf \\\n",
      "     --cosmic        /raid2/projects/pptmut/pptmut/external_data/cosmic/cosmic_all.vcf \\\n",
      "     -I:normal       normal_sorted.bam \\\n",
      "     -I:tumor        tumor_sorted.bam \\\n",
      "     --out           test.out \\\n",
      "     --coverage_file test.wig\n",
      "     \n",
      "[This page](http://www.broadinstitute.org/cancer/cga/mutect_run) has information\n",
      "about running muTect, the output, etc."
     ]
    },
    {
     "cell_type": "code",
     "collapsed": false,
     "input": [
      "import glob\n",
      "import os\n",
      "import subprocess\n",
      "import time\n",
      "from timeit import timeit\n",
      "\n",
      "import numpy as np\n",
      "import pandas as pd\n",
      "import seaborn as sns\n",
      "\n",
      "import projectpy as ppy\n",
      "\n",
      "%matplotlib inline"
     ],
     "language": "python",
     "metadata": {},
     "outputs": [],
     "prompt_number": 2
    },
    {
     "cell_type": "code",
     "collapsed": false,
     "input": [
      "samples = pd.read_table(ppy.target_samples,\n",
      "                        index_col=0, header=0)\n",
      "\n",
      "intervals = pd.read_table(ppy.target_intervals_merged,\n",
      "                          index_col=None, header=None)\n",
      "\n",
      "def mount_bam(analysis_id, mount='/tmp', cache='/tmp/fusecache'):\n",
      "    \"\"\"\n",
      "    Mount bam file for given analysis ID\n",
      "    \n",
      "    Creates a directory for this analysis ID in \"mount\" and mounts \n",
      "    makes mnt and cache directories then mounts the bam file using \n",
      "    GTFuse. Returns bam file path.\n",
      "    \"\"\"\n",
      "    if not os.path.exists(cache):\n",
      "        os.makedirs(cache)\n",
      "    analysis_dir = '{}_{}'.format(analysis_id,\n",
      "                                  time.strftime('%Y_%m_%d_%H_%M_%S'))\n",
      "    mnt = os.path.join(mount, analysis_dir, 'mnt')\n",
      "    os.makedirs(mnt)\n",
      "    url = ('https://cghub.ucsc.edu/cghub/data'\n",
      "           '/analysis/download/{}'.format(analysis_id))\n",
      "    subprocess.check_call(['gtfuse', \n",
      "                           '--ssl-no-verify-ca',\n",
      "                           '--cache-dir',\n",
      "                           cache,\n",
      "                           url,\n",
      "                           mnt])\n",
      "    files = glob.glob('{}/{}/*'.format(mnt, analysis_id))\n",
      "    bam = [ x for x in files if os.path.splitext(x)[1] == '.bam' ][0]\n",
      "    return os.path.realpath(bam)\n",
      "    #return ' '.join(['gtfuse', '--ssl-no-verify-ca', url, mnt])\n",
      "    \n",
      "def unmount_bam(bam):\n",
      "    p = os.path.sep.join(bam.split(os.path.sep)[0:-3] + ['*'])\n",
      "    files = glob.glob(p)\n",
      "    mnt = os.path.sep.join(bam.split(os.path.sep)[0:-2])\n",
      "    for f in files:\n",
      "        if f != mnt:\n",
      "            os.remove(f)\n",
      "    subprocess.call('fusermount -u {}'.format(mnt),\n",
      "                    shell=True)\n",
      "    os.rmdir(mnt)\n",
      "    os.rmdir(os.path.split(mnt)[0])\n",
      "    \n",
      "def reads_from_intervals(bam, intervals, max_intervals=4000):\n",
      "    se = (intervals[0] + ':' + \n",
      "          intervals[1].astype(str) + '-' + \n",
      "          intervals[2].astype(str))\n",
      "    ints = ' '.join(se)\n",
      "    ints_bam = os.path.join(os.path.split(os.path.split(os.path.split(bam)[0])[0])[0], \n",
      "                            'ints.bam')\n",
      "    subprocess.check_call('samtools view -b {} {} > {}'.format(bam, ints, ints_bam),\n",
      "                          shell=True)\n",
      "    return ints_bam\n",
      "\n",
      "def reads_from_intervals_individual_calls(bam, intervals):\n",
      "    se = (intervals[0] + ':' + \n",
      "          intervals[1].astype(str) + '-' + \n",
      "          intervals[2].astype(str))\n",
      "    for i in se.values:\n",
      "        ints_bam = os.path.join(os.path.split(os.path.split(os.path.split(bam)[0])[0])[0], \n",
      "                                'ints_{}.bam'.format(i))\n",
      "        subprocess.check_call('samtools view -b {} {} > {}'.format(bam, \n",
      "                                                                   i, \n",
      "                                                                   ints_bam),\n",
      "                              shell=True)\n",
      "    return ints_bam"
     ],
     "language": "python",
     "metadata": {},
     "outputs": [],
     "prompt_number": 3
    },
    {
     "cell_type": "code",
     "collapsed": false,
     "input": [
      "intervals.shape"
     ],
     "language": "python",
     "metadata": {},
     "outputs": [
      {
       "metadata": {},
       "output_type": "pyout",
       "prompt_number": 4,
       "text": [
        "(6816, 3)"
       ]
      }
     ],
     "prompt_number": 4
    },
    {
     "cell_type": "code",
     "collapsed": false,
     "input": [
      "#bam = mount_bam(samples.tumor_analysis_id[10])"
     ],
     "language": "python",
     "metadata": {},
     "outputs": [],
     "prompt_number": 21
    },
    {
     "cell_type": "markdown",
     "metadata": {},
     "source": [
      "I want to estimate how long it will take to get the reads from\n",
      "my intervals. I also want to know whether it's faster to do \n",
      "many calls with `samtools view` or just one call with all of the \n",
      "intervals at once. I'm guessing there isn't much difference there."
     ]
    },
    {
     "cell_type": "code",
     "collapsed": false,
     "input": [
      "def profile_gtfuse(fnc, samples=samples, intervals=intervals):\n",
      "    num_samples = 5\n",
      "    bams = [mount_bam(samples.ix[i, 'tumor_analysis_id']) \n",
      "            for i in range(num_samples)]\n",
      "    test_intervals = [50, 75, 100, 150, 200, 300]\n",
      "    times = pd.DataFrame(0, index=test_intervals,\n",
      "                         columns=samples.tumor_analysis_id.head(num_samples).values)\n",
      "    for n in test_intervals:\n",
      "        ntimes = []\n",
      "        for b in bams:\n",
      "            t = timeit('{}(\\'{}\\', intervals.head({}))'.format(fnc.__name__, \n",
      "                                                           b, \n",
      "                                                           n),\n",
      "                       setup=('from __main__ import {}, intervals'.format(fnc.__name__)),\n",
      "                       number=1)\n",
      "            ntimes.append(t)\n",
      "        times.ix[n] = ntimes\n",
      "    for b in bams:\n",
      "        unmount_bam(b)\n",
      "    return times"
     ],
     "language": "python",
     "metadata": {},
     "outputs": [],
     "prompt_number": 5
    },
    {
     "cell_type": "code",
     "collapsed": false,
     "input": [
      "res1 = profile_gtfuse(reads_from_intervals)"
     ],
     "language": "python",
     "metadata": {},
     "outputs": [],
     "prompt_number": 27
    },
    {
     "cell_type": "code",
     "collapsed": false,
     "input": [
      "rep = repeat(\"reads_from_intervals(bam, intervals.head({}))\".format(i), \n",
      "             setup=\"from __main__ import reads_from_intervals, bam, intervals\", \n",
      "             repeat=3, number=1)"
     ],
     "language": "python",
     "metadata": {},
     "outputs": []
    },
    {
     "cell_type": "code",
     "collapsed": false,
     "input": [
      "num_ints = [50, 75, 100, 150, 200, 300, 500, 1000]\n",
      "results = []\n",
      "for i in num_ints:\n",
      "    rep = repeat(\"reads_from_intervals(bam, intervals.head({}))\".format(i), setup=\"from __main__ import reads_from_intervals, bam, intervals\", repeat=3, number=1)\n",
      "    results.append(rep)\n",
      "combined = pd.DataFrame(results, index=num_ints)\n",
      "combined_flat = pd.DataFrame([np.array([combined.index for x in combined.columns]).flatten(),\n",
      "                              combined.values.flatten()], index=['x','y']).T"
     ],
     "language": "python",
     "metadata": {},
     "outputs": [],
     "prompt_number": 8
    },
    {
     "cell_type": "code",
     "collapsed": false,
     "input": [
      "sns.lmplot('x', 'y', combined_flat)"
     ],
     "language": "python",
     "metadata": {},
     "outputs": [
      {
       "metadata": {},
       "output_type": "pyout",
       "prompt_number": 17,
       "text": [
        "<seaborn.axisgrid.FacetGrid at 0x7fdb8bdd9d10>"
       ]
      },
      {
       "metadata": {},
       "output_type": "display_data",
       "png": "[encoded data removed]",
       "text": [
        "<matplotlib.figure.Figure at 0x7fdb8bdd9dd0>"
       ]
      }
     ],
     "prompt_number": 17
    },
    {
     "cell_type": "code",
     "collapsed": false,
     "input": [
      "combined"
     ],
     "language": "python",
     "metadata": {},
     "outputs": [
      {
       "html": [
        "<div style=\"max-height:1000px;max-width:1500px;overflow:auto;\">\n",
        "<table border=\"1\" class=\"dataframe\">\n",
        "  <thead>\n",
        "    <tr style=\"text-align: right;\">\n",
        "      <th></th>\n",
        "      <th>0</th>\n",
        "      <th>1</th>\n",
        "      <th>2</th>\n",
        "    </tr>\n",
        "  </thead>\n",
        "  <tbody>\n",
        "    <tr>\n",
        "      <th>50  </th>\n",
        "      <td>  27.885024</td>\n",
        "      <td> 0.305937</td>\n",
        "      <td> 0.315863</td>\n",
        "    </tr>\n",
        "    <tr>\n",
        "      <th>75  </th>\n",
        "      <td>   4.462064</td>\n",
        "      <td> 0.341330</td>\n",
        "      <td> 0.349890</td>\n",
        "    </tr>\n",
        "    <tr>\n",
        "      <th>100 </th>\n",
        "      <td>   4.312373</td>\n",
        "      <td> 0.423667</td>\n",
        "      <td> 0.419445</td>\n",
        "    </tr>\n",
        "    <tr>\n",
        "      <th>150 </th>\n",
        "      <td>  10.270264</td>\n",
        "      <td> 0.507785</td>\n",
        "      <td> 0.493884</td>\n",
        "    </tr>\n",
        "    <tr>\n",
        "      <th>200 </th>\n",
        "      <td>  12.943208</td>\n",
        "      <td> 0.624241</td>\n",
        "      <td> 0.585077</td>\n",
        "    </tr>\n",
        "    <tr>\n",
        "      <th>300 </th>\n",
        "      <td>  24.751661</td>\n",
        "      <td> 0.797123</td>\n",
        "      <td> 0.824087</td>\n",
        "    </tr>\n",
        "    <tr>\n",
        "      <th>500 </th>\n",
        "      <td>  31.571069</td>\n",
        "      <td> 5.145786</td>\n",
        "      <td> 1.374020</td>\n",
        "    </tr>\n",
        "    <tr>\n",
        "      <th>1000</th>\n",
        "      <td> 121.673140</td>\n",
        "      <td> 2.398516</td>\n",
        "      <td> 2.397850</td>\n",
        "    </tr>\n",
        "  </tbody>\n",
        "</table>\n",
        "</div>"
       ],
       "metadata": {},
       "output_type": "pyout",
       "prompt_number": 15,
       "text": [
        "               0         1         2\n",
        "50     27.885024  0.305937  0.315863\n",
        "75      4.462064  0.341330  0.349890\n",
        "100     4.312373  0.423667  0.419445\n",
        "150    10.270264  0.507785  0.493884\n",
        "200    12.943208  0.624241  0.585077\n",
        "300    24.751661  0.797123  0.824087\n",
        "500    31.571069  5.145786  1.374020\n",
        "1000  121.673140  2.398516  2.397850"
       ]
      }
     ],
     "prompt_number": 15
    },
    {
     "cell_type": "markdown",
     "metadata": {},
     "source": [
      "One thing I'm noticing is that the first try\n",
      "is much slower than the subsequent tries. Maybe\n",
      "multiple `samtools view` calls would be faster..."
     ]
    },
    {
     "cell_type": "code",
     "collapsed": false,
     "input": [
      "results = []\n",
      "for i in num_ints:\n",
      "    rep = repeat(\"reads_from_intervals_individual_calls(bam, intervals.head({}))\".format(i), setup=\"from __main__ import reads_from_intervals_individual_calls, bam, intervals\", repeat=3, number=1)\n",
      "    results.append(rep)\n",
      "individual = pd.DataFrame(results, index=num_ints)\n",
      "individual_flat = pd.DataFrame([np.array([individual.index for x in individual.columns]).flatten(),\n",
      "                                individual.values.flatten()], index=['x','y']).T"
     ],
     "language": "python",
     "metadata": {},
     "outputs": [],
     "prompt_number": 10
    },
    {
     "cell_type": "code",
     "collapsed": false,
     "input": [
      "sns.lmplot('x', 'y', individual_flat)"
     ],
     "language": "python",
     "metadata": {},
     "outputs": [
      {
       "metadata": {},
       "output_type": "pyout",
       "prompt_number": 11,
       "text": [
        "<seaborn.axisgrid.FacetGrid at 0x7fdb8c006310>"
       ]
      },
      {
       "metadata": {},
       "output_type": "display_data",
       "png": "[encoded data removed]",
       "text": [
        "<matplotlib.figure.Figure at 0x7fdb8bfa7150>"
       ]
      }
     ],
     "prompt_number": 11
    },
    {
     "cell_type": "code",
     "collapsed": false,
     "input": [
      "individual"
     ],
     "language": "python",
     "metadata": {},
     "outputs": [
      {
       "html": [
        "<div style=\"max-height:1000px;max-width:1500px;overflow:auto;\">\n",
        "<table border=\"1\" class=\"dataframe\">\n",
        "  <thead>\n",
        "    <tr style=\"text-align: right;\">\n",
        "      <th></th>\n",
        "      <th>0</th>\n",
        "      <th>1</th>\n",
        "      <th>2</th>\n",
        "    </tr>\n",
        "  </thead>\n",
        "  <tbody>\n",
        "    <tr>\n",
        "      <th>50  </th>\n",
        "      <td>   8.469028</td>\n",
        "      <td>   8.515835</td>\n",
        "      <td>   8.463145</td>\n",
        "    </tr>\n",
        "    <tr>\n",
        "      <th>75  </th>\n",
        "      <td>  12.728722</td>\n",
        "      <td>  12.524581</td>\n",
        "      <td>  12.698515</td>\n",
        "    </tr>\n",
        "    <tr>\n",
        "      <th>100 </th>\n",
        "      <td>  16.861958</td>\n",
        "      <td>  16.863357</td>\n",
        "      <td>  16.927088</td>\n",
        "    </tr>\n",
        "    <tr>\n",
        "      <th>150 </th>\n",
        "      <td>  25.313097</td>\n",
        "      <td>  25.008228</td>\n",
        "      <td>  24.958384</td>\n",
        "    </tr>\n",
        "    <tr>\n",
        "      <th>200 </th>\n",
        "      <td>  33.360000</td>\n",
        "      <td>  33.371194</td>\n",
        "      <td>  33.365943</td>\n",
        "    </tr>\n",
        "    <tr>\n",
        "      <th>300 </th>\n",
        "      <td>  49.902824</td>\n",
        "      <td>  49.959800</td>\n",
        "      <td>  50.104279</td>\n",
        "    </tr>\n",
        "    <tr>\n",
        "      <th>500 </th>\n",
        "      <td>  83.209232</td>\n",
        "      <td>  83.312311</td>\n",
        "      <td>  83.695967</td>\n",
        "    </tr>\n",
        "    <tr>\n",
        "      <th>1000</th>\n",
        "      <td> 166.841548</td>\n",
        "      <td> 167.035694</td>\n",
        "      <td> 177.025118</td>\n",
        "    </tr>\n",
        "  </tbody>\n",
        "</table>\n",
        "</div>"
       ],
       "metadata": {},
       "output_type": "pyout",
       "prompt_number": 16,
       "text": [
        "               0           1           2\n",
        "50      8.469028    8.515835    8.463145\n",
        "75     12.728722   12.524581   12.698515\n",
        "100    16.861958   16.863357   16.927088\n",
        "150    25.313097   25.008228   24.958384\n",
        "200    33.360000   33.371194   33.365943\n",
        "300    49.902824   49.959800   50.104279\n",
        "500    83.209232   83.312311   83.695967\n",
        "1000  166.841548  167.035694  177.025118"
       ]
      }
     ],
     "prompt_number": 16
    },
    {
     "cell_type": "code",
     "collapsed": false,
     "input": [
      "unmount_bam(bam)"
     ],
     "language": "python",
     "metadata": {},
     "outputs": [
      {
       "ename": "OSError",
       "evalue": "[Errno 2] No such file or directory: '/tmp/c398335a-a306-4595-aa75-53d7de7fec84_2014_08_07_08_38_05/mnt'",
       "output_type": "pyerr",
       "traceback": [
        "\u001b[1;31m---------------------------------------------------------------------------\u001b[0m\n\u001b[1;31mOSError\u001b[0m                                   Traceback (most recent call last)",
        "\u001b[1;32m<ipython-input-14-18a14513dba3>\u001b[0m in \u001b[0;36m<module>\u001b[1;34m()\u001b[0m\n\u001b[1;32m----> 1\u001b[1;33m \u001b[0munmount_bam\u001b[0m\u001b[1;33m(\u001b[0m\u001b[0mbam\u001b[0m\u001b[1;33m)\u001b[0m\u001b[1;33m\u001b[0m\u001b[0m\n\u001b[0m",
        "\u001b[1;32m<ipython-input-3-ad9dbc21f756>\u001b[0m in \u001b[0;36munmount_bam\u001b[1;34m(bam)\u001b[0m\n\u001b[0;32m     31\u001b[0m     subprocess.call('fusermount -u {}'.format(mnt),\n\u001b[0;32m     32\u001b[0m                     shell=True)\n\u001b[1;32m---> 33\u001b[1;33m     \u001b[0mos\u001b[0m\u001b[1;33m.\u001b[0m\u001b[0mrmdir\u001b[0m\u001b[1;33m(\u001b[0m\u001b[0mmnt\u001b[0m\u001b[1;33m)\u001b[0m\u001b[1;33m\u001b[0m\u001b[0m\n\u001b[0m\u001b[0;32m     34\u001b[0m     \u001b[0mos\u001b[0m\u001b[1;33m.\u001b[0m\u001b[0mrmdir\u001b[0m\u001b[1;33m(\u001b[0m\u001b[0mos\u001b[0m\u001b[1;33m.\u001b[0m\u001b[0mpath\u001b[0m\u001b[1;33m.\u001b[0m\u001b[0mjoin\u001b[0m\u001b[1;33m(\u001b[0m\u001b[0mos\u001b[0m\u001b[1;33m.\u001b[0m\u001b[0mpath\u001b[0m\u001b[1;33m.\u001b[0m\u001b[0msplit\u001b[0m\u001b[1;33m(\u001b[0m\u001b[0mmnt\u001b[0m\u001b[1;33m)\u001b[0m\u001b[1;33m[\u001b[0m\u001b[1;36m0\u001b[0m\u001b[1;33m]\u001b[0m\u001b[1;33m,\u001b[0m \u001b[1;34m'cache'\u001b[0m\u001b[1;33m)\u001b[0m\u001b[1;33m)\u001b[0m\u001b[1;33m\u001b[0m\u001b[0m\n\u001b[0;32m     35\u001b[0m     \u001b[0mos\u001b[0m\u001b[1;33m.\u001b[0m\u001b[0mrmdir\u001b[0m\u001b[1;33m(\u001b[0m\u001b[0mos\u001b[0m\u001b[1;33m.\u001b[0m\u001b[0mpath\u001b[0m\u001b[1;33m.\u001b[0m\u001b[0msplit\u001b[0m\u001b[1;33m(\u001b[0m\u001b[0mmnt\u001b[0m\u001b[1;33m)\u001b[0m\u001b[1;33m[\u001b[0m\u001b[1;36m0\u001b[0m\u001b[1;33m]\u001b[0m\u001b[1;33m)\u001b[0m\u001b[1;33m\u001b[0m\u001b[0m\n",
        "\u001b[1;31mOSError\u001b[0m: [Errno 2] No such file or directory: '/tmp/c398335a-a306-4595-aa75-53d7de7fec84_2014_08_07_08_38_05/mnt'"
       ]
      }
     ],
     "prompt_number": 14
    },
    {
     "cell_type": "markdown",
     "metadata": {},
     "source": [
      "## Parallel"
     ]
    },
    {
     "cell_type": "code",
     "collapsed": false,
     "input": [
      "def single_interval_reads(bam, interval):\n",
      "    import os\n",
      "    import subprocess\n",
      "    interval_bam = os.path.join(os.path.sep.join(bam.split(os.path.sep)[0:-3]), \n",
      "                                '{}.bam'.format(interval))\n",
      "    subprocess.check_call('samtools view -b {} {} > {}'.format(bam, \n",
      "                                                               i, \n",
      "                                                               interval_bam),\n",
      "                          shell=True)\n",
      "    return interval_bam\n",
      "\n",
      "def reads_from_intervals_parallel(bam, intervals, dview=dview):\n",
      "    t = time.strftime('%Y_%m_%d_%H_%M_%S')\n",
      "    interval_bam = os.path.join(os.path.sep.join(bam.split(os.path.sep)[0:-3]), \n",
      "                                'ints_{}.bam'.format(t))\n",
      "    r = dview.push(dict(single_interval_reads=single_interval_reads,\n",
      "                    bam=bam))\n",
      "    se = (intervals[0] + ':' + \n",
      "          intervals[1].astype(str) + '-' + \n",
      "          intervals[2].astype(str))\n",
      "    ints = list(se)\n",
      "    dview.scatter('ints', ints)\n",
      "    %px r = [single_interval_reads(bam, i) for i in ints]\n",
      "    bams = dview.gather('r')\n",
      "    if len(bams) > 1:\n",
      "        subprocess.check_call('samtools merge -f {} {}'.format(interval_bam, \n",
      "                                                               ' '.join(bams)),\n",
      "                              shell=True)\n",
      "        for b in bams:\n",
      "            os.remove(b)\n",
      "    return interval_bam"
     ],
     "language": "python",
     "metadata": {},
     "outputs": [],
     "prompt_number": 12
    },
    {
     "cell_type": "code",
     "collapsed": false,
     "input": [
      "from IPython.parallel import Client"
     ],
     "language": "python",
     "metadata": {},
     "outputs": [],
     "prompt_number": 7
    },
    {
     "cell_type": "code",
     "collapsed": false,
     "input": [
      "!ipcluster stop --profile=nbserver-pptmut\n",
      "!sleep 30"
     ],
     "language": "python",
     "metadata": {},
     "outputs": [
      {
       "output_type": "stream",
       "stream": "stdout",
       "text": [
        "2014-08-14 09:55:12.206 [IPClusterStop] Using existing profile dir: u'/home/cdeboever/.ipython/profile_nbserver-pptmut'\r\n"
       ]
      },
      {
       "output_type": "stream",
       "stream": "stdout",
       "text": [
        "2014-08-14 09:55:12.265 [IPClusterStop] Stopping cluster [pid=47465] with [signal=2]\r\n"
       ]
      }
     ],
     "prompt_number": 18
    },
    {
     "cell_type": "code",
     "collapsed": false,
     "input": [
      "!ipcluster start -n=10 --daemon --profile=nbserver-pptmut\n",
      "!sleep 30"
     ],
     "language": "python",
     "metadata": {},
     "outputs": [
      {
       "output_type": "stream",
       "stream": "stdout",
       "text": [
        "2014-08-14 09:55:45.282 [IPClusterStart] Using existing profile dir: u'/home/cdeboever/.ipython/profile_nbserver-pptmut'\r\n"
       ]
      }
     ],
     "prompt_number": 19
    },
    {
     "cell_type": "code",
     "collapsed": false,
     "input": [
      "parallel_client = Client()\n",
      "!sleep 30"
     ],
     "language": "python",
     "metadata": {},
     "outputs": [],
     "prompt_number": 21
    },
    {
     "cell_type": "code",
     "collapsed": false,
     "input": [
      "dview = parallel_client[:]\n",
      "dview.block = True"
     ],
     "language": "python",
     "metadata": {},
     "outputs": [],
     "prompt_number": 22
    },
    {
     "cell_type": "code",
     "collapsed": false,
     "input": [
      "r = reads_from_intervals_parallel(bam, intervals.head(20))"
     ],
     "language": "python",
     "metadata": {},
     "outputs": [
      {
       "ename": "NameError",
       "evalue": "name 'bam' is not defined",
       "output_type": "pyerr",
       "traceback": [
        "\u001b[1;31m---------------------------------------------------------------------------\u001b[0m\n\u001b[1;31mNameError\u001b[0m                                 Traceback (most recent call last)",
        "\u001b[1;32m<ipython-input-25-996968293125>\u001b[0m in \u001b[0;36m<module>\u001b[1;34m()\u001b[0m\n\u001b[1;32m----> 1\u001b[1;33m \u001b[0mr\u001b[0m \u001b[1;33m=\u001b[0m \u001b[0mreads_from_intervals_parallel\u001b[0m\u001b[1;33m(\u001b[0m\u001b[0mbam\u001b[0m\u001b[1;33m,\u001b[0m \u001b[0mintervals\u001b[0m\u001b[1;33m.\u001b[0m\u001b[0mhead\u001b[0m\u001b[1;33m(\u001b[0m\u001b[1;36m20\u001b[0m\u001b[1;33m)\u001b[0m\u001b[1;33m)\u001b[0m\u001b[1;33m\u001b[0m\u001b[0m\n\u001b[0m",
        "\u001b[1;31mNameError\u001b[0m: name 'bam' is not defined"
       ]
      }
     ],
     "prompt_number": 25
    },
    {
     "cell_type": "code",
     "collapsed": false,
     "input": [
      "res2 = profile_gtfuse(reads_from_intervals_parallel)"
     ],
     "language": "python",
     "metadata": {},
     "outputs": [],
     "prompt_number": 15
    },
    {
     "cell_type": "code",
     "collapsed": false,
     "input": [
      "res3 = profile_gtfuse(reads_from_intervals_parallel)"
     ],
     "language": "python",
     "metadata": {},
     "outputs": [
      {
       "ename": "Exception",
       "evalue": "Unhandled message type: apply_request",
       "output_type": "pyerr",
       "traceback": [
        "\u001b[1;31m---------------------------------------------------------------------------\u001b[0m\n\u001b[1;31mException\u001b[0m                                 Traceback (most recent call last)",
        "\u001b[1;32m<ipython-input-26-2184eed0211b>\u001b[0m in \u001b[0;36m<module>\u001b[1;34m()\u001b[0m\n\u001b[1;32m----> 1\u001b[1;33m \u001b[0mres3\u001b[0m \u001b[1;33m=\u001b[0m \u001b[0mprofile_gtfuse\u001b[0m\u001b[1;33m(\u001b[0m\u001b[0mreads_from_intervals_parallel\u001b[0m\u001b[1;33m)\u001b[0m\u001b[1;33m\u001b[0m\u001b[0m\n\u001b[0m",
        "\u001b[1;32m<ipython-input-5-da95d461b802>\u001b[0m in \u001b[0;36mprofile_gtfuse\u001b[1;34m(fnc, samples, intervals)\u001b[0m\n\u001b[0;32m     13\u001b[0m                                                            n),\n\u001b[0;32m     14\u001b[0m                        \u001b[0msetup\u001b[0m\u001b[1;33m=\u001b[0m\u001b[1;33m(\u001b[0m\u001b[1;34m'from __main__ import {}, intervals'\u001b[0m\u001b[1;33m.\u001b[0m\u001b[0mformat\u001b[0m\u001b[1;33m(\u001b[0m\u001b[0mfnc\u001b[0m\u001b[1;33m.\u001b[0m\u001b[0m__name__\u001b[0m\u001b[1;33m)\u001b[0m\u001b[1;33m)\u001b[0m\u001b[1;33m,\u001b[0m\u001b[1;33m\u001b[0m\u001b[0m\n\u001b[1;32m---> 15\u001b[1;33m                        number=1)\n\u001b[0m\u001b[0;32m     16\u001b[0m             \u001b[0mntimes\u001b[0m\u001b[1;33m.\u001b[0m\u001b[0mappend\u001b[0m\u001b[1;33m(\u001b[0m\u001b[0mt\u001b[0m\u001b[1;33m)\u001b[0m\u001b[1;33m\u001b[0m\u001b[0m\n\u001b[0;32m     17\u001b[0m         \u001b[0mtimes\u001b[0m\u001b[1;33m.\u001b[0m\u001b[0mix\u001b[0m\u001b[1;33m[\u001b[0m\u001b[0mn\u001b[0m\u001b[1;33m]\u001b[0m \u001b[1;33m=\u001b[0m \u001b[0mntimes\u001b[0m\u001b[1;33m\u001b[0m\u001b[0m\n",
        "\u001b[1;32m/raid/development/cdeboever/software/anaconda1.9.1/envs/pptmut/lib/python2.7/timeit.pyc\u001b[0m in \u001b[0;36mtimeit\u001b[1;34m(stmt, setup, timer, number)\u001b[0m\n\u001b[0;32m    228\u001b[0m            number=default_number):\n\u001b[0;32m    229\u001b[0m     \u001b[1;34m\"\"\"Convenience function to create Timer object and call timeit method.\"\"\"\u001b[0m\u001b[1;33m\u001b[0m\u001b[0m\n\u001b[1;32m--> 230\u001b[1;33m     \u001b[1;32mreturn\u001b[0m \u001b[0mTimer\u001b[0m\u001b[1;33m(\u001b[0m\u001b[0mstmt\u001b[0m\u001b[1;33m,\u001b[0m \u001b[0msetup\u001b[0m\u001b[1;33m,\u001b[0m \u001b[0mtimer\u001b[0m\u001b[1;33m)\u001b[0m\u001b[1;33m.\u001b[0m\u001b[0mtimeit\u001b[0m\u001b[1;33m(\u001b[0m\u001b[0mnumber\u001b[0m\u001b[1;33m)\u001b[0m\u001b[1;33m\u001b[0m\u001b[0m\n\u001b[0m\u001b[0;32m    231\u001b[0m \u001b[1;33m\u001b[0m\u001b[0m\n\u001b[0;32m    232\u001b[0m def repeat(stmt=\"pass\", setup=\"pass\", timer=default_timer,\n",
        "\u001b[1;32m/raid/development/cdeboever/software/anaconda1.9.1/envs/pptmut/lib/python2.7/timeit.pyc\u001b[0m in \u001b[0;36mtimeit\u001b[1;34m(self, number)\u001b[0m\n\u001b[0;32m    193\u001b[0m         \u001b[0mgc\u001b[0m\u001b[1;33m.\u001b[0m\u001b[0mdisable\u001b[0m\u001b[1;33m(\u001b[0m\u001b[1;33m)\u001b[0m\u001b[1;33m\u001b[0m\u001b[0m\n\u001b[0;32m    194\u001b[0m         \u001b[1;32mtry\u001b[0m\u001b[1;33m:\u001b[0m\u001b[1;33m\u001b[0m\u001b[0m\n\u001b[1;32m--> 195\u001b[1;33m             \u001b[0mtiming\u001b[0m \u001b[1;33m=\u001b[0m \u001b[0mself\u001b[0m\u001b[1;33m.\u001b[0m\u001b[0minner\u001b[0m\u001b[1;33m(\u001b[0m\u001b[0mit\u001b[0m\u001b[1;33m,\u001b[0m \u001b[0mself\u001b[0m\u001b[1;33m.\u001b[0m\u001b[0mtimer\u001b[0m\u001b[1;33m)\u001b[0m\u001b[1;33m\u001b[0m\u001b[0m\n\u001b[0m\u001b[0;32m    196\u001b[0m         \u001b[1;32mfinally\u001b[0m\u001b[1;33m:\u001b[0m\u001b[1;33m\u001b[0m\u001b[0m\n\u001b[0;32m    197\u001b[0m             \u001b[1;32mif\u001b[0m \u001b[0mgcold\u001b[0m\u001b[1;33m:\u001b[0m\u001b[1;33m\u001b[0m\u001b[0m\n",
        "\u001b[1;32m/raid/development/cdeboever/software/anaconda1.9.1/envs/pptmut/lib/python2.7/timeit.pyc\u001b[0m in \u001b[0;36minner\u001b[1;34m(_it, _timer)\u001b[0m\n",
        "\u001b[1;32m<ipython-input-12-109531256fbf>\u001b[0m in \u001b[0;36mreads_from_intervals_parallel\u001b[1;34m(bam, intervals, dview)\u001b[0m\n\u001b[0;32m     15\u001b[0m                                 'ints_{}.bam'.format(t))\n\u001b[0;32m     16\u001b[0m     r = dview.push(dict(single_interval_reads=single_interval_reads,\n\u001b[1;32m---> 17\u001b[1;33m                     bam=bam))\n\u001b[0m\u001b[0;32m     18\u001b[0m     se = (intervals[0] + ':' + \n\u001b[0;32m     19\u001b[0m           \u001b[0mintervals\u001b[0m\u001b[1;33m[\u001b[0m\u001b[1;36m1\u001b[0m\u001b[1;33m]\u001b[0m\u001b[1;33m.\u001b[0m\u001b[0mastype\u001b[0m\u001b[1;33m(\u001b[0m\u001b[0mstr\u001b[0m\u001b[1;33m)\u001b[0m \u001b[1;33m+\u001b[0m \u001b[1;34m'-'\u001b[0m \u001b[1;33m+\u001b[0m\u001b[1;33m\u001b[0m\u001b[0m\n",
        "\u001b[1;32m/raid/development/cdeboever/software/anaconda1.9.1/envs/pptmut/lib/python2.7/site-packages/IPython/parallel/client/view.pyc\u001b[0m in \u001b[0;36mpush\u001b[1;34m(self, ns, targets, block, track)\u001b[0m\n\u001b[0;32m    709\u001b[0m         \u001b[1;32mif\u001b[0m \u001b[1;32mnot\u001b[0m \u001b[0misinstance\u001b[0m\u001b[1;33m(\u001b[0m\u001b[0mns\u001b[0m\u001b[1;33m,\u001b[0m \u001b[0mdict\u001b[0m\u001b[1;33m)\u001b[0m\u001b[1;33m:\u001b[0m\u001b[1;33m\u001b[0m\u001b[0m\n\u001b[0;32m    710\u001b[0m             \u001b[1;32mraise\u001b[0m \u001b[0mTypeError\u001b[0m\u001b[1;33m(\u001b[0m\u001b[1;34m\"Must be a dict, not %s\"\u001b[0m\u001b[1;33m%\u001b[0m\u001b[0mtype\u001b[0m\u001b[1;33m(\u001b[0m\u001b[0mns\u001b[0m\u001b[1;33m)\u001b[0m\u001b[1;33m)\u001b[0m\u001b[1;33m\u001b[0m\u001b[0m\n\u001b[1;32m--> 711\u001b[1;33m         \u001b[1;32mreturn\u001b[0m \u001b[0mself\u001b[0m\u001b[1;33m.\u001b[0m\u001b[0m_really_apply\u001b[0m\u001b[1;33m(\u001b[0m\u001b[0mutil\u001b[0m\u001b[1;33m.\u001b[0m\u001b[0m_push\u001b[0m\u001b[1;33m,\u001b[0m \u001b[0mkwargs\u001b[0m\u001b[1;33m=\u001b[0m\u001b[0mns\u001b[0m\u001b[1;33m,\u001b[0m \u001b[0mblock\u001b[0m\u001b[1;33m=\u001b[0m\u001b[0mblock\u001b[0m\u001b[1;33m,\u001b[0m \u001b[0mtrack\u001b[0m\u001b[1;33m=\u001b[0m\u001b[0mtrack\u001b[0m\u001b[1;33m,\u001b[0m \u001b[0mtargets\u001b[0m\u001b[1;33m=\u001b[0m\u001b[0mtargets\u001b[0m\u001b[1;33m)\u001b[0m\u001b[1;33m\u001b[0m\u001b[0m\n\u001b[0m\u001b[0;32m    712\u001b[0m \u001b[1;33m\u001b[0m\u001b[0m\n\u001b[0;32m    713\u001b[0m     \u001b[1;32mdef\u001b[0m \u001b[0mget\u001b[0m\u001b[1;33m(\u001b[0m\u001b[0mself\u001b[0m\u001b[1;33m,\u001b[0m \u001b[0mkey_s\u001b[0m\u001b[1;33m)\u001b[0m\u001b[1;33m:\u001b[0m\u001b[1;33m\u001b[0m\u001b[0m\n",
        "\u001b[1;32m/raid/development/cdeboever/software/anaconda1.9.1/envs/pptmut/lib/python2.7/site-packages/IPython/parallel/client/view.pyc\u001b[0m in \u001b[0;36m_really_apply\u001b[1;34m(self, f, args, kwargs, targets, block, track)\u001b[0m\n",
        "\u001b[1;32m/raid/development/cdeboever/software/anaconda1.9.1/envs/pptmut/lib/python2.7/site-packages/IPython/parallel/client/view.pyc\u001b[0m in \u001b[0;36msync_results\u001b[1;34m(f, self, *args, **kwargs)\u001b[0m\n\u001b[0;32m     64\u001b[0m     \u001b[0mself\u001b[0m\u001b[1;33m.\u001b[0m\u001b[0m_in_sync_results\u001b[0m \u001b[1;33m=\u001b[0m \u001b[0mTrue\u001b[0m\u001b[1;33m\u001b[0m\u001b[0m\n\u001b[0;32m     65\u001b[0m     \u001b[1;32mtry\u001b[0m\u001b[1;33m:\u001b[0m\u001b[1;33m\u001b[0m\u001b[0m\n\u001b[1;32m---> 66\u001b[1;33m         \u001b[0mret\u001b[0m \u001b[1;33m=\u001b[0m \u001b[0mf\u001b[0m\u001b[1;33m(\u001b[0m\u001b[0mself\u001b[0m\u001b[1;33m,\u001b[0m \u001b[1;33m*\u001b[0m\u001b[0margs\u001b[0m\u001b[1;33m,\u001b[0m \u001b[1;33m**\u001b[0m\u001b[0mkwargs\u001b[0m\u001b[1;33m)\u001b[0m\u001b[1;33m\u001b[0m\u001b[0m\n\u001b[0m\u001b[0;32m     67\u001b[0m     \u001b[1;32mfinally\u001b[0m\u001b[1;33m:\u001b[0m\u001b[1;33m\u001b[0m\u001b[0m\n\u001b[0;32m     68\u001b[0m         \u001b[0mself\u001b[0m\u001b[1;33m.\u001b[0m\u001b[0m_in_sync_results\u001b[0m \u001b[1;33m=\u001b[0m \u001b[0mFalse\u001b[0m\u001b[1;33m\u001b[0m\u001b[0m\n",
        "\u001b[1;32m/raid/development/cdeboever/software/anaconda1.9.1/envs/pptmut/lib/python2.7/site-packages/IPython/parallel/client/view.pyc\u001b[0m in \u001b[0;36m_really_apply\u001b[1;34m(self, f, args, kwargs, targets, block, track)\u001b[0m\n",
        "\u001b[1;32m/raid/development/cdeboever/software/anaconda1.9.1/envs/pptmut/lib/python2.7/site-packages/IPython/parallel/client/view.pyc\u001b[0m in \u001b[0;36msave_ids\u001b[1;34m(f, self, *args, **kwargs)\u001b[0m\n\u001b[0;32m     49\u001b[0m     \u001b[0mn_previous\u001b[0m \u001b[1;33m=\u001b[0m \u001b[0mlen\u001b[0m\u001b[1;33m(\u001b[0m\u001b[0mself\u001b[0m\u001b[1;33m.\u001b[0m\u001b[0mclient\u001b[0m\u001b[1;33m.\u001b[0m\u001b[0mhistory\u001b[0m\u001b[1;33m)\u001b[0m\u001b[1;33m\u001b[0m\u001b[0m\n\u001b[0;32m     50\u001b[0m     \u001b[1;32mtry\u001b[0m\u001b[1;33m:\u001b[0m\u001b[1;33m\u001b[0m\u001b[0m\n\u001b[1;32m---> 51\u001b[1;33m         \u001b[0mret\u001b[0m \u001b[1;33m=\u001b[0m \u001b[0mf\u001b[0m\u001b[1;33m(\u001b[0m\u001b[0mself\u001b[0m\u001b[1;33m,\u001b[0m \u001b[1;33m*\u001b[0m\u001b[0margs\u001b[0m\u001b[1;33m,\u001b[0m \u001b[1;33m**\u001b[0m\u001b[0mkwargs\u001b[0m\u001b[1;33m)\u001b[0m\u001b[1;33m\u001b[0m\u001b[0m\n\u001b[0m\u001b[0;32m     52\u001b[0m     \u001b[1;32mfinally\u001b[0m\u001b[1;33m:\u001b[0m\u001b[1;33m\u001b[0m\u001b[0m\n\u001b[0;32m     53\u001b[0m         \u001b[0mnmsgs\u001b[0m \u001b[1;33m=\u001b[0m \u001b[0mlen\u001b[0m\u001b[1;33m(\u001b[0m\u001b[0mself\u001b[0m\u001b[1;33m.\u001b[0m\u001b[0mclient\u001b[0m\u001b[1;33m.\u001b[0m\u001b[0mhistory\u001b[0m\u001b[1;33m)\u001b[0m \u001b[1;33m-\u001b[0m \u001b[0mn_previous\u001b[0m\u001b[1;33m\u001b[0m\u001b[0m\n",
        "\u001b[1;32m/raid/development/cdeboever/software/anaconda1.9.1/envs/pptmut/lib/python2.7/site-packages/IPython/parallel/client/view.pyc\u001b[0m in \u001b[0;36m_really_apply\u001b[1;34m(self, f, args, kwargs, targets, block, track)\u001b[0m\n\u001b[0;32m    575\u001b[0m         \u001b[1;32mif\u001b[0m \u001b[0mblock\u001b[0m\u001b[1;33m:\u001b[0m\u001b[1;33m\u001b[0m\u001b[0m\n\u001b[0;32m    576\u001b[0m             \u001b[1;32mtry\u001b[0m\u001b[1;33m:\u001b[0m\u001b[1;33m\u001b[0m\u001b[0m\n\u001b[1;32m--> 577\u001b[1;33m                 \u001b[1;32mreturn\u001b[0m \u001b[0mar\u001b[0m\u001b[1;33m.\u001b[0m\u001b[0mget\u001b[0m\u001b[1;33m(\u001b[0m\u001b[1;33m)\u001b[0m\u001b[1;33m\u001b[0m\u001b[0m\n\u001b[0m\u001b[0;32m    578\u001b[0m             \u001b[1;32mexcept\u001b[0m \u001b[0mKeyboardInterrupt\u001b[0m\u001b[1;33m:\u001b[0m\u001b[1;33m\u001b[0m\u001b[0m\n\u001b[0;32m    579\u001b[0m                 \u001b[1;32mpass\u001b[0m\u001b[1;33m\u001b[0m\u001b[0m\n",
        "\u001b[1;32m/raid/development/cdeboever/software/anaconda1.9.1/envs/pptmut/lib/python2.7/site-packages/IPython/parallel/client/asyncresult.pyc\u001b[0m in \u001b[0;36mget\u001b[1;34m(self, timeout)\u001b[0m\n\u001b[0;32m    109\u001b[0m         \u001b[0mby\u001b[0m \u001b[0mget\u001b[0m\u001b[1;33m(\u001b[0m\u001b[1;33m)\u001b[0m \u001b[0minside\u001b[0m \u001b[0ma\u001b[0m \u001b[1;33m`\u001b[0m\u001b[0mRemoteError\u001b[0m\u001b[1;33m`\u001b[0m\u001b[1;33m.\u001b[0m\u001b[1;33m\u001b[0m\u001b[0m\n\u001b[0;32m    110\u001b[0m         \"\"\"\n\u001b[1;32m--> 111\u001b[1;33m         \u001b[1;32mif\u001b[0m \u001b[1;32mnot\u001b[0m \u001b[0mself\u001b[0m\u001b[1;33m.\u001b[0m\u001b[0mready\u001b[0m\u001b[1;33m(\u001b[0m\u001b[1;33m)\u001b[0m\u001b[1;33m:\u001b[0m\u001b[1;33m\u001b[0m\u001b[0m\n\u001b[0m\u001b[0;32m    112\u001b[0m             \u001b[0mself\u001b[0m\u001b[1;33m.\u001b[0m\u001b[0mwait\u001b[0m\u001b[1;33m(\u001b[0m\u001b[0mtimeout\u001b[0m\u001b[1;33m)\u001b[0m\u001b[1;33m\u001b[0m\u001b[0m\n\u001b[0;32m    113\u001b[0m \u001b[1;33m\u001b[0m\u001b[0m\n",
        "\u001b[1;32m/raid/development/cdeboever/software/anaconda1.9.1/envs/pptmut/lib/python2.7/site-packages/IPython/parallel/client/asyncresult.pyc\u001b[0m in \u001b[0;36mready\u001b[1;34m(self)\u001b[0m\n\u001b[0;32m    127\u001b[0m         \u001b[1;34m\"\"\"Return whether the call has completed.\"\"\"\u001b[0m\u001b[1;33m\u001b[0m\u001b[0m\n\u001b[0;32m    128\u001b[0m         \u001b[1;32mif\u001b[0m \u001b[1;32mnot\u001b[0m \u001b[0mself\u001b[0m\u001b[1;33m.\u001b[0m\u001b[0m_ready\u001b[0m\u001b[1;33m:\u001b[0m\u001b[1;33m\u001b[0m\u001b[0m\n\u001b[1;32m--> 129\u001b[1;33m             \u001b[0mself\u001b[0m\u001b[1;33m.\u001b[0m\u001b[0mwait\u001b[0m\u001b[1;33m(\u001b[0m\u001b[1;36m0\u001b[0m\u001b[1;33m)\u001b[0m\u001b[1;33m\u001b[0m\u001b[0m\n\u001b[0m\u001b[0;32m    130\u001b[0m         \u001b[1;32melif\u001b[0m \u001b[1;32mnot\u001b[0m \u001b[0mself\u001b[0m\u001b[1;33m.\u001b[0m\u001b[0m_outputs_ready\u001b[0m\u001b[1;33m:\u001b[0m\u001b[1;33m\u001b[0m\u001b[0m\n\u001b[0;32m    131\u001b[0m             \u001b[0mself\u001b[0m\u001b[1;33m.\u001b[0m\u001b[0m_wait_for_outputs\u001b[0m\u001b[1;33m(\u001b[0m\u001b[1;36m0\u001b[0m\u001b[1;33m)\u001b[0m\u001b[1;33m\u001b[0m\u001b[0m\n",
        "\u001b[1;32m/raid/development/cdeboever/software/anaconda1.9.1/envs/pptmut/lib/python2.7/site-packages/IPython/parallel/client/asyncresult.pyc\u001b[0m in \u001b[0;36mwait\u001b[1;34m(self, timeout)\u001b[0m\n\u001b[0;32m    141\u001b[0m             \u001b[0mself\u001b[0m\u001b[1;33m.\u001b[0m\u001b[0m_wait_for_outputs\u001b[0m\u001b[1;33m(\u001b[0m\u001b[0mtimeout\u001b[0m\u001b[1;33m)\u001b[0m\u001b[1;33m\u001b[0m\u001b[0m\n\u001b[0;32m    142\u001b[0m             \u001b[1;32mreturn\u001b[0m\u001b[1;33m\u001b[0m\u001b[0m\n\u001b[1;32m--> 143\u001b[1;33m         \u001b[0mself\u001b[0m\u001b[1;33m.\u001b[0m\u001b[0m_ready\u001b[0m \u001b[1;33m=\u001b[0m \u001b[0mself\u001b[0m\u001b[1;33m.\u001b[0m\u001b[0m_client\u001b[0m\u001b[1;33m.\u001b[0m\u001b[0mwait\u001b[0m\u001b[1;33m(\u001b[0m\u001b[0mself\u001b[0m\u001b[1;33m.\u001b[0m\u001b[0mmsg_ids\u001b[0m\u001b[1;33m,\u001b[0m \u001b[0mtimeout\u001b[0m\u001b[1;33m)\u001b[0m\u001b[1;33m\u001b[0m\u001b[0m\n\u001b[0m\u001b[0;32m    144\u001b[0m         \u001b[1;32mif\u001b[0m \u001b[0mself\u001b[0m\u001b[1;33m.\u001b[0m\u001b[0m_ready\u001b[0m\u001b[1;33m:\u001b[0m\u001b[1;33m\u001b[0m\u001b[0m\n\u001b[0;32m    145\u001b[0m             \u001b[1;32mtry\u001b[0m\u001b[1;33m:\u001b[0m\u001b[1;33m\u001b[0m\u001b[0m\n",
        "\u001b[1;32m/raid/development/cdeboever/software/anaconda1.9.1/envs/pptmut/lib/python2.7/site-packages/IPython/parallel/client/client.pyc\u001b[0m in \u001b[0;36mwait\u001b[1;34m(self, jobs, timeout)\u001b[0m\n\u001b[0;32m   1085\u001b[0m         \u001b[1;32mif\u001b[0m \u001b[1;32mnot\u001b[0m \u001b[0mtheids\u001b[0m\u001b[1;33m.\u001b[0m\u001b[0mintersection\u001b[0m\u001b[1;33m(\u001b[0m\u001b[0mself\u001b[0m\u001b[1;33m.\u001b[0m\u001b[0moutstanding\u001b[0m\u001b[1;33m)\u001b[0m\u001b[1;33m:\u001b[0m\u001b[1;33m\u001b[0m\u001b[0m\n\u001b[0;32m   1086\u001b[0m             \u001b[1;32mreturn\u001b[0m \u001b[0mTrue\u001b[0m\u001b[1;33m\u001b[0m\u001b[0m\n\u001b[1;32m-> 1087\u001b[1;33m         \u001b[0mself\u001b[0m\u001b[1;33m.\u001b[0m\u001b[0mspin\u001b[0m\u001b[1;33m(\u001b[0m\u001b[1;33m)\u001b[0m\u001b[1;33m\u001b[0m\u001b[0m\n\u001b[0m\u001b[0;32m   1088\u001b[0m         \u001b[1;32mwhile\u001b[0m \u001b[0mtheids\u001b[0m\u001b[1;33m.\u001b[0m\u001b[0mintersection\u001b[0m\u001b[1;33m(\u001b[0m\u001b[0mself\u001b[0m\u001b[1;33m.\u001b[0m\u001b[0moutstanding\u001b[0m\u001b[1;33m)\u001b[0m\u001b[1;33m:\u001b[0m\u001b[1;33m\u001b[0m\u001b[0m\n\u001b[0;32m   1089\u001b[0m             \u001b[1;32mif\u001b[0m \u001b[0mtimeout\u001b[0m \u001b[1;33m>=\u001b[0m \u001b[1;36m0\u001b[0m \u001b[1;32mand\u001b[0m \u001b[1;33m(\u001b[0m \u001b[0mtime\u001b[0m\u001b[1;33m.\u001b[0m\u001b[0mtime\u001b[0m\u001b[1;33m(\u001b[0m\u001b[1;33m)\u001b[0m\u001b[1;33m-\u001b[0m\u001b[0mtic\u001b[0m \u001b[1;33m)\u001b[0m \u001b[1;33m>\u001b[0m \u001b[0mtimeout\u001b[0m\u001b[1;33m:\u001b[0m\u001b[1;33m\u001b[0m\u001b[0m\n",
        "\u001b[1;32m/raid/development/cdeboever/software/anaconda1.9.1/envs/pptmut/lib/python2.7/site-packages/IPython/parallel/client/client.pyc\u001b[0m in \u001b[0;36mspin\u001b[1;34m(self)\u001b[0m\n\u001b[0;32m   1040\u001b[0m             \u001b[0mself\u001b[0m\u001b[1;33m.\u001b[0m\u001b[0m_flush_iopub\u001b[0m\u001b[1;33m(\u001b[0m\u001b[0mself\u001b[0m\u001b[1;33m.\u001b[0m\u001b[0m_iopub_socket\u001b[0m\u001b[1;33m)\u001b[0m\u001b[1;33m\u001b[0m\u001b[0m\n\u001b[0;32m   1041\u001b[0m         \u001b[1;32mif\u001b[0m \u001b[0mself\u001b[0m\u001b[1;33m.\u001b[0m\u001b[0m_mux_socket\u001b[0m\u001b[1;33m:\u001b[0m\u001b[1;33m\u001b[0m\u001b[0m\n\u001b[1;32m-> 1042\u001b[1;33m             \u001b[0mself\u001b[0m\u001b[1;33m.\u001b[0m\u001b[0m_flush_results\u001b[0m\u001b[1;33m(\u001b[0m\u001b[0mself\u001b[0m\u001b[1;33m.\u001b[0m\u001b[0m_mux_socket\u001b[0m\u001b[1;33m)\u001b[0m\u001b[1;33m\u001b[0m\u001b[0m\n\u001b[0m\u001b[0;32m   1043\u001b[0m         \u001b[1;32mif\u001b[0m \u001b[0mself\u001b[0m\u001b[1;33m.\u001b[0m\u001b[0m_task_socket\u001b[0m\u001b[1;33m:\u001b[0m\u001b[1;33m\u001b[0m\u001b[0m\n\u001b[0;32m   1044\u001b[0m             \u001b[0mself\u001b[0m\u001b[1;33m.\u001b[0m\u001b[0m_flush_results\u001b[0m\u001b[1;33m(\u001b[0m\u001b[0mself\u001b[0m\u001b[1;33m.\u001b[0m\u001b[0m_task_socket\u001b[0m\u001b[1;33m)\u001b[0m\u001b[1;33m\u001b[0m\u001b[0m\n",
        "\u001b[1;32m/raid/development/cdeboever/software/anaconda1.9.1/envs/pptmut/lib/python2.7/site-packages/IPython/parallel/client/client.pyc\u001b[0m in \u001b[0;36m_flush_results\u001b[1;34m(self, sock)\u001b[0m\n\u001b[0;32m    826\u001b[0m             \u001b[0mhandler\u001b[0m \u001b[1;33m=\u001b[0m \u001b[0mself\u001b[0m\u001b[1;33m.\u001b[0m\u001b[0m_queue_handlers\u001b[0m\u001b[1;33m.\u001b[0m\u001b[0mget\u001b[0m\u001b[1;33m(\u001b[0m\u001b[0mmsg_type\u001b[0m\u001b[1;33m,\u001b[0m \u001b[0mNone\u001b[0m\u001b[1;33m)\u001b[0m\u001b[1;33m\u001b[0m\u001b[0m\n\u001b[0;32m    827\u001b[0m             \u001b[1;32mif\u001b[0m \u001b[0mhandler\u001b[0m \u001b[1;32mis\u001b[0m \u001b[0mNone\u001b[0m\u001b[1;33m:\u001b[0m\u001b[1;33m\u001b[0m\u001b[0m\n\u001b[1;32m--> 828\u001b[1;33m                 \u001b[1;32mraise\u001b[0m \u001b[0mException\u001b[0m\u001b[1;33m(\u001b[0m\u001b[1;34m\"Unhandled message type: %s\"\u001b[0m \u001b[1;33m%\u001b[0m \u001b[0mmsg_type\u001b[0m\u001b[1;33m)\u001b[0m\u001b[1;33m\u001b[0m\u001b[0m\n\u001b[0m\u001b[0;32m    829\u001b[0m             \u001b[1;32melse\u001b[0m\u001b[1;33m:\u001b[0m\u001b[1;33m\u001b[0m\u001b[0m\n\u001b[0;32m    830\u001b[0m                 \u001b[0mhandler\u001b[0m\u001b[1;33m(\u001b[0m\u001b[0mmsg\u001b[0m\u001b[1;33m)\u001b[0m\u001b[1;33m\u001b[0m\u001b[0m\n",
        "\u001b[1;31mException\u001b[0m: Unhandled message type: apply_request"
       ]
      }
     ],
     "prompt_number": 26
    },
    {
     "cell_type": "code",
     "collapsed": false,
     "input": [
      "res2"
     ],
     "language": "python",
     "metadata": {},
     "outputs": [
      {
       "html": [
        "<div style=\"max-height:1000px;max-width:1500px;overflow:auto;\">\n",
        "<table border=\"1\" class=\"dataframe\">\n",
        "  <thead>\n",
        "    <tr style=\"text-align: right;\">\n",
        "      <th></th>\n",
        "      <th>6f325ae2-9902-43c3-a0e5-3ec11568f154</th>\n",
        "      <th>80bc7e87-66c7-4f6b-8944-bd13c332d141</th>\n",
        "      <th>55fcd2f6-6aec-4123-86df-dfcf875b6ca1</th>\n",
        "      <th>0db10b7c-ce59-473a-9243-837d41122276</th>\n",
        "      <th>8b88caf6-9485-40e3-80c5-8bc7267fe47e</th>\n",
        "    </tr>\n",
        "  </thead>\n",
        "  <tbody>\n",
        "    <tr>\n",
        "      <th>50 </th>\n",
        "      <td> 27.844080</td>\n",
        "      <td> 24.652423</td>\n",
        "      <td> 12.854212</td>\n",
        "      <td> 12.520006</td>\n",
        "      <td> 20.345792</td>\n",
        "    </tr>\n",
        "    <tr>\n",
        "      <th>75 </th>\n",
        "      <td>  7.230933</td>\n",
        "      <td>  7.776606</td>\n",
        "      <td>  4.637523</td>\n",
        "      <td>  7.415271</td>\n",
        "      <td> 10.111769</td>\n",
        "    </tr>\n",
        "    <tr>\n",
        "      <th>100</th>\n",
        "      <td> 11.992978</td>\n",
        "      <td> 10.809292</td>\n",
        "      <td>  6.110746</td>\n",
        "      <td>  5.596121</td>\n",
        "      <td>  8.053504</td>\n",
        "    </tr>\n",
        "    <tr>\n",
        "      <th>150</th>\n",
        "      <td> 22.595124</td>\n",
        "      <td> 14.076265</td>\n",
        "      <td> 11.261281</td>\n",
        "      <td> 10.732991</td>\n",
        "      <td> 14.108255</td>\n",
        "    </tr>\n",
        "    <tr>\n",
        "      <th>200</th>\n",
        "      <td> 17.584233</td>\n",
        "      <td> 18.499829</td>\n",
        "      <td> 10.833067</td>\n",
        "      <td> 11.995361</td>\n",
        "      <td> 19.648252</td>\n",
        "    </tr>\n",
        "    <tr>\n",
        "      <th>300</th>\n",
        "      <td> 29.778376</td>\n",
        "      <td> 37.954866</td>\n",
        "      <td> 18.887032</td>\n",
        "      <td> 19.637544</td>\n",
        "      <td> 32.483443</td>\n",
        "    </tr>\n",
        "  </tbody>\n",
        "</table>\n",
        "</div>"
       ],
       "metadata": {},
       "output_type": "pyout",
       "prompt_number": 20,
       "text": [
        "     6f325ae2-9902-43c3-a0e5-3ec11568f154  \\\n",
        "50                              27.844080   \n",
        "75                               7.230933   \n",
        "100                             11.992978   \n",
        "150                             22.595124   \n",
        "200                             17.584233   \n",
        "300                             29.778376   \n",
        "\n",
        "     80bc7e87-66c7-4f6b-8944-bd13c332d141  \\\n",
        "50                              24.652423   \n",
        "75                               7.776606   \n",
        "100                             10.809292   \n",
        "150                             14.076265   \n",
        "200                             18.499829   \n",
        "300                             37.954866   \n",
        "\n",
        "     55fcd2f6-6aec-4123-86df-dfcf875b6ca1  \\\n",
        "50                              12.854212   \n",
        "75                               4.637523   \n",
        "100                              6.110746   \n",
        "150                             11.261281   \n",
        "200                             10.833067   \n",
        "300                             18.887032   \n",
        "\n",
        "     0db10b7c-ce59-473a-9243-837d41122276  \\\n",
        "50                              12.520006   \n",
        "75                               7.415271   \n",
        "100                              5.596121   \n",
        "150                             10.732991   \n",
        "200                             11.995361   \n",
        "300                             19.637544   \n",
        "\n",
        "     8b88caf6-9485-40e3-80c5-8bc7267fe47e  \n",
        "50                              20.345792  \n",
        "75                              10.111769  \n",
        "100                              8.053504  \n",
        "150                             14.108255  \n",
        "200                             19.648252  \n",
        "300                             32.483443  "
       ]
      }
     ],
     "prompt_number": 20
    },
    {
     "cell_type": "code",
     "collapsed": false,
     "input": [
      "res1"
     ],
     "language": "python",
     "metadata": {},
     "outputs": [
      {
       "html": [
        "<div style=\"max-height:1000px;max-width:1500px;overflow:auto;\">\n",
        "<table border=\"1\" class=\"dataframe\">\n",
        "  <thead>\n",
        "    <tr style=\"text-align: right;\">\n",
        "      <th></th>\n",
        "      <th>6f325ae2-9902-43c3-a0e5-3ec11568f154</th>\n",
        "      <th>80bc7e87-66c7-4f6b-8944-bd13c332d141</th>\n",
        "      <th>55fcd2f6-6aec-4123-86df-dfcf875b6ca1</th>\n",
        "      <th>0db10b7c-ce59-473a-9243-837d41122276</th>\n",
        "      <th>8b88caf6-9485-40e3-80c5-8bc7267fe47e</th>\n",
        "    </tr>\n",
        "  </thead>\n",
        "  <tbody>\n",
        "    <tr>\n",
        "      <th>50 </th>\n",
        "      <td> 0.631060</td>\n",
        "      <td> 0.720918</td>\n",
        "      <td> 0.261316</td>\n",
        "      <td> 0.261587</td>\n",
        "      <td> 0.805100</td>\n",
        "    </tr>\n",
        "    <tr>\n",
        "      <th>75 </th>\n",
        "      <td> 0.980262</td>\n",
        "      <td> 1.118956</td>\n",
        "      <td> 0.330663</td>\n",
        "      <td> 0.328623</td>\n",
        "      <td> 1.251672</td>\n",
        "    </tr>\n",
        "    <tr>\n",
        "      <th>100</th>\n",
        "      <td> 1.302335</td>\n",
        "      <td> 1.390974</td>\n",
        "      <td> 0.387949</td>\n",
        "      <td> 0.381958</td>\n",
        "      <td> 1.594234</td>\n",
        "    </tr>\n",
        "    <tr>\n",
        "      <th>150</th>\n",
        "      <td> 1.799912</td>\n",
        "      <td> 1.901883</td>\n",
        "      <td> 0.468019</td>\n",
        "      <td> 0.473769</td>\n",
        "      <td> 2.216946</td>\n",
        "    </tr>\n",
        "    <tr>\n",
        "      <th>200</th>\n",
        "      <td> 2.272884</td>\n",
        "      <td> 2.343580</td>\n",
        "      <td> 0.579278</td>\n",
        "      <td> 0.573533</td>\n",
        "      <td> 2.719167</td>\n",
        "    </tr>\n",
        "    <tr>\n",
        "      <th>300</th>\n",
        "      <td> 3.510147</td>\n",
        "      <td> 3.545239</td>\n",
        "      <td> 0.829361</td>\n",
        "      <td> 0.808338</td>\n",
        "      <td> 3.737920</td>\n",
        "    </tr>\n",
        "  </tbody>\n",
        "</table>\n",
        "</div>"
       ],
       "metadata": {},
       "output_type": "pyout",
       "prompt_number": 28,
       "text": [
        "     6f325ae2-9902-43c3-a0e5-3ec11568f154  \\\n",
        "50                               0.631060   \n",
        "75                               0.980262   \n",
        "100                              1.302335   \n",
        "150                              1.799912   \n",
        "200                              2.272884   \n",
        "300                              3.510147   \n",
        "\n",
        "     80bc7e87-66c7-4f6b-8944-bd13c332d141  \\\n",
        "50                               0.720918   \n",
        "75                               1.118956   \n",
        "100                              1.390974   \n",
        "150                              1.901883   \n",
        "200                              2.343580   \n",
        "300                              3.545239   \n",
        "\n",
        "     55fcd2f6-6aec-4123-86df-dfcf875b6ca1  \\\n",
        "50                               0.261316   \n",
        "75                               0.330663   \n",
        "100                              0.387949   \n",
        "150                              0.468019   \n",
        "200                              0.579278   \n",
        "300                              0.829361   \n",
        "\n",
        "     0db10b7c-ce59-473a-9243-837d41122276  \\\n",
        "50                               0.261587   \n",
        "75                               0.328623   \n",
        "100                              0.381958   \n",
        "150                              0.473769   \n",
        "200                              0.573533   \n",
        "300                              0.808338   \n",
        "\n",
        "     8b88caf6-9485-40e3-80c5-8bc7267fe47e  \n",
        "50                               0.805100  \n",
        "75                               1.251672  \n",
        "100                              1.594234  \n",
        "150                              2.216946  \n",
        "200                              2.719167  \n",
        "300                              3.737920  "
       ]
      }
     ],
     "prompt_number": 28
    },
    {
     "cell_type": "code",
     "collapsed": false,
     "input": [
      "bb = reads_from_intervals(bam, intervals.head(20), max_intervals=4000)"
     ],
     "language": "python",
     "metadata": {},
     "outputs": [],
     "prompt_number": 75
    },
    {
     "cell_type": "code",
     "collapsed": false,
     "input": [
      "bb"
     ],
     "language": "python",
     "metadata": {},
     "outputs": [
      {
       "metadata": {},
       "output_type": "pyout",
       "prompt_number": 76,
       "text": [
        "'/tmp/c398335a-a306-4595-aa75-53d7de7fec84_2014_08_13_14_46_03/ints.bam'"
       ]
      }
     ],
     "prompt_number": 76
    }
   ],
   "metadata": {}
  }
 ]
}