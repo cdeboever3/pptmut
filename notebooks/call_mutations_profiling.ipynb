{
 "metadata": {
  "name": "",
  "signature": "sha256:434ad1a25ce8157eec453d74fdcb8a992d1cc44c4eb24a3003f6e726a5dc73d7"
 },
 "nbformat": 3,
 "nbformat_minor": 0,
 "worksheets": [
  {
   "cells": [
    {
     "cell_type": "markdown",
     "metadata": {},
     "source": [
      "# Call Mutations\n",
      "\n",
      "In this notebook, I will grab read data from the \n",
      "TCGA using GTFuse and call mutations.\n",
      "\n",
      "### Extra dependencies\n",
      "\n",
      "TODO: Finish this when done. What are all the dependencies?\n",
      "\n",
      "You'll need muTect in the `software` directory\n",
      "and samtools and GTFuse in your path.\n",
      "\n",
      "This is Matteo's call to muTect:\n",
      "\n",
      "    /usr/lib64/jvm/java-1.6.0/bin/java -jar /raid/software/src/muTect-1.1.4/muTect-1.1.4.jar \\\n",
      "     -T              MuTect \\\n",
      "     -L              REGION \\\n",
      "     -R              /raid/references-and-indexes/GRCh37/GRCh37-lite.fa \\\n",
      "     --dbsnp         /raid/databases/snp/dbsnp_137.hg19_lite_noCHR.vcf \\\n",
      "     -I:normal       RAID/samples/BARCODE/BARCODE-N.REGION_ID.bam \\\n",
      "     -I:tumor        RAID/samples/BARCODE/BARCODE-T.REGION_ID.bam \\\n",
      "     --out           RAID/samples/BARCODE/BARCODE.REGION_ID.out \\\n",
      "     --coverage_file RAID/samples/BARCODE/BARCODE.REGION_ID.wig.txt &\n",
      "     \n",
      "Here's mine:\n",
      "\n",
      "    /usr/lib64/jvm/java-1.6.0/bin/java -jar /raid2/projects/pptmut/pptmut/software/muTect/muTect-1.1.4.jar \\\n",
      "     -T              MuTect \\\n",
      "     -L              ints.bed \\\n",
      "     -R              /raid2/projects/pptmut/pptmut/external_data/GRCh37/GRCh37-lite.fa \\\n",
      "     --dbsnp         /raid2/projects/pptmut/pptmut/external_data/dbsnp/All.vcf \\\n",
      "     --cosmic        /raid2/projects/pptmut/pptmut/external_data/cosmic/cosmic_all.vcf \\\n",
      "     -I:normal       normal_sorted.bam \\\n",
      "     -I:tumor        tumor_sorted.bam \\\n",
      "     --out           test.out \\\n",
      "     --coverage_file test.wig\n",
      "     \n",
      "[This page](http://www.broadinstitute.org/cancer/cga/mutect_run) has information\n",
      "about running muTect, the output, etc."
     ]
    },
    {
     "cell_type": "code",
     "collapsed": false,
     "input": [
      "import glob\n",
      "import os\n",
      "import subprocess\n",
      "import time\n",
      "from timeit import repeat\n",
      "\n",
      "import numpy as np\n",
      "import pandas as pd\n",
      "import seaborn as sns\n",
      "\n",
      "import projectpy as ppy\n",
      "\n",
      "%matplotlib inline"
     ],
     "language": "python",
     "metadata": {},
     "outputs": [],
     "prompt_number": 5
    },
    {
     "cell_type": "code",
     "collapsed": false,
     "input": [
      "samples = pd.read_table(ppy.target_samples,\n",
      "                        index_col=0, header=0)\n",
      "\n",
      "intervals = pd.read_table(ppy.target_intervals_merged,\n",
      "                          index_col=None, header=None)\n",
      "\n",
      "def mount_bam(analysis_id, mount_dir='/tmp'):\n",
      "    \"\"\"\n",
      "    Mount bam file for given analysis ID\n",
      "    \n",
      "    Creates a directory for this analysis ID in mount_dir and mounts \n",
      "    makes mnt and cache directories then mounts the bam file using \n",
      "    gtfuse. Returns bam file path.\n",
      "    \"\"\"\n",
      "    analysis_dir = '{}_{}'.format(analysis_id,\n",
      "                                  time.strftime('%Y_%m_%d_%H_%M_%S'))\n",
      "    mnt = os.path.join(mount_dir, analysis_dir, 'mnt')\n",
      "    os.makedirs(mnt)\n",
      "    os.makedirs(os.path.join(mount_dir, analysis_dir, 'cache'))\n",
      "    url = 'https://cghub.ucsc.edu/cghub/data/analysis/download/{}'.format(analysis_id)\n",
      "    subprocess.check_call(['gtfuse', \n",
      "                           '--ssl-no-verify-ca',\n",
      "                           url,\n",
      "                           mnt])\n",
      "    files = glob.glob('{}/{}/*'.format(mnt, analysis_id))\n",
      "    bam = [ x for x in files if os.path.splitext(x)[1] == '.bam' ][0]\n",
      "    return os.path.realpath(bam)\n",
      "    \n",
      "def unmount_bam(bam):\n",
      "    mnt = os.path.split(os.path.split(bam)[0])[0]\n",
      "    subprocess.call('fusermount -u {}'.format(mnt),\n",
      "                    shell=True)\n",
      "    os.rmdir(mnt)\n",
      "    os.rmdir(os.path.join(os.path.split(mnt)[0], 'cache'))\n",
      "    os.rmdir(os.path.split(mnt)[0])\n",
      "    \n",
      "def reads_from_intervals(bam, intervals, max_intervals=4000):\n",
      "    se = intervals[0] + ':' + intervals[1].astype(str) + '-' + intervals[2].astype(str)\n",
      "    ints = ' '.join(se)\n",
      "    ints_bam = os.path.join(os.path.split(os.path.split(os.path.split(bam)[0])[0])[0], \n",
      "                            'ints.bam')\n",
      "    subprocess.check_call('samtools view -b {} {} > {}'.format(bam, ints, ints_bam),\n",
      "                          shell=True)\n",
      "    return ints_bam\n",
      "\n",
      "def reads_from_intervals_individual_calls(bam, intervals):\n",
      "    se = intervals[0] + ':' + intervals[1].astype(str) + '-' + intervals[2].astype(str)\n",
      "    for i in se.values:\n",
      "        ints_bam = os.path.join(os.path.split(os.path.split(os.path.split(bam)[0])[0])[0], \n",
      "                                'ints_{}.bam'.format(i))\n",
      "        subprocess.check_call('samtools view -b {} {} > {}'.format(bam, i, ints_bam),\n",
      "                              shell=True)\n",
      "    return ints_bam"
     ],
     "language": "python",
     "metadata": {},
     "outputs": [],
     "prompt_number": 3
    },
    {
     "cell_type": "code",
     "collapsed": false,
     "input": [
      "intervals.shape"
     ],
     "language": "python",
     "metadata": {},
     "outputs": [
      {
       "metadata": {},
       "output_type": "pyout",
       "prompt_number": 4,
       "text": [
        "(6816, 3)"
       ]
      }
     ],
     "prompt_number": 4
    },
    {
     "cell_type": "code",
     "collapsed": false,
     "input": [
      "bam = mount_bam(samples.tumor_analysis_id[10])"
     ],
     "language": "python",
     "metadata": {},
     "outputs": [],
     "prompt_number": 7
    },
    {
     "cell_type": "markdown",
     "metadata": {},
     "source": [
      "I want to estimate how long it will take to get the reads from\n",
      "my intervals. I also want to know whether it's faster to do \n",
      "many calls with `samtools view` or just one call with all of the \n",
      "intervals at once. I'm guessing there isn't much difference there."
     ]
    },
    {
     "cell_type": "code",
     "collapsed": false,
     "input": [
      "num_ints = [50, 75, 100, 150, 200, 300, 500, 1000]\n",
      "results = []\n",
      "for i in num_ints:\n",
      "    rep = repeat(\"reads_from_intervals(bam, intervals.head({}))\".format(i), setup=\"from __main__ import reads_from_intervals, bam, intervals\", repeat=3, number=1)\n",
      "    results.append(rep)\n",
      "combined = pd.DataFrame(results, index=num_ints)\n",
      "combined_flat = pd.DataFrame([np.array([combined.index for x in combined.columns]).flatten(),\n",
      "                              combined.values.flatten()], index=['x','y']).T"
     ],
     "language": "python",
     "metadata": {},
     "outputs": [],
     "prompt_number": 8
    },
    {
     "cell_type": "code",
     "collapsed": false,
     "input": [
      "sns.lmplot('x', 'y', combined_flat)"
     ],
     "language": "python",
     "metadata": {},
     "outputs": [
      {
       "metadata": {},
       "output_type": "pyout",
       "prompt_number": 9,
       "text": [
        "<seaborn.axisgrid.FacetGrid at 0x7fdb8c006190>"
       ]
      },
      {
       "metadata": {},
       "output_type": "display_data",
       "png": "[encoded data removed]",
       "text": [
        "<matplotlib.figure.Figure at 0x7fdb8c006490>"
       ]
      }
     ],
     "prompt_number": 9
    },
    {
     "cell_type": "code",
     "collapsed": false,
     "input": [
      "combined"
     ],
     "language": "python",
     "metadata": {},
     "outputs": [
      {
       "html": [
        "<div style=\"max-height:1000px;max-width:1500px;overflow:auto;\">\n",
        "<table border=\"1\" class=\"dataframe\">\n",
        "  <thead>\n",
        "    <tr style=\"text-align: right;\">\n",
        "      <th></th>\n",
        "      <th>0</th>\n",
        "      <th>1</th>\n",
        "      <th>2</th>\n",
        "    </tr>\n",
        "  </thead>\n",
        "  <tbody>\n",
        "    <tr>\n",
        "      <th>50  </th>\n",
        "      <td>  27.885024</td>\n",
        "      <td> 0.305937</td>\n",
        "      <td> 0.315863</td>\n",
        "    </tr>\n",
        "    <tr>\n",
        "      <th>75  </th>\n",
        "      <td>   4.462064</td>\n",
        "      <td> 0.341330</td>\n",
        "      <td> 0.349890</td>\n",
        "    </tr>\n",
        "    <tr>\n",
        "      <th>100 </th>\n",
        "      <td>   4.312373</td>\n",
        "      <td> 0.423667</td>\n",
        "      <td> 0.419445</td>\n",
        "    </tr>\n",
        "    <tr>\n",
        "      <th>150 </th>\n",
        "      <td>  10.270264</td>\n",
        "      <td> 0.507785</td>\n",
        "      <td> 0.493884</td>\n",
        "    </tr>\n",
        "    <tr>\n",
        "      <th>200 </th>\n",
        "      <td>  12.943208</td>\n",
        "      <td> 0.624241</td>\n",
        "      <td> 0.585077</td>\n",
        "    </tr>\n",
        "    <tr>\n",
        "      <th>300 </th>\n",
        "      <td>  24.751661</td>\n",
        "      <td> 0.797123</td>\n",
        "      <td> 0.824087</td>\n",
        "    </tr>\n",
        "    <tr>\n",
        "      <th>500 </th>\n",
        "      <td>  31.571069</td>\n",
        "      <td> 5.145786</td>\n",
        "      <td> 1.374020</td>\n",
        "    </tr>\n",
        "    <tr>\n",
        "      <th>1000</th>\n",
        "      <td> 121.673140</td>\n",
        "      <td> 2.398516</td>\n",
        "      <td> 2.397850</td>\n",
        "    </tr>\n",
        "  </tbody>\n",
        "</table>\n",
        "</div>"
       ],
       "metadata": {},
       "output_type": "pyout",
       "prompt_number": 15,
       "text": [
        "               0         1         2\n",
        "50     27.885024  0.305937  0.315863\n",
        "75      4.462064  0.341330  0.349890\n",
        "100     4.312373  0.423667  0.419445\n",
        "150    10.270264  0.507785  0.493884\n",
        "200    12.943208  0.624241  0.585077\n",
        "300    24.751661  0.797123  0.824087\n",
        "500    31.571069  5.145786  1.374020\n",
        "1000  121.673140  2.398516  2.397850"
       ]
      }
     ],
     "prompt_number": 15
    },
    {
     "cell_type": "markdown",
     "metadata": {},
     "source": [
      "One thing I'm noticing is that the first try\n",
      "is much slower than the subsequent tries. Maybe\n",
      "multiple `samtools view` calls would be faster..."
     ]
    },
    {
     "cell_type": "code",
     "collapsed": false,
     "input": [
      "results = []\n",
      "for i in num_ints:\n",
      "    rep = repeat(\"reads_from_intervals_individual_calls(bam, intervals.head({}))\".format(i), setup=\"from __main__ import reads_from_intervals_individual_calls, bam, intervals\", repeat=3, number=1)\n",
      "    results.append(rep)\n",
      "individual = pd.DataFrame(results, index=num_ints)\n",
      "individual_flat = pd.DataFrame([np.array([individual.index for x in individual.columns]).flatten(),\n",
      "                                individual.values.flatten()], index=['x','y']).T"
     ],
     "language": "python",
     "metadata": {},
     "outputs": [],
     "prompt_number": 10
    },
    {
     "cell_type": "code",
     "collapsed": false,
     "input": [
      "sns.lmplot('x', 'y', individual_flat)"
     ],
     "language": "python",
     "metadata": {},
     "outputs": [
      {
       "metadata": {},
       "output_type": "pyout",
       "prompt_number": 11,
       "text": [
        "<seaborn.axisgrid.FacetGrid at 0x7fdb8c006310>"
       ]
      },
      {
       "metadata": {},
       "output_type": "display_data",
       "png": "[encoded data removed]",
       "text": [
        "<matplotlib.figure.Figure at 0x7fdb8bfa7150>"
       ]
      }
     ],
     "prompt_number": 11
    },
    {
     "cell_type": "code",
     "collapsed": false,
     "input": [
      "individual"
     ],
     "language": "python",
     "metadata": {},
     "outputs": [
      {
       "html": [
        "<div style=\"max-height:1000px;max-width:1500px;overflow:auto;\">\n",
        "<table border=\"1\" class=\"dataframe\">\n",
        "  <thead>\n",
        "    <tr style=\"text-align: right;\">\n",
        "      <th></th>\n",
        "      <th>0</th>\n",
        "      <th>1</th>\n",
        "      <th>2</th>\n",
        "    </tr>\n",
        "  </thead>\n",
        "  <tbody>\n",
        "    <tr>\n",
        "      <th>50  </th>\n",
        "      <td>   8.469028</td>\n",
        "      <td>   8.515835</td>\n",
        "      <td>   8.463145</td>\n",
        "    </tr>\n",
        "    <tr>\n",
        "      <th>75  </th>\n",
        "      <td>  12.728722</td>\n",
        "      <td>  12.524581</td>\n",
        "      <td>  12.698515</td>\n",
        "    </tr>\n",
        "    <tr>\n",
        "      <th>100 </th>\n",
        "      <td>  16.861958</td>\n",
        "      <td>  16.863357</td>\n",
        "      <td>  16.927088</td>\n",
        "    </tr>\n",
        "    <tr>\n",
        "      <th>150 </th>\n",
        "      <td>  25.313097</td>\n",
        "      <td>  25.008228</td>\n",
        "      <td>  24.958384</td>\n",
        "    </tr>\n",
        "    <tr>\n",
        "      <th>200 </th>\n",
        "      <td>  33.360000</td>\n",
        "      <td>  33.371194</td>\n",
        "      <td>  33.365943</td>\n",
        "    </tr>\n",
        "    <tr>\n",
        "      <th>300 </th>\n",
        "      <td>  49.902824</td>\n",
        "      <td>  49.959800</td>\n",
        "      <td>  50.104279</td>\n",
        "    </tr>\n",
        "    <tr>\n",
        "      <th>500 </th>\n",
        "      <td>  83.209232</td>\n",
        "      <td>  83.312311</td>\n",
        "      <td>  83.695967</td>\n",
        "    </tr>\n",
        "    <tr>\n",
        "      <th>1000</th>\n",
        "      <td> 166.841548</td>\n",
        "      <td> 167.035694</td>\n",
        "      <td> 177.025118</td>\n",
        "    </tr>\n",
        "  </tbody>\n",
        "</table>\n",
        "</div>"
       ],
       "metadata": {},
       "output_type": "pyout",
       "prompt_number": 16,
       "text": [
        "               0           1           2\n",
        "50      8.469028    8.515835    8.463145\n",
        "75     12.728722   12.524581   12.698515\n",
        "100    16.861958   16.863357   16.927088\n",
        "150    25.313097   25.008228   24.958384\n",
        "200    33.360000   33.371194   33.365943\n",
        "300    49.902824   49.959800   50.104279\n",
        "500    83.209232   83.312311   83.695967\n",
        "1000  166.841548  167.035694  177.025118"
       ]
      }
     ],
     "prompt_number": 16
    },
    {
     "cell_type": "code",
     "collapsed": false,
     "input": [
      "unmount_bam(bam)"
     ],
     "language": "python",
     "metadata": {},
     "outputs": [
      {
       "ename": "OSError",
       "evalue": "[Errno 2] No such file or directory: '/tmp/c398335a-a306-4595-aa75-53d7de7fec84_2014_08_07_08_38_05/mnt'",
       "output_type": "pyerr",
       "traceback": [
        "\u001b[1;31m---------------------------------------------------------------------------\u001b[0m\n\u001b[1;31mOSError\u001b[0m                                   Traceback (most recent call last)",
        "\u001b[1;32m<ipython-input-14-18a14513dba3>\u001b[0m in \u001b[0;36m<module>\u001b[1;34m()\u001b[0m\n\u001b[1;32m----> 1\u001b[1;33m \u001b[0munmount_bam\u001b[0m\u001b[1;33m(\u001b[0m\u001b[0mbam\u001b[0m\u001b[1;33m)\u001b[0m\u001b[1;33m\u001b[0m\u001b[0m\n\u001b[0m",
        "\u001b[1;32m<ipython-input-3-ad9dbc21f756>\u001b[0m in \u001b[0;36munmount_bam\u001b[1;34m(bam)\u001b[0m\n\u001b[0;32m     31\u001b[0m     subprocess.call('fusermount -u {}'.format(mnt),\n\u001b[0;32m     32\u001b[0m                     shell=True)\n\u001b[1;32m---> 33\u001b[1;33m     \u001b[0mos\u001b[0m\u001b[1;33m.\u001b[0m\u001b[0mrmdir\u001b[0m\u001b[1;33m(\u001b[0m\u001b[0mmnt\u001b[0m\u001b[1;33m)\u001b[0m\u001b[1;33m\u001b[0m\u001b[0m\n\u001b[0m\u001b[0;32m     34\u001b[0m     \u001b[0mos\u001b[0m\u001b[1;33m.\u001b[0m\u001b[0mrmdir\u001b[0m\u001b[1;33m(\u001b[0m\u001b[0mos\u001b[0m\u001b[1;33m.\u001b[0m\u001b[0mpath\u001b[0m\u001b[1;33m.\u001b[0m\u001b[0mjoin\u001b[0m\u001b[1;33m(\u001b[0m\u001b[0mos\u001b[0m\u001b[1;33m.\u001b[0m\u001b[0mpath\u001b[0m\u001b[1;33m.\u001b[0m\u001b[0msplit\u001b[0m\u001b[1;33m(\u001b[0m\u001b[0mmnt\u001b[0m\u001b[1;33m)\u001b[0m\u001b[1;33m[\u001b[0m\u001b[1;36m0\u001b[0m\u001b[1;33m]\u001b[0m\u001b[1;33m,\u001b[0m \u001b[1;34m'cache'\u001b[0m\u001b[1;33m)\u001b[0m\u001b[1;33m)\u001b[0m\u001b[1;33m\u001b[0m\u001b[0m\n\u001b[0;32m     35\u001b[0m     \u001b[0mos\u001b[0m\u001b[1;33m.\u001b[0m\u001b[0mrmdir\u001b[0m\u001b[1;33m(\u001b[0m\u001b[0mos\u001b[0m\u001b[1;33m.\u001b[0m\u001b[0mpath\u001b[0m\u001b[1;33m.\u001b[0m\u001b[0msplit\u001b[0m\u001b[1;33m(\u001b[0m\u001b[0mmnt\u001b[0m\u001b[1;33m)\u001b[0m\u001b[1;33m[\u001b[0m\u001b[1;36m0\u001b[0m\u001b[1;33m]\u001b[0m\u001b[1;33m)\u001b[0m\u001b[1;33m\u001b[0m\u001b[0m\n",
        "\u001b[1;31mOSError\u001b[0m: [Errno 2] No such file or directory: '/tmp/c398335a-a306-4595-aa75-53d7de7fec84_2014_08_07_08_38_05/mnt'"
       ]
      }
     ],
     "prompt_number": 14
    },
    {
     "cell_type": "code",
     "collapsed": false,
     "input": [],
     "language": "python",
     "metadata": {},
     "outputs": []
    }
   ],
   "metadata": {}
  }
 ]
}